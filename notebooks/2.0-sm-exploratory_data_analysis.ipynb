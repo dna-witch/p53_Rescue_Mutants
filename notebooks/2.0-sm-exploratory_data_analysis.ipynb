{
 "cells": [
  {
   "cell_type": "markdown",
   "metadata": {},
   "source": [
    "### Import necessary libraries"
   ]
  },
  {
   "cell_type": "code",
   "execution_count": 123,
   "metadata": {},
   "outputs": [],
   "source": [
    "import pandas as pd\n",
    "import numpy as np\n",
    "import os \n",
    "import seaborn as sns\n",
    "import statistics\n",
    "from sklearn.decomposition import PCA\n",
    "from sklearn.preprocessing import scale"
   ]
  },
  {
   "cell_type": "code",
   "execution_count": 2,
   "metadata": {},
   "outputs": [],
   "source": [
    "# enable mpld3 for this notebook, see documentation\n",
    "%matplotlib inline\n",
    "import matplotlib.pylab as plt\n",
    "import mpld3\n",
    "mpld3.enable_notebook()"
   ]
  },
  {
   "cell_type": "code",
   "execution_count": 3,
   "metadata": {},
   "outputs": [],
   "source": [
    "# import mpld3 modules\n",
    "from mpld3 import plugins, utils"
   ]
  },
  {
   "cell_type": "code",
   "execution_count": 4,
   "metadata": {},
   "outputs": [],
   "source": [
    "import re\n",
    "s = 'c141y_d228a_n235k_n239m'"
   ]
  },
  {
   "cell_type": "code",
   "execution_count": 5,
   "metadata": {},
   "outputs": [
    {
     "data": {
      "text/plain": [
       "['141', '228', '235', '239']"
      ]
     },
     "execution_count": 5,
     "metadata": {},
     "output_type": "execute_result"
    }
   ],
   "source": [
    "re.findall('[0-9]+',s) # example string matching"
   ]
  },
  {
   "cell_type": "markdown",
   "metadata": {},
   "source": [
    "### Load the cleaned dataset"
   ]
  },
  {
   "cell_type": "code",
   "execution_count": 6,
   "metadata": {},
   "outputs": [],
   "source": [
    "# load in dataset\n",
    "mutants = pd.read_csv('../data/interim/k8_clean_data.csv', header=None, low_memory=False)"
   ]
  },
  {
   "cell_type": "code",
   "execution_count": 7,
   "metadata": {
    "scrolled": true
   },
   "outputs": [
    {
     "data": {
      "text/html": [
       "<div>\n",
       "<style scoped>\n",
       "    .dataframe tbody tr th:only-of-type {\n",
       "        vertical-align: middle;\n",
       "    }\n",
       "\n",
       "    .dataframe tbody tr th {\n",
       "        vertical-align: top;\n",
       "    }\n",
       "\n",
       "    .dataframe thead th {\n",
       "        text-align: right;\n",
       "    }\n",
       "</style>\n",
       "<table border=\"1\" class=\"dataframe\">\n",
       "  <thead>\n",
       "    <tr style=\"text-align: right;\">\n",
       "      <th></th>\n",
       "      <th>0</th>\n",
       "      <th>1</th>\n",
       "      <th>2</th>\n",
       "      <th>3</th>\n",
       "      <th>4</th>\n",
       "      <th>5</th>\n",
       "      <th>6</th>\n",
       "      <th>7</th>\n",
       "      <th>8</th>\n",
       "      <th>9</th>\n",
       "      <th>...</th>\n",
       "      <th>5400</th>\n",
       "      <th>5401</th>\n",
       "      <th>5402</th>\n",
       "      <th>5403</th>\n",
       "      <th>5404</th>\n",
       "      <th>5405</th>\n",
       "      <th>5406</th>\n",
       "      <th>5407</th>\n",
       "      <th>5408</th>\n",
       "      <th>5409</th>\n",
       "    </tr>\n",
       "  </thead>\n",
       "  <tbody>\n",
       "    <tr>\n",
       "      <th>0</th>\n",
       "      <td>-0.161</td>\n",
       "      <td>-0.014</td>\n",
       "      <td>0.002</td>\n",
       "      <td>-0.036</td>\n",
       "      <td>-0.033</td>\n",
       "      <td>-0.093</td>\n",
       "      <td>0.025</td>\n",
       "      <td>0.005</td>\n",
       "      <td>0.000</td>\n",
       "      <td>-0.015</td>\n",
       "      <td>...</td>\n",
       "      <td>0.013</td>\n",
       "      <td>0.021</td>\n",
       "      <td>0.020</td>\n",
       "      <td>0.016</td>\n",
       "      <td>-0.011</td>\n",
       "      <td>0.003</td>\n",
       "      <td>0.010</td>\n",
       "      <td>-0.007</td>\n",
       "      <td>a119e_l125p</td>\n",
       "      <td>inactive</td>\n",
       "    </tr>\n",
       "    <tr>\n",
       "      <th>1</th>\n",
       "      <td>-0.158</td>\n",
       "      <td>-0.002</td>\n",
       "      <td>-0.012</td>\n",
       "      <td>-0.025</td>\n",
       "      <td>-0.012</td>\n",
       "      <td>-0.106</td>\n",
       "      <td>0.013</td>\n",
       "      <td>0.005</td>\n",
       "      <td>0.000</td>\n",
       "      <td>-0.002</td>\n",
       "      <td>...</td>\n",
       "      <td>-0.008</td>\n",
       "      <td>0.007</td>\n",
       "      <td>0.015</td>\n",
       "      <td>-0.008</td>\n",
       "      <td>-0.011</td>\n",
       "      <td>-0.004</td>\n",
       "      <td>0.013</td>\n",
       "      <td>0.005</td>\n",
       "      <td>a119e_r283k_a353v</td>\n",
       "      <td>inactive</td>\n",
       "    </tr>\n",
       "    <tr>\n",
       "      <th>2</th>\n",
       "      <td>-0.169</td>\n",
       "      <td>-0.025</td>\n",
       "      <td>-0.010</td>\n",
       "      <td>-0.041</td>\n",
       "      <td>-0.045</td>\n",
       "      <td>-0.069</td>\n",
       "      <td>0.038</td>\n",
       "      <td>0.014</td>\n",
       "      <td>0.008</td>\n",
       "      <td>-0.014</td>\n",
       "      <td>...</td>\n",
       "      <td>0.010</td>\n",
       "      <td>0.025</td>\n",
       "      <td>0.025</td>\n",
       "      <td>0.021</td>\n",
       "      <td>-0.012</td>\n",
       "      <td>0.006</td>\n",
       "      <td>0.016</td>\n",
       "      <td>-0.018</td>\n",
       "      <td>c135y</td>\n",
       "      <td>inactive</td>\n",
       "    </tr>\n",
       "    <tr>\n",
       "      <th>3</th>\n",
       "      <td>-0.183</td>\n",
       "      <td>-0.051</td>\n",
       "      <td>-0.023</td>\n",
       "      <td>-0.077</td>\n",
       "      <td>-0.092</td>\n",
       "      <td>-0.015</td>\n",
       "      <td>0.071</td>\n",
       "      <td>0.027</td>\n",
       "      <td>0.020</td>\n",
       "      <td>-0.019</td>\n",
       "      <td>...</td>\n",
       "      <td>0.012</td>\n",
       "      <td>0.050</td>\n",
       "      <td>0.038</td>\n",
       "      <td>0.051</td>\n",
       "      <td>-0.015</td>\n",
       "      <td>0.017</td>\n",
       "      <td>0.027</td>\n",
       "      <td>-0.049</td>\n",
       "      <td>c135y_e285m</td>\n",
       "      <td>inactive</td>\n",
       "    </tr>\n",
       "    <tr>\n",
       "      <th>4</th>\n",
       "      <td>-0.154</td>\n",
       "      <td>0.005</td>\n",
       "      <td>-0.011</td>\n",
       "      <td>-0.013</td>\n",
       "      <td>-0.002</td>\n",
       "      <td>-0.115</td>\n",
       "      <td>0.005</td>\n",
       "      <td>0.002</td>\n",
       "      <td>-0.003</td>\n",
       "      <td>0.002</td>\n",
       "      <td>...</td>\n",
       "      <td>0.012</td>\n",
       "      <td>0.009</td>\n",
       "      <td>0.003</td>\n",
       "      <td>-0.001</td>\n",
       "      <td>0.002</td>\n",
       "      <td>-0.006</td>\n",
       "      <td>0.009</td>\n",
       "      <td>0.013</td>\n",
       "      <td>c135y_e285v</td>\n",
       "      <td>inactive</td>\n",
       "    </tr>\n",
       "  </tbody>\n",
       "</table>\n",
       "<p>5 rows × 5410 columns</p>\n",
       "</div>"
      ],
      "text/plain": [
       "    0      1      2      3      4      5      6      7      8      9     ...  \\\n",
       "0 -0.161 -0.014  0.002 -0.036 -0.033 -0.093  0.025  0.005  0.000 -0.015  ...   \n",
       "1 -0.158 -0.002 -0.012 -0.025 -0.012 -0.106  0.013  0.005  0.000 -0.002  ...   \n",
       "2 -0.169 -0.025 -0.010 -0.041 -0.045 -0.069  0.038  0.014  0.008 -0.014  ...   \n",
       "3 -0.183 -0.051 -0.023 -0.077 -0.092 -0.015  0.071  0.027  0.020 -0.019  ...   \n",
       "4 -0.154  0.005 -0.011 -0.013 -0.002 -0.115  0.005  0.002 -0.003  0.002  ...   \n",
       "\n",
       "    5400   5401   5402   5403   5404   5405   5406   5407               5408  \\\n",
       "0  0.013  0.021  0.020  0.016 -0.011  0.003  0.010 -0.007        a119e_l125p   \n",
       "1 -0.008  0.007  0.015 -0.008 -0.011 -0.004  0.013  0.005  a119e_r283k_a353v   \n",
       "2  0.010  0.025  0.025  0.021 -0.012  0.006  0.016 -0.018              c135y   \n",
       "3  0.012  0.050  0.038  0.051 -0.015  0.017  0.027 -0.049        c135y_e285m   \n",
       "4  0.012  0.009  0.003 -0.001  0.002 -0.006  0.009  0.013        c135y_e285v   \n",
       "\n",
       "       5409  \n",
       "0  inactive  \n",
       "1  inactive  \n",
       "2  inactive  \n",
       "3  inactive  \n",
       "4  inactive  \n",
       "\n",
       "[5 rows x 5410 columns]"
      ]
     },
     "execution_count": 7,
     "metadata": {},
     "output_type": "execute_result"
    }
   ],
   "source": [
    "mutants.head()"
   ]
  },
  {
   "cell_type": "code",
   "execution_count": 107,
   "metadata": {},
   "outputs": [
    {
     "name": "stdout",
     "output_type": "stream",
     "text": [
      "0              a119e_l125p\n",
      "1        a119e_r283k_a353v\n",
      "2                    c135y\n",
      "3              c135y_e285m\n",
      "4              c135y_e285v\n",
      "               ...        \n",
      "16586    y220c_t230c_n239y\n",
      "16587    y220c_y234f_n239l\n",
      "16588                y234c\n",
      "16589          y234c_a119e\n",
      "16590          y234f_n239l\n",
      "Name: 5408, Length: 16591, dtype: object\n"
     ]
    }
   ],
   "source": [
    "# pull out the column of mutants with the nametags\n",
    "\n",
    "nametags = mutants[5408].astype(str)\n",
    "print(nametags)"
   ]
  },
  {
   "cell_type": "markdown",
   "metadata": {},
   "source": [
    "### Subset the data"
   ]
  },
  {
   "cell_type": "markdown",
   "metadata": {},
   "source": [
    "subset the data! first implement analysis on subset, then apply same on full dataset\n",
    "\n",
    "first, check the mutant tags to see where the mutations are in the amino acid chain, and then subset based on domains\n",
    "\n",
    "will have 5 subsets, corresponding to each of the 5 major p53 domains!"
   ]
  },
  {
   "cell_type": "code",
   "execution_count": 138,
   "metadata": {},
   "outputs": [],
   "source": [
    "# create empty lists for each domain\n",
    "# each list will store the indexes of the mutants (rows) for their respective protein domains\n",
    "\n",
    "ad_loci = []\n",
    "dbd_loci = []\n",
    "td_loci = []\n",
    "nls_loci = []\n",
    "bd_loci = []"
   ]
  },
  {
   "cell_type": "code",
   "execution_count": 139,
   "metadata": {},
   "outputs": [],
   "source": [
    "def binner(num):\n",
    "    if num <= 101:\n",
    "        b = 0\n",
    "    elif num < 305:\n",
    "        b = 1\n",
    "    elif num < 326:\n",
    "        b = 2\n",
    "    elif num < 364:\n",
    "        b = 3\n",
    "    else:\n",
    "        b = 4\n",
    "    return b"
   ]
  },
  {
   "cell_type": "code",
   "execution_count": 140,
   "metadata": {},
   "outputs": [],
   "source": [
    "# since there could be multiple loci, sort based on avg (center) of mutation loci\n",
    "\n",
    "for tag in nametags:\n",
    "        search = re.findall('[0-9]+', str(tag))\n",
    "        snps = np.array(list(map(int, search)))\n",
    "        bins = list(map(binner,snps))\n",
    "        b = statistics.mode(bins)\n",
    "        \n",
    "#         avg = np.mean(snps)\n",
    "\n",
    "        \n",
    "        if b == 0:\n",
    "            #t = nametags.index(nametags.loc[tag])\n",
    "            ad_loci.append(mutants[mutants[5408] == tag])\n",
    "        elif b == 1:\n",
    "            #t = nametags.index(tag)\n",
    "            dbd_loci.append(mutants[mutants[5408] == tag])\n",
    "        elif b == 2:\n",
    "            #t = nametags.index(tag)\n",
    "            td_loci.append(mutants[mutants[5408] == tag])\n",
    "        elif b == 3:\n",
    "            #t = nametags.index(tag)\n",
    "            nls_loci.append(mutants[mutants[5408] == tag])\n",
    "        elif b == 4:\n",
    "            #t = nametags.index(tag)\n",
    "            bd_loci.append(mutants[mutants[5408] == tag])\n",
    "        \n",
    "            \n",
    "\n",
    "# make sure to check the size of each subset"
   ]
  },
  {
   "cell_type": "code",
   "execution_count": 142,
   "metadata": {},
   "outputs": [
    {
     "data": {
      "text/plain": [
       "16591"
      ]
     },
     "execution_count": 142,
     "metadata": {},
     "output_type": "execute_result"
    }
   ],
   "source": [
    "len(dbd_loci)"
   ]
  },
  {
   "cell_type": "code",
   "execution_count": null,
   "metadata": {},
   "outputs": [],
   "source": [
    "ad_loci = pd.concat(ad_loci)"
   ]
  },
  {
   "cell_type": "markdown",
   "metadata": {},
   "source": [
    "I tried splitting the dataset up by the domain that contained the mutation loci, but that did not work. \n",
    "\n",
    "Splitting the mutants by protein domain provided wildly imbalanced subsets, since it seems that the overwhelming majority of the mutants have at least one mutation in the DBD domain of p53. \n",
    "We can look at the domain-wise distribution of the p53 mutations to confirm this. \n",
    "\n",
    "A more even way to partition the dataset would probably be to partition by the number of mutations per mutant - one, two, three, or four and more mutations."
   ]
  },
  {
   "cell_type": "code",
   "execution_count": 147,
   "metadata": {},
   "outputs": [],
   "source": [
    "singles = [] # one mutation\n",
    "doubles = [] # two mutations\n",
    "triples = [] # three mutations\n",
    "multis = [] # four or more mutations"
   ]
  },
  {
   "cell_type": "code",
   "execution_count": 148,
   "metadata": {},
   "outputs": [],
   "source": [
    "# subset data based on the number of mutations per mutant protein\n",
    "\n",
    "for tag in nametags:\n",
    "        search = re.findall('[0-9]+', str(tag))\n",
    "        snps = np.array(list(map(int, search)))\n",
    "        num_loci = len(snps)\n",
    "        \n",
    "        if num_loci == 1:\n",
    "            #t = nametags.index(nametags.loc[tag])\n",
    "            singles.append(mutants[mutants[5408] == tag])\n",
    "        elif num_loci == 2:\n",
    "            #t = nametags.index(tag)\n",
    "            doubles.append(mutants[mutants[5408] == tag])\n",
    "        elif num_loci == 3:\n",
    "            #t = nametags.index(tag)\n",
    "            triples.append(mutants[mutants[5408] == tag])\n",
    "        elif num_loci >= 4:\n",
    "            #t = nametags.index(tag)\n",
    "            multis.append(mutants[mutants[5408] == tag])\n",
    "        \n",
    "# make sure to check the size of each subset"
   ]
  },
  {
   "cell_type": "code",
   "execution_count": 149,
   "metadata": {},
   "outputs": [],
   "source": [
    "singles = pd.concat(singles)\n",
    "doubles = pd.concat(doubles)\n",
    "triples = pd.concat(triples)\n",
    "multis = pd.concat(multis)"
   ]
  },
  {
   "cell_type": "code",
   "execution_count": 150,
   "metadata": {},
   "outputs": [
    {
     "data": {
      "text/plain": [
       "(61, 5410)"
      ]
     },
     "execution_count": 150,
     "metadata": {},
     "output_type": "execute_result"
    }
   ],
   "source": [
    "singles.shape"
   ]
  },
  {
   "cell_type": "code",
   "execution_count": 151,
   "metadata": {},
   "outputs": [
    {
     "data": {
      "text/plain": [
       "(16374, 5410)"
      ]
     },
     "execution_count": 151,
     "metadata": {},
     "output_type": "execute_result"
    }
   ],
   "source": [
    "doubles.shape"
   ]
  },
  {
   "cell_type": "code",
   "execution_count": 152,
   "metadata": {},
   "outputs": [
    {
     "data": {
      "text/plain": [
       "(114, 5410)"
      ]
     },
     "execution_count": 152,
     "metadata": {},
     "output_type": "execute_result"
    }
   ],
   "source": [
    "triples.shape"
   ]
  },
  {
   "cell_type": "code",
   "execution_count": 153,
   "metadata": {},
   "outputs": [
    {
     "data": {
      "text/plain": [
       "(42, 5410)"
      ]
     },
     "execution_count": 153,
     "metadata": {},
     "output_type": "execute_result"
    }
   ],
   "source": [
    "multis.shape"
   ]
  },
  {
   "cell_type": "markdown",
   "metadata": {},
   "source": [
    "Splitting the dataset this way also gave us imbalanced subsets, but not *quite* as imbalanced as they were when separated by protein domain. We can see that the majority of mutants in the dataset have only two mutations, and single mutations or three or more mutations are less common.\n",
    "\n",
    "Is there perhaps a relationship between the number of mutations and the mutation loci? "
   ]
  },
  {
   "cell_type": "markdown",
   "metadata": {},
   "source": [
    "*One idea is to randomly subset the rows of the dataset for the preprocessing. Otherwise, if possible, we could make synthetic data to supplement the subsets.*"
   ]
  },
  {
   "cell_type": "markdown",
   "metadata": {},
   "source": [
    "## Feature Selection"
   ]
  },
  {
   "cell_type": "markdown",
   "metadata": {},
   "source": [
    "Let's try visualizing with PCA to find some trends in the data. We'll then plot the data with t-SNE and compare the results.\n",
    "\n",
    "Reference: \n",
    "https://medium.com/analytics-vidhya/pca-vs-t-sne-17bcd882bf3d#:~:text=t%2DSNE%20is%20also%20a,large%20pairwise%20distance%20maximize%20variance.&text=It%20takes%20a%20set%20of,it%20into%20low%20dimensional%20data"
   ]
  },
  {
   "cell_type": "code",
   "execution_count": null,
   "metadata": {},
   "outputs": [],
   "source": []
  },
  {
   "cell_type": "code",
   "execution_count": null,
   "metadata": {},
   "outputs": [],
   "source": [
    "# view heatmap of subset 1\n",
    "\n",
    "plt.subplots(figsize=(12,10))\n",
    "sns.heatmap(ad_mutants.corr());"
   ]
  },
  {
   "cell_type": "code",
   "execution_count": null,
   "metadata": {},
   "outputs": [],
   "source": []
  }
 ],
 "metadata": {
  "kernelspec": {
   "display_name": "Python 3",
   "language": "python",
   "name": "python3"
  },
  "language_info": {
   "codemirror_mode": {
    "name": "ipython",
    "version": 3
   },
   "file_extension": ".py",
   "mimetype": "text/x-python",
   "name": "python",
   "nbconvert_exporter": "python",
   "pygments_lexer": "ipython3",
   "version": "3.8.3"
  }
 },
 "nbformat": 4,
 "nbformat_minor": 4
}
