{
  "nbformat": 4,
  "nbformat_minor": 0,
  "metadata": {
    "kernelspec": {
      "display_name": "Python 3",
      "language": "python",
      "name": "python3"
    },
    "language_info": {
      "codemirror_mode": {
        "name": "ipython",
        "version": 3
      },
      "file_extension": ".py",
      "mimetype": "text/x-python",
      "name": "python",
      "nbconvert_exporter": "python",
      "pygments_lexer": "ipython3",
      "version": "3.8.3"
    },
    "colab": {
      "name": "4.0-sm-modeling.ipynb",
      "provenance": []
    }
  },
  "cells": [
    {
      "cell_type": "markdown",
      "metadata": {
        "id": "3UCvaiSHfU8t"
      },
      "source": [
        "<div class=\"alert-danger\">\n",
        "Red colored boxes mean that the documentation is outdated and needs to be changed/replaced.\n",
        "</div>"
      ]
    },
    {
      "cell_type": "markdown",
      "metadata": {
        "id": "uH_JSGM8fU8v"
      },
      "source": [
        "<div class=\"alert-warning\">\n",
        "Yellow colored boxes mean that the documentation is incomplete and needs to be finished.\n",
        "</div>"
      ]
    },
    {
      "cell_type": "markdown",
      "metadata": {
        "id": "BuPHIodafU8v"
      },
      "source": [
        "<div class=\"alert-info\">\n",
        "Blue colored boxes are placeholders for optional additions that would improve and polish the notebook.\n",
        "</div>"
      ]
    },
    {
      "cell_type": "markdown",
      "metadata": {
        "id": "uQUcSGPJfU8w"
      },
      "source": [
        "# Table of Contents"
      ]
    },
    {
      "cell_type": "markdown",
      "metadata": {
        "id": "iI_EIAylfU8w"
      },
      "source": [
        "<div class=\"alert-info\">\n",
        "Add a table of contents to make this notebook easy to navigate.\n",
        "</div>"
      ]
    },
    {
      "cell_type": "markdown",
      "metadata": {
        "id": "QYugMNF3fU8w"
      },
      "source": [
        "## Import Necessary Libraries and Packages"
      ]
    },
    {
      "cell_type": "code",
      "metadata": {
        "id": "tb4nxgy8fU8w"
      },
      "source": [
        "import pandas as pd\n",
        "import matplotlib.pyplot as plt\n",
        "import numpy as np\n",
        "import zipfile\n",
        "import os\n",
        "import statistics\n",
        "import seaborn as sns\n",
        "\n",
        "from google.colab import files\n",
        "\n",
        "%matplotlib inline"
      ],
      "execution_count": 1,
      "outputs": []
    },
    {
      "cell_type": "markdown",
      "metadata": {
        "id": "AMfr7j3dfU8x"
      },
      "source": [
        "## Load the Preprocessed Data"
      ]
    },
    {
      "cell_type": "code",
      "metadata": {
        "id": "-T_t-RyAXuAy",
        "colab": {
          "resources": {
            "http://localhost:8080/nbextensions/google.colab/files.js": {
              "data": "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",
              "ok": true,
              "headers": [
                [
                  "content-type",
                  "application/javascript"
                ]
              ],
              "status": 200,
              "status_text": ""
            }
          },
          "base_uri": "https://localhost:8080/",
          "height": 73
        },
        "outputId": "d1a1167b-7f62-479d-b087-a9388041f029"
      },
      "source": [
        "uploaded = files.upload()"
      ],
      "execution_count": 2,
      "outputs": [
        {
          "output_type": "display_data",
          "data": {
            "text/html": [
              "\n",
              "     <input type=\"file\" id=\"files-fbb427e7-fa09-4b45-821d-4ce52134b042\" name=\"files[]\" multiple disabled\n",
              "        style=\"border:none\" />\n",
              "     <output id=\"result-fbb427e7-fa09-4b45-821d-4ce52134b042\">\n",
              "      Upload widget is only available when the cell has been executed in the\n",
              "      current browser session. Please rerun this cell to enable.\n",
              "      </output>\n",
              "      <script src=\"/nbextensions/google.colab/files.js\"></script> "
            ],
            "text/plain": [
              "<IPython.core.display.HTML object>"
            ]
          },
          "metadata": {
            "tags": []
          }
        },
        {
          "output_type": "stream",
          "text": [
            "Saving lin_filtered.csv to lin_filtered.csv\n"
          ],
          "name": "stdout"
        }
      ]
    },
    {
      "cell_type": "code",
      "metadata": {
        "id": "o5JbEezufU8y"
      },
      "source": [
        "# load preprocessed data file as a pandas dataframe\n",
        "df = pd.read_csv('lin_filtered.csv', low_memory=False)"
      ],
      "execution_count": 3,
      "outputs": []
    },
    {
      "cell_type": "code",
      "metadata": {
        "id": "IbHpK9nefU8y",
        "colab": {
          "base_uri": "https://localhost:8080/",
          "height": 269
        },
        "outputId": "7f5e511b-34cb-4bce-d10f-3213d9ec7eca"
      },
      "source": [
        "df.head()"
      ],
      "execution_count": 4,
      "outputs": [
        {
          "output_type": "execute_result",
          "data": {
            "text/html": [
              "<div>\n",
              "<style scoped>\n",
              "    .dataframe tbody tr th:only-of-type {\n",
              "        vertical-align: middle;\n",
              "    }\n",
              "\n",
              "    .dataframe tbody tr th {\n",
              "        vertical-align: top;\n",
              "    }\n",
              "\n",
              "    .dataframe thead th {\n",
              "        text-align: right;\n",
              "    }\n",
              "</style>\n",
              "<table border=\"1\" class=\"dataframe\">\n",
              "  <thead>\n",
              "    <tr style=\"text-align: right;\">\n",
              "      <th></th>\n",
              "      <th>Unnamed: 0</th>\n",
              "      <th>25</th>\n",
              "      <th>86</th>\n",
              "      <th>131</th>\n",
              "      <th>294</th>\n",
              "      <th>297</th>\n",
              "      <th>307</th>\n",
              "      <th>321</th>\n",
              "      <th>340</th>\n",
              "      <th>345</th>\n",
              "      <th>346</th>\n",
              "      <th>370</th>\n",
              "      <th>500</th>\n",
              "      <th>506</th>\n",
              "      <th>536</th>\n",
              "      <th>553</th>\n",
              "      <th>608</th>\n",
              "      <th>610</th>\n",
              "      <th>712</th>\n",
              "      <th>718</th>\n",
              "      <th>722</th>\n",
              "      <th>723</th>\n",
              "      <th>726</th>\n",
              "      <th>730</th>\n",
              "      <th>748</th>\n",
              "      <th>758</th>\n",
              "      <th>762</th>\n",
              "      <th>763</th>\n",
              "      <th>812</th>\n",
              "      <th>888</th>\n",
              "      <th>921</th>\n",
              "      <th>923</th>\n",
              "      <th>960</th>\n",
              "      <th>969</th>\n",
              "      <th>970</th>\n",
              "      <th>977</th>\n",
              "      <th>999</th>\n",
              "      <th>1027</th>\n",
              "      <th>1028</th>\n",
              "      <th>1032</th>\n",
              "      <th>...</th>\n",
              "      <th>4804</th>\n",
              "      <th>4809</th>\n",
              "      <th>4813</th>\n",
              "      <th>4814</th>\n",
              "      <th>4816</th>\n",
              "      <th>4817</th>\n",
              "      <th>4821</th>\n",
              "      <th>4822</th>\n",
              "      <th>4824</th>\n",
              "      <th>4844</th>\n",
              "      <th>4845</th>\n",
              "      <th>4881</th>\n",
              "      <th>4886</th>\n",
              "      <th>4901</th>\n",
              "      <th>4933</th>\n",
              "      <th>4944</th>\n",
              "      <th>5052</th>\n",
              "      <th>5065</th>\n",
              "      <th>5066</th>\n",
              "      <th>5075</th>\n",
              "      <th>5113</th>\n",
              "      <th>5122</th>\n",
              "      <th>5163</th>\n",
              "      <th>5164</th>\n",
              "      <th>5189</th>\n",
              "      <th>5201</th>\n",
              "      <th>5214</th>\n",
              "      <th>5251</th>\n",
              "      <th>5262</th>\n",
              "      <th>5275</th>\n",
              "      <th>5282</th>\n",
              "      <th>5283</th>\n",
              "      <th>5330</th>\n",
              "      <th>5331</th>\n",
              "      <th>5369</th>\n",
              "      <th>5377</th>\n",
              "      <th>5387</th>\n",
              "      <th>5407</th>\n",
              "      <th>activity</th>\n",
              "      <th>nametags</th>\n",
              "    </tr>\n",
              "  </thead>\n",
              "  <tbody>\n",
              "    <tr>\n",
              "      <th>0</th>\n",
              "      <td>0</td>\n",
              "      <td>-0.031</td>\n",
              "      <td>-0.024</td>\n",
              "      <td>-0.021</td>\n",
              "      <td>-4.109</td>\n",
              "      <td>0.003</td>\n",
              "      <td>-0.103000</td>\n",
              "      <td>2.551</td>\n",
              "      <td>3.024</td>\n",
              "      <td>-0.442</td>\n",
              "      <td>-0.001</td>\n",
              "      <td>1.038</td>\n",
              "      <td>0.048</td>\n",
              "      <td>-0.019</td>\n",
              "      <td>0.033</td>\n",
              "      <td>0.040000</td>\n",
              "      <td>-0.180</td>\n",
              "      <td>-0.918</td>\n",
              "      <td>-0.459</td>\n",
              "      <td>0.039</td>\n",
              "      <td>-1.460</td>\n",
              "      <td>1.732</td>\n",
              "      <td>0.160</td>\n",
              "      <td>-0.093</td>\n",
              "      <td>0.225</td>\n",
              "      <td>-0.394</td>\n",
              "      <td>-0.560</td>\n",
              "      <td>-0.104</td>\n",
              "      <td>0.545727</td>\n",
              "      <td>0.011</td>\n",
              "      <td>-0.031</td>\n",
              "      <td>-0.010</td>\n",
              "      <td>2.869</td>\n",
              "      <td>-0.040</td>\n",
              "      <td>0.075</td>\n",
              "      <td>0.015</td>\n",
              "      <td>0.207</td>\n",
              "      <td>-0.00504</td>\n",
              "      <td>-16.502</td>\n",
              "      <td>0.026</td>\n",
              "      <td>...</td>\n",
              "      <td>-14.342</td>\n",
              "      <td>-1.213727</td>\n",
              "      <td>0.033067</td>\n",
              "      <td>-2.246</td>\n",
              "      <td>24.298</td>\n",
              "      <td>48.519</td>\n",
              "      <td>0.120300</td>\n",
              "      <td>0.582294</td>\n",
              "      <td>0.227375</td>\n",
              "      <td>0.005</td>\n",
              "      <td>0.020</td>\n",
              "      <td>-0.005</td>\n",
              "      <td>-0.060</td>\n",
              "      <td>-0.049</td>\n",
              "      <td>-0.034</td>\n",
              "      <td>-0.004000</td>\n",
              "      <td>0.025</td>\n",
              "      <td>-0.034</td>\n",
              "      <td>-0.014</td>\n",
              "      <td>-0.021</td>\n",
              "      <td>0.004</td>\n",
              "      <td>-0.008</td>\n",
              "      <td>0.041</td>\n",
              "      <td>0.044</td>\n",
              "      <td>0.043</td>\n",
              "      <td>-0.037</td>\n",
              "      <td>-0.039</td>\n",
              "      <td>0.016</td>\n",
              "      <td>-0.029</td>\n",
              "      <td>0.050</td>\n",
              "      <td>0.030</td>\n",
              "      <td>-0.028</td>\n",
              "      <td>-0.033</td>\n",
              "      <td>0.046</td>\n",
              "      <td>0.058</td>\n",
              "      <td>-0.087</td>\n",
              "      <td>0.035</td>\n",
              "      <td>-0.007</td>\n",
              "      <td>False</td>\n",
              "      <td>a119e_l125p</td>\n",
              "    </tr>\n",
              "    <tr>\n",
              "      <th>1</th>\n",
              "      <td>1</td>\n",
              "      <td>-0.019</td>\n",
              "      <td>0.006</td>\n",
              "      <td>-0.038</td>\n",
              "      <td>-4.111</td>\n",
              "      <td>0.006</td>\n",
              "      <td>-0.054667</td>\n",
              "      <td>-0.002</td>\n",
              "      <td>2.952</td>\n",
              "      <td>-0.366</td>\n",
              "      <td>0.009</td>\n",
              "      <td>0.992</td>\n",
              "      <td>0.001</td>\n",
              "      <td>-0.002</td>\n",
              "      <td>0.031</td>\n",
              "      <td>0.016286</td>\n",
              "      <td>0.078</td>\n",
              "      <td>-0.023</td>\n",
              "      <td>-0.416</td>\n",
              "      <td>0.066</td>\n",
              "      <td>-1.446</td>\n",
              "      <td>1.768</td>\n",
              "      <td>0.026</td>\n",
              "      <td>0.005</td>\n",
              "      <td>-0.004</td>\n",
              "      <td>-1.017</td>\n",
              "      <td>-0.096</td>\n",
              "      <td>-0.089</td>\n",
              "      <td>0.775091</td>\n",
              "      <td>-0.003</td>\n",
              "      <td>-0.023</td>\n",
              "      <td>-0.030</td>\n",
              "      <td>2.896</td>\n",
              "      <td>0.013</td>\n",
              "      <td>0.093</td>\n",
              "      <td>0.124</td>\n",
              "      <td>2.650</td>\n",
              "      <td>0.25640</td>\n",
              "      <td>-16.527</td>\n",
              "      <td>0.008</td>\n",
              "      <td>...</td>\n",
              "      <td>4.115</td>\n",
              "      <td>-0.619045</td>\n",
              "      <td>-1.028600</td>\n",
              "      <td>-1.808</td>\n",
              "      <td>21.268</td>\n",
              "      <td>62.454</td>\n",
              "      <td>-0.112233</td>\n",
              "      <td>0.537647</td>\n",
              "      <td>0.278125</td>\n",
              "      <td>-0.012</td>\n",
              "      <td>0.007</td>\n",
              "      <td>-0.003</td>\n",
              "      <td>-0.082</td>\n",
              "      <td>-0.029</td>\n",
              "      <td>-0.017</td>\n",
              "      <td>0.010000</td>\n",
              "      <td>0.005</td>\n",
              "      <td>-0.021</td>\n",
              "      <td>-0.021</td>\n",
              "      <td>-0.009</td>\n",
              "      <td>-0.009</td>\n",
              "      <td>-0.001</td>\n",
              "      <td>0.022</td>\n",
              "      <td>0.022</td>\n",
              "      <td>0.026</td>\n",
              "      <td>-0.012</td>\n",
              "      <td>-0.020</td>\n",
              "      <td>0.013</td>\n",
              "      <td>-0.012</td>\n",
              "      <td>0.034</td>\n",
              "      <td>0.005</td>\n",
              "      <td>-0.018</td>\n",
              "      <td>-0.016</td>\n",
              "      <td>0.021</td>\n",
              "      <td>0.047</td>\n",
              "      <td>-0.035</td>\n",
              "      <td>0.011</td>\n",
              "      <td>0.005</td>\n",
              "      <td>False</td>\n",
              "      <td>a119e_r283k_a353v</td>\n",
              "    </tr>\n",
              "    <tr>\n",
              "      <th>2</th>\n",
              "      <td>2</td>\n",
              "      <td>-0.036</td>\n",
              "      <td>-0.056</td>\n",
              "      <td>-0.033</td>\n",
              "      <td>-4.107</td>\n",
              "      <td>-0.012</td>\n",
              "      <td>-0.099333</td>\n",
              "      <td>-0.002</td>\n",
              "      <td>3.031</td>\n",
              "      <td>-0.089</td>\n",
              "      <td>-0.019</td>\n",
              "      <td>1.051</td>\n",
              "      <td>0.041</td>\n",
              "      <td>-0.024</td>\n",
              "      <td>0.042</td>\n",
              "      <td>-1.114571</td>\n",
              "      <td>-0.216</td>\n",
              "      <td>-0.933</td>\n",
              "      <td>-0.457</td>\n",
              "      <td>0.048</td>\n",
              "      <td>-1.455</td>\n",
              "      <td>1.739</td>\n",
              "      <td>-2.953</td>\n",
              "      <td>-0.062</td>\n",
              "      <td>0.222</td>\n",
              "      <td>-1.010</td>\n",
              "      <td>-0.205</td>\n",
              "      <td>-0.103</td>\n",
              "      <td>0.535364</td>\n",
              "      <td>-0.005</td>\n",
              "      <td>-0.025</td>\n",
              "      <td>-0.020</td>\n",
              "      <td>2.862</td>\n",
              "      <td>-0.048</td>\n",
              "      <td>0.058</td>\n",
              "      <td>0.002</td>\n",
              "      <td>0.200</td>\n",
              "      <td>-0.00790</td>\n",
              "      <td>-16.508</td>\n",
              "      <td>0.018</td>\n",
              "      <td>...</td>\n",
              "      <td>-11.706</td>\n",
              "      <td>0.489000</td>\n",
              "      <td>-0.503633</td>\n",
              "      <td>-2.324</td>\n",
              "      <td>24.274</td>\n",
              "      <td>49.118</td>\n",
              "      <td>0.648200</td>\n",
              "      <td>0.396000</td>\n",
              "      <td>0.027750</td>\n",
              "      <td>0.012</td>\n",
              "      <td>0.010</td>\n",
              "      <td>-0.009</td>\n",
              "      <td>-0.070</td>\n",
              "      <td>-0.055</td>\n",
              "      <td>-0.027</td>\n",
              "      <td>-0.002000</td>\n",
              "      <td>0.042</td>\n",
              "      <td>-0.029</td>\n",
              "      <td>-0.015</td>\n",
              "      <td>-0.020</td>\n",
              "      <td>0.003</td>\n",
              "      <td>-0.011</td>\n",
              "      <td>0.030</td>\n",
              "      <td>0.051</td>\n",
              "      <td>0.043</td>\n",
              "      <td>-0.034</td>\n",
              "      <td>-0.045</td>\n",
              "      <td>0.018</td>\n",
              "      <td>-0.032</td>\n",
              "      <td>0.053</td>\n",
              "      <td>0.028</td>\n",
              "      <td>-0.033</td>\n",
              "      <td>-0.038</td>\n",
              "      <td>0.044</td>\n",
              "      <td>0.074</td>\n",
              "      <td>-0.076</td>\n",
              "      <td>0.036</td>\n",
              "      <td>-0.018</td>\n",
              "      <td>False</td>\n",
              "      <td>c135y</td>\n",
              "    </tr>\n",
              "    <tr>\n",
              "      <th>3</th>\n",
              "      <td>3</td>\n",
              "      <td>-0.058</td>\n",
              "      <td>-0.116</td>\n",
              "      <td>-0.039</td>\n",
              "      <td>-4.106</td>\n",
              "      <td>-0.038</td>\n",
              "      <td>-0.134333</td>\n",
              "      <td>-0.017</td>\n",
              "      <td>-0.033</td>\n",
              "      <td>-0.056</td>\n",
              "      <td>-0.046</td>\n",
              "      <td>1.180</td>\n",
              "      <td>4.554</td>\n",
              "      <td>4.426</td>\n",
              "      <td>0.063</td>\n",
              "      <td>-1.086357</td>\n",
              "      <td>-0.536</td>\n",
              "      <td>-1.128</td>\n",
              "      <td>-0.476</td>\n",
              "      <td>0.024</td>\n",
              "      <td>-1.473</td>\n",
              "      <td>1.782</td>\n",
              "      <td>-2.943</td>\n",
              "      <td>-0.033</td>\n",
              "      <td>0.217</td>\n",
              "      <td>-1.035</td>\n",
              "      <td>-0.533</td>\n",
              "      <td>-0.105</td>\n",
              "      <td>0.755273</td>\n",
              "      <td>-0.045</td>\n",
              "      <td>-0.063</td>\n",
              "      <td>-0.083</td>\n",
              "      <td>2.880</td>\n",
              "      <td>-0.088</td>\n",
              "      <td>-0.060</td>\n",
              "      <td>-0.046</td>\n",
              "      <td>0.201</td>\n",
              "      <td>0.22802</td>\n",
              "      <td>-16.508</td>\n",
              "      <td>0.018</td>\n",
              "      <td>...</td>\n",
              "      <td>-23.103</td>\n",
              "      <td>-1.607500</td>\n",
              "      <td>0.218600</td>\n",
              "      <td>-2.305</td>\n",
              "      <td>16.750</td>\n",
              "      <td>56.411</td>\n",
              "      <td>0.537033</td>\n",
              "      <td>0.455118</td>\n",
              "      <td>0.050625</td>\n",
              "      <td>0.028</td>\n",
              "      <td>-0.003</td>\n",
              "      <td>-0.021</td>\n",
              "      <td>-0.103</td>\n",
              "      <td>-0.082</td>\n",
              "      <td>-0.065</td>\n",
              "      <td>-0.492000</td>\n",
              "      <td>0.038</td>\n",
              "      <td>-0.042</td>\n",
              "      <td>0.003</td>\n",
              "      <td>-0.026</td>\n",
              "      <td>0.021</td>\n",
              "      <td>-0.001</td>\n",
              "      <td>0.031</td>\n",
              "      <td>0.062</td>\n",
              "      <td>0.057</td>\n",
              "      <td>-0.048</td>\n",
              "      <td>-0.067</td>\n",
              "      <td>0.189</td>\n",
              "      <td>-0.069</td>\n",
              "      <td>0.076</td>\n",
              "      <td>0.053</td>\n",
              "      <td>-0.050</td>\n",
              "      <td>-0.061</td>\n",
              "      <td>0.061</td>\n",
              "      <td>0.126</td>\n",
              "      <td>-0.124</td>\n",
              "      <td>0.059</td>\n",
              "      <td>-0.049</td>\n",
              "      <td>False</td>\n",
              "      <td>c135y_e285m</td>\n",
              "    </tr>\n",
              "    <tr>\n",
              "      <th>4</th>\n",
              "      <td>4</td>\n",
              "      <td>-0.011</td>\n",
              "      <td>0.012</td>\n",
              "      <td>-0.037</td>\n",
              "      <td>-4.110</td>\n",
              "      <td>0.011</td>\n",
              "      <td>-0.057333</td>\n",
              "      <td>0.000</td>\n",
              "      <td>2.974</td>\n",
              "      <td>-0.362</td>\n",
              "      <td>0.017</td>\n",
              "      <td>0.949</td>\n",
              "      <td>0.010</td>\n",
              "      <td>0.005</td>\n",
              "      <td>0.025</td>\n",
              "      <td>0.008214</td>\n",
              "      <td>-0.055</td>\n",
              "      <td>-0.927</td>\n",
              "      <td>-0.409</td>\n",
              "      <td>0.080</td>\n",
              "      <td>-1.434</td>\n",
              "      <td>1.805</td>\n",
              "      <td>0.036</td>\n",
              "      <td>-0.004</td>\n",
              "      <td>-0.004</td>\n",
              "      <td>-1.108</td>\n",
              "      <td>-0.128</td>\n",
              "      <td>-0.098</td>\n",
              "      <td>0.782091</td>\n",
              "      <td>0.005</td>\n",
              "      <td>-0.054</td>\n",
              "      <td>-0.030</td>\n",
              "      <td>2.896</td>\n",
              "      <td>-0.004</td>\n",
              "      <td>-2.720</td>\n",
              "      <td>-2.106</td>\n",
              "      <td>0.149</td>\n",
              "      <td>0.25992</td>\n",
              "      <td>0.000</td>\n",
              "      <td>0.008</td>\n",
              "      <td>...</td>\n",
              "      <td>2.702</td>\n",
              "      <td>-1.240091</td>\n",
              "      <td>-1.339100</td>\n",
              "      <td>-2.378</td>\n",
              "      <td>20.821</td>\n",
              "      <td>61.475</td>\n",
              "      <td>-2.289233</td>\n",
              "      <td>0.309824</td>\n",
              "      <td>-0.122750</td>\n",
              "      <td>-0.014</td>\n",
              "      <td>0.012</td>\n",
              "      <td>0.007</td>\n",
              "      <td>-0.030</td>\n",
              "      <td>-0.027</td>\n",
              "      <td>-0.011</td>\n",
              "      <td>-0.371001</td>\n",
              "      <td>0.004</td>\n",
              "      <td>-0.017</td>\n",
              "      <td>-0.019</td>\n",
              "      <td>-0.007</td>\n",
              "      <td>-0.011</td>\n",
              "      <td>0.018</td>\n",
              "      <td>0.018</td>\n",
              "      <td>0.023</td>\n",
              "      <td>0.022</td>\n",
              "      <td>-0.007</td>\n",
              "      <td>-0.014</td>\n",
              "      <td>0.148</td>\n",
              "      <td>-0.012</td>\n",
              "      <td>0.024</td>\n",
              "      <td>0.005</td>\n",
              "      <td>-0.013</td>\n",
              "      <td>-0.008</td>\n",
              "      <td>0.016</td>\n",
              "      <td>0.024</td>\n",
              "      <td>-0.035</td>\n",
              "      <td>0.009</td>\n",
              "      <td>0.013</td>\n",
              "      <td>False</td>\n",
              "      <td>c135y_e285v</td>\n",
              "    </tr>\n",
              "  </tbody>\n",
              "</table>\n",
              "<p>5 rows × 345 columns</p>\n",
              "</div>"
            ],
            "text/plain": [
              "   Unnamed: 0     25     86    131  ...   5387   5407  activity           nametags\n",
              "0           0 -0.031 -0.024 -0.021  ...  0.035 -0.007     False        a119e_l125p\n",
              "1           1 -0.019  0.006 -0.038  ...  0.011  0.005     False  a119e_r283k_a353v\n",
              "2           2 -0.036 -0.056 -0.033  ...  0.036 -0.018     False              c135y\n",
              "3           3 -0.058 -0.116 -0.039  ...  0.059 -0.049     False        c135y_e285m\n",
              "4           4 -0.011  0.012 -0.037  ...  0.009  0.013     False        c135y_e285v\n",
              "\n",
              "[5 rows x 345 columns]"
            ]
          },
          "metadata": {
            "tags": []
          },
          "execution_count": 4
        }
      ]
    },
    {
      "cell_type": "code",
      "metadata": {
        "id": "1DVpuVAdigzi",
        "colab": {
          "base_uri": "https://localhost:8080/"
        },
        "outputId": "7c755a0d-e299-4e56-bfb3-214a58f0ac6b"
      },
      "source": [
        "df.columns"
      ],
      "execution_count": 5,
      "outputs": [
        {
          "output_type": "execute_result",
          "data": {
            "text/plain": [
              "Index(['Unnamed: 0', '25', '86', '131', '294', '297', '307', '321', '340',\n",
              "       '345',\n",
              "       ...\n",
              "       '5282', '5283', '5330', '5331', '5369', '5377', '5387', '5407',\n",
              "       'activity', 'nametags'],\n",
              "      dtype='object', length=345)"
            ]
          },
          "metadata": {
            "tags": []
          },
          "execution_count": 5
        }
      ]
    },
    {
      "cell_type": "code",
      "metadata": {
        "id": "1Ay-dyW9h7gw"
      },
      "source": [
        "df.drop(columns='Unnamed: 0', inplace=True)"
      ],
      "execution_count": 6,
      "outputs": []
    },
    {
      "cell_type": "code",
      "metadata": {
        "id": "cMsr_0UrimDA",
        "colab": {
          "base_uri": "https://localhost:8080/",
          "height": 252
        },
        "outputId": "b300f1ac-fb40-482c-afe9-aa6e223c32a7"
      },
      "source": [
        "df.head()"
      ],
      "execution_count": 7,
      "outputs": [
        {
          "output_type": "execute_result",
          "data": {
            "text/html": [
              "<div>\n",
              "<style scoped>\n",
              "    .dataframe tbody tr th:only-of-type {\n",
              "        vertical-align: middle;\n",
              "    }\n",
              "\n",
              "    .dataframe tbody tr th {\n",
              "        vertical-align: top;\n",
              "    }\n",
              "\n",
              "    .dataframe thead th {\n",
              "        text-align: right;\n",
              "    }\n",
              "</style>\n",
              "<table border=\"1\" class=\"dataframe\">\n",
              "  <thead>\n",
              "    <tr style=\"text-align: right;\">\n",
              "      <th></th>\n",
              "      <th>25</th>\n",
              "      <th>86</th>\n",
              "      <th>131</th>\n",
              "      <th>294</th>\n",
              "      <th>297</th>\n",
              "      <th>307</th>\n",
              "      <th>321</th>\n",
              "      <th>340</th>\n",
              "      <th>345</th>\n",
              "      <th>346</th>\n",
              "      <th>370</th>\n",
              "      <th>500</th>\n",
              "      <th>506</th>\n",
              "      <th>536</th>\n",
              "      <th>553</th>\n",
              "      <th>608</th>\n",
              "      <th>610</th>\n",
              "      <th>712</th>\n",
              "      <th>718</th>\n",
              "      <th>722</th>\n",
              "      <th>723</th>\n",
              "      <th>726</th>\n",
              "      <th>730</th>\n",
              "      <th>748</th>\n",
              "      <th>758</th>\n",
              "      <th>762</th>\n",
              "      <th>763</th>\n",
              "      <th>812</th>\n",
              "      <th>888</th>\n",
              "      <th>921</th>\n",
              "      <th>923</th>\n",
              "      <th>960</th>\n",
              "      <th>969</th>\n",
              "      <th>970</th>\n",
              "      <th>977</th>\n",
              "      <th>999</th>\n",
              "      <th>1027</th>\n",
              "      <th>1028</th>\n",
              "      <th>1032</th>\n",
              "      <th>1035</th>\n",
              "      <th>...</th>\n",
              "      <th>4804</th>\n",
              "      <th>4809</th>\n",
              "      <th>4813</th>\n",
              "      <th>4814</th>\n",
              "      <th>4816</th>\n",
              "      <th>4817</th>\n",
              "      <th>4821</th>\n",
              "      <th>4822</th>\n",
              "      <th>4824</th>\n",
              "      <th>4844</th>\n",
              "      <th>4845</th>\n",
              "      <th>4881</th>\n",
              "      <th>4886</th>\n",
              "      <th>4901</th>\n",
              "      <th>4933</th>\n",
              "      <th>4944</th>\n",
              "      <th>5052</th>\n",
              "      <th>5065</th>\n",
              "      <th>5066</th>\n",
              "      <th>5075</th>\n",
              "      <th>5113</th>\n",
              "      <th>5122</th>\n",
              "      <th>5163</th>\n",
              "      <th>5164</th>\n",
              "      <th>5189</th>\n",
              "      <th>5201</th>\n",
              "      <th>5214</th>\n",
              "      <th>5251</th>\n",
              "      <th>5262</th>\n",
              "      <th>5275</th>\n",
              "      <th>5282</th>\n",
              "      <th>5283</th>\n",
              "      <th>5330</th>\n",
              "      <th>5331</th>\n",
              "      <th>5369</th>\n",
              "      <th>5377</th>\n",
              "      <th>5387</th>\n",
              "      <th>5407</th>\n",
              "      <th>activity</th>\n",
              "      <th>nametags</th>\n",
              "    </tr>\n",
              "  </thead>\n",
              "  <tbody>\n",
              "    <tr>\n",
              "      <th>0</th>\n",
              "      <td>-0.031</td>\n",
              "      <td>-0.024</td>\n",
              "      <td>-0.021</td>\n",
              "      <td>-4.109</td>\n",
              "      <td>0.003</td>\n",
              "      <td>-0.103000</td>\n",
              "      <td>2.551</td>\n",
              "      <td>3.024</td>\n",
              "      <td>-0.442</td>\n",
              "      <td>-0.001</td>\n",
              "      <td>1.038</td>\n",
              "      <td>0.048</td>\n",
              "      <td>-0.019</td>\n",
              "      <td>0.033</td>\n",
              "      <td>0.040000</td>\n",
              "      <td>-0.180</td>\n",
              "      <td>-0.918</td>\n",
              "      <td>-0.459</td>\n",
              "      <td>0.039</td>\n",
              "      <td>-1.460</td>\n",
              "      <td>1.732</td>\n",
              "      <td>0.160</td>\n",
              "      <td>-0.093</td>\n",
              "      <td>0.225</td>\n",
              "      <td>-0.394</td>\n",
              "      <td>-0.560</td>\n",
              "      <td>-0.104</td>\n",
              "      <td>0.545727</td>\n",
              "      <td>0.011</td>\n",
              "      <td>-0.031</td>\n",
              "      <td>-0.010</td>\n",
              "      <td>2.869</td>\n",
              "      <td>-0.040</td>\n",
              "      <td>0.075</td>\n",
              "      <td>0.015</td>\n",
              "      <td>0.207</td>\n",
              "      <td>-0.00504</td>\n",
              "      <td>-16.502</td>\n",
              "      <td>0.026</td>\n",
              "      <td>0.012</td>\n",
              "      <td>...</td>\n",
              "      <td>-14.342</td>\n",
              "      <td>-1.213727</td>\n",
              "      <td>0.033067</td>\n",
              "      <td>-2.246</td>\n",
              "      <td>24.298</td>\n",
              "      <td>48.519</td>\n",
              "      <td>0.120300</td>\n",
              "      <td>0.582294</td>\n",
              "      <td>0.227375</td>\n",
              "      <td>0.005</td>\n",
              "      <td>0.020</td>\n",
              "      <td>-0.005</td>\n",
              "      <td>-0.060</td>\n",
              "      <td>-0.049</td>\n",
              "      <td>-0.034</td>\n",
              "      <td>-0.004000</td>\n",
              "      <td>0.025</td>\n",
              "      <td>-0.034</td>\n",
              "      <td>-0.014</td>\n",
              "      <td>-0.021</td>\n",
              "      <td>0.004</td>\n",
              "      <td>-0.008</td>\n",
              "      <td>0.041</td>\n",
              "      <td>0.044</td>\n",
              "      <td>0.043</td>\n",
              "      <td>-0.037</td>\n",
              "      <td>-0.039</td>\n",
              "      <td>0.016</td>\n",
              "      <td>-0.029</td>\n",
              "      <td>0.050</td>\n",
              "      <td>0.030</td>\n",
              "      <td>-0.028</td>\n",
              "      <td>-0.033</td>\n",
              "      <td>0.046</td>\n",
              "      <td>0.058</td>\n",
              "      <td>-0.087</td>\n",
              "      <td>0.035</td>\n",
              "      <td>-0.007</td>\n",
              "      <td>False</td>\n",
              "      <td>a119e_l125p</td>\n",
              "    </tr>\n",
              "    <tr>\n",
              "      <th>1</th>\n",
              "      <td>-0.019</td>\n",
              "      <td>0.006</td>\n",
              "      <td>-0.038</td>\n",
              "      <td>-4.111</td>\n",
              "      <td>0.006</td>\n",
              "      <td>-0.054667</td>\n",
              "      <td>-0.002</td>\n",
              "      <td>2.952</td>\n",
              "      <td>-0.366</td>\n",
              "      <td>0.009</td>\n",
              "      <td>0.992</td>\n",
              "      <td>0.001</td>\n",
              "      <td>-0.002</td>\n",
              "      <td>0.031</td>\n",
              "      <td>0.016286</td>\n",
              "      <td>0.078</td>\n",
              "      <td>-0.023</td>\n",
              "      <td>-0.416</td>\n",
              "      <td>0.066</td>\n",
              "      <td>-1.446</td>\n",
              "      <td>1.768</td>\n",
              "      <td>0.026</td>\n",
              "      <td>0.005</td>\n",
              "      <td>-0.004</td>\n",
              "      <td>-1.017</td>\n",
              "      <td>-0.096</td>\n",
              "      <td>-0.089</td>\n",
              "      <td>0.775091</td>\n",
              "      <td>-0.003</td>\n",
              "      <td>-0.023</td>\n",
              "      <td>-0.030</td>\n",
              "      <td>2.896</td>\n",
              "      <td>0.013</td>\n",
              "      <td>0.093</td>\n",
              "      <td>0.124</td>\n",
              "      <td>2.650</td>\n",
              "      <td>0.25640</td>\n",
              "      <td>-16.527</td>\n",
              "      <td>0.008</td>\n",
              "      <td>0.000</td>\n",
              "      <td>...</td>\n",
              "      <td>4.115</td>\n",
              "      <td>-0.619045</td>\n",
              "      <td>-1.028600</td>\n",
              "      <td>-1.808</td>\n",
              "      <td>21.268</td>\n",
              "      <td>62.454</td>\n",
              "      <td>-0.112233</td>\n",
              "      <td>0.537647</td>\n",
              "      <td>0.278125</td>\n",
              "      <td>-0.012</td>\n",
              "      <td>0.007</td>\n",
              "      <td>-0.003</td>\n",
              "      <td>-0.082</td>\n",
              "      <td>-0.029</td>\n",
              "      <td>-0.017</td>\n",
              "      <td>0.010000</td>\n",
              "      <td>0.005</td>\n",
              "      <td>-0.021</td>\n",
              "      <td>-0.021</td>\n",
              "      <td>-0.009</td>\n",
              "      <td>-0.009</td>\n",
              "      <td>-0.001</td>\n",
              "      <td>0.022</td>\n",
              "      <td>0.022</td>\n",
              "      <td>0.026</td>\n",
              "      <td>-0.012</td>\n",
              "      <td>-0.020</td>\n",
              "      <td>0.013</td>\n",
              "      <td>-0.012</td>\n",
              "      <td>0.034</td>\n",
              "      <td>0.005</td>\n",
              "      <td>-0.018</td>\n",
              "      <td>-0.016</td>\n",
              "      <td>0.021</td>\n",
              "      <td>0.047</td>\n",
              "      <td>-0.035</td>\n",
              "      <td>0.011</td>\n",
              "      <td>0.005</td>\n",
              "      <td>False</td>\n",
              "      <td>a119e_r283k_a353v</td>\n",
              "    </tr>\n",
              "    <tr>\n",
              "      <th>2</th>\n",
              "      <td>-0.036</td>\n",
              "      <td>-0.056</td>\n",
              "      <td>-0.033</td>\n",
              "      <td>-4.107</td>\n",
              "      <td>-0.012</td>\n",
              "      <td>-0.099333</td>\n",
              "      <td>-0.002</td>\n",
              "      <td>3.031</td>\n",
              "      <td>-0.089</td>\n",
              "      <td>-0.019</td>\n",
              "      <td>1.051</td>\n",
              "      <td>0.041</td>\n",
              "      <td>-0.024</td>\n",
              "      <td>0.042</td>\n",
              "      <td>-1.114571</td>\n",
              "      <td>-0.216</td>\n",
              "      <td>-0.933</td>\n",
              "      <td>-0.457</td>\n",
              "      <td>0.048</td>\n",
              "      <td>-1.455</td>\n",
              "      <td>1.739</td>\n",
              "      <td>-2.953</td>\n",
              "      <td>-0.062</td>\n",
              "      <td>0.222</td>\n",
              "      <td>-1.010</td>\n",
              "      <td>-0.205</td>\n",
              "      <td>-0.103</td>\n",
              "      <td>0.535364</td>\n",
              "      <td>-0.005</td>\n",
              "      <td>-0.025</td>\n",
              "      <td>-0.020</td>\n",
              "      <td>2.862</td>\n",
              "      <td>-0.048</td>\n",
              "      <td>0.058</td>\n",
              "      <td>0.002</td>\n",
              "      <td>0.200</td>\n",
              "      <td>-0.00790</td>\n",
              "      <td>-16.508</td>\n",
              "      <td>0.018</td>\n",
              "      <td>0.007</td>\n",
              "      <td>...</td>\n",
              "      <td>-11.706</td>\n",
              "      <td>0.489000</td>\n",
              "      <td>-0.503633</td>\n",
              "      <td>-2.324</td>\n",
              "      <td>24.274</td>\n",
              "      <td>49.118</td>\n",
              "      <td>0.648200</td>\n",
              "      <td>0.396000</td>\n",
              "      <td>0.027750</td>\n",
              "      <td>0.012</td>\n",
              "      <td>0.010</td>\n",
              "      <td>-0.009</td>\n",
              "      <td>-0.070</td>\n",
              "      <td>-0.055</td>\n",
              "      <td>-0.027</td>\n",
              "      <td>-0.002000</td>\n",
              "      <td>0.042</td>\n",
              "      <td>-0.029</td>\n",
              "      <td>-0.015</td>\n",
              "      <td>-0.020</td>\n",
              "      <td>0.003</td>\n",
              "      <td>-0.011</td>\n",
              "      <td>0.030</td>\n",
              "      <td>0.051</td>\n",
              "      <td>0.043</td>\n",
              "      <td>-0.034</td>\n",
              "      <td>-0.045</td>\n",
              "      <td>0.018</td>\n",
              "      <td>-0.032</td>\n",
              "      <td>0.053</td>\n",
              "      <td>0.028</td>\n",
              "      <td>-0.033</td>\n",
              "      <td>-0.038</td>\n",
              "      <td>0.044</td>\n",
              "      <td>0.074</td>\n",
              "      <td>-0.076</td>\n",
              "      <td>0.036</td>\n",
              "      <td>-0.018</td>\n",
              "      <td>False</td>\n",
              "      <td>c135y</td>\n",
              "    </tr>\n",
              "    <tr>\n",
              "      <th>3</th>\n",
              "      <td>-0.058</td>\n",
              "      <td>-0.116</td>\n",
              "      <td>-0.039</td>\n",
              "      <td>-4.106</td>\n",
              "      <td>-0.038</td>\n",
              "      <td>-0.134333</td>\n",
              "      <td>-0.017</td>\n",
              "      <td>-0.033</td>\n",
              "      <td>-0.056</td>\n",
              "      <td>-0.046</td>\n",
              "      <td>1.180</td>\n",
              "      <td>4.554</td>\n",
              "      <td>4.426</td>\n",
              "      <td>0.063</td>\n",
              "      <td>-1.086357</td>\n",
              "      <td>-0.536</td>\n",
              "      <td>-1.128</td>\n",
              "      <td>-0.476</td>\n",
              "      <td>0.024</td>\n",
              "      <td>-1.473</td>\n",
              "      <td>1.782</td>\n",
              "      <td>-2.943</td>\n",
              "      <td>-0.033</td>\n",
              "      <td>0.217</td>\n",
              "      <td>-1.035</td>\n",
              "      <td>-0.533</td>\n",
              "      <td>-0.105</td>\n",
              "      <td>0.755273</td>\n",
              "      <td>-0.045</td>\n",
              "      <td>-0.063</td>\n",
              "      <td>-0.083</td>\n",
              "      <td>2.880</td>\n",
              "      <td>-0.088</td>\n",
              "      <td>-0.060</td>\n",
              "      <td>-0.046</td>\n",
              "      <td>0.201</td>\n",
              "      <td>0.22802</td>\n",
              "      <td>-16.508</td>\n",
              "      <td>0.018</td>\n",
              "      <td>0.003</td>\n",
              "      <td>...</td>\n",
              "      <td>-23.103</td>\n",
              "      <td>-1.607500</td>\n",
              "      <td>0.218600</td>\n",
              "      <td>-2.305</td>\n",
              "      <td>16.750</td>\n",
              "      <td>56.411</td>\n",
              "      <td>0.537033</td>\n",
              "      <td>0.455118</td>\n",
              "      <td>0.050625</td>\n",
              "      <td>0.028</td>\n",
              "      <td>-0.003</td>\n",
              "      <td>-0.021</td>\n",
              "      <td>-0.103</td>\n",
              "      <td>-0.082</td>\n",
              "      <td>-0.065</td>\n",
              "      <td>-0.492000</td>\n",
              "      <td>0.038</td>\n",
              "      <td>-0.042</td>\n",
              "      <td>0.003</td>\n",
              "      <td>-0.026</td>\n",
              "      <td>0.021</td>\n",
              "      <td>-0.001</td>\n",
              "      <td>0.031</td>\n",
              "      <td>0.062</td>\n",
              "      <td>0.057</td>\n",
              "      <td>-0.048</td>\n",
              "      <td>-0.067</td>\n",
              "      <td>0.189</td>\n",
              "      <td>-0.069</td>\n",
              "      <td>0.076</td>\n",
              "      <td>0.053</td>\n",
              "      <td>-0.050</td>\n",
              "      <td>-0.061</td>\n",
              "      <td>0.061</td>\n",
              "      <td>0.126</td>\n",
              "      <td>-0.124</td>\n",
              "      <td>0.059</td>\n",
              "      <td>-0.049</td>\n",
              "      <td>False</td>\n",
              "      <td>c135y_e285m</td>\n",
              "    </tr>\n",
              "    <tr>\n",
              "      <th>4</th>\n",
              "      <td>-0.011</td>\n",
              "      <td>0.012</td>\n",
              "      <td>-0.037</td>\n",
              "      <td>-4.110</td>\n",
              "      <td>0.011</td>\n",
              "      <td>-0.057333</td>\n",
              "      <td>0.000</td>\n",
              "      <td>2.974</td>\n",
              "      <td>-0.362</td>\n",
              "      <td>0.017</td>\n",
              "      <td>0.949</td>\n",
              "      <td>0.010</td>\n",
              "      <td>0.005</td>\n",
              "      <td>0.025</td>\n",
              "      <td>0.008214</td>\n",
              "      <td>-0.055</td>\n",
              "      <td>-0.927</td>\n",
              "      <td>-0.409</td>\n",
              "      <td>0.080</td>\n",
              "      <td>-1.434</td>\n",
              "      <td>1.805</td>\n",
              "      <td>0.036</td>\n",
              "      <td>-0.004</td>\n",
              "      <td>-0.004</td>\n",
              "      <td>-1.108</td>\n",
              "      <td>-0.128</td>\n",
              "      <td>-0.098</td>\n",
              "      <td>0.782091</td>\n",
              "      <td>0.005</td>\n",
              "      <td>-0.054</td>\n",
              "      <td>-0.030</td>\n",
              "      <td>2.896</td>\n",
              "      <td>-0.004</td>\n",
              "      <td>-2.720</td>\n",
              "      <td>-2.106</td>\n",
              "      <td>0.149</td>\n",
              "      <td>0.25992</td>\n",
              "      <td>0.000</td>\n",
              "      <td>0.008</td>\n",
              "      <td>0.003</td>\n",
              "      <td>...</td>\n",
              "      <td>2.702</td>\n",
              "      <td>-1.240091</td>\n",
              "      <td>-1.339100</td>\n",
              "      <td>-2.378</td>\n",
              "      <td>20.821</td>\n",
              "      <td>61.475</td>\n",
              "      <td>-2.289233</td>\n",
              "      <td>0.309824</td>\n",
              "      <td>-0.122750</td>\n",
              "      <td>-0.014</td>\n",
              "      <td>0.012</td>\n",
              "      <td>0.007</td>\n",
              "      <td>-0.030</td>\n",
              "      <td>-0.027</td>\n",
              "      <td>-0.011</td>\n",
              "      <td>-0.371001</td>\n",
              "      <td>0.004</td>\n",
              "      <td>-0.017</td>\n",
              "      <td>-0.019</td>\n",
              "      <td>-0.007</td>\n",
              "      <td>-0.011</td>\n",
              "      <td>0.018</td>\n",
              "      <td>0.018</td>\n",
              "      <td>0.023</td>\n",
              "      <td>0.022</td>\n",
              "      <td>-0.007</td>\n",
              "      <td>-0.014</td>\n",
              "      <td>0.148</td>\n",
              "      <td>-0.012</td>\n",
              "      <td>0.024</td>\n",
              "      <td>0.005</td>\n",
              "      <td>-0.013</td>\n",
              "      <td>-0.008</td>\n",
              "      <td>0.016</td>\n",
              "      <td>0.024</td>\n",
              "      <td>-0.035</td>\n",
              "      <td>0.009</td>\n",
              "      <td>0.013</td>\n",
              "      <td>False</td>\n",
              "      <td>c135y_e285v</td>\n",
              "    </tr>\n",
              "  </tbody>\n",
              "</table>\n",
              "<p>5 rows × 344 columns</p>\n",
              "</div>"
            ],
            "text/plain": [
              "      25     86    131    294  ...   5387   5407  activity           nametags\n",
              "0 -0.031 -0.024 -0.021 -4.109  ...  0.035 -0.007     False        a119e_l125p\n",
              "1 -0.019  0.006 -0.038 -4.111  ...  0.011  0.005     False  a119e_r283k_a353v\n",
              "2 -0.036 -0.056 -0.033 -4.107  ...  0.036 -0.018     False              c135y\n",
              "3 -0.058 -0.116 -0.039 -4.106  ...  0.059 -0.049     False        c135y_e285m\n",
              "4 -0.011  0.012 -0.037 -4.110  ...  0.009  0.013     False        c135y_e285v\n",
              "\n",
              "[5 rows x 344 columns]"
            ]
          },
          "metadata": {
            "tags": []
          },
          "execution_count": 7
        }
      ]
    },
    {
      "cell_type": "markdown",
      "metadata": {
        "id": "-6CmU_jcfU8z"
      },
      "source": [
        "#### Correlation Heatmap for All Features"
      ]
    },
    {
      "cell_type": "code",
      "metadata": {
        "id": "HdcrCOqCfU80"
      },
      "source": [
        "#plt.figure(figsize=(20, 20))\n",
        "#heatmap = sns.heatmap(df.corr(), annot=True)\n",
        "#heatmap.set_title('Correlation Heatmap', fontdict={'fontsize':18}, pad=12)"
      ],
      "execution_count": 8,
      "outputs": []
    },
    {
      "cell_type": "markdown",
      "metadata": {
        "id": "EwnEIMFifU80"
      },
      "source": [
        "#### Pop Out Nametags Column"
      ]
    },
    {
      "cell_type": "code",
      "metadata": {
        "id": "ZtxTg1jdir5W",
        "colab": {
          "base_uri": "https://localhost:8080/"
        },
        "outputId": "566df6af-f030-46fe-d6c7-40319a16fab0"
      },
      "source": [
        "nametags = df.pop('nametags').astype(str)\n",
        "print(nametags)"
      ],
      "execution_count": 9,
      "outputs": [
        {
          "output_type": "stream",
          "text": [
            "0              a119e_l125p\n",
            "1        a119e_r283k_a353v\n",
            "2                    c135y\n",
            "3              c135y_e285m\n",
            "4              c135y_e285v\n",
            "               ...        \n",
            "16586    y220c_t230c_n239y\n",
            "16587    y220c_y234f_n239l\n",
            "16588                y234c\n",
            "16589          y234c_a119e\n",
            "16590          y234f_n239l\n",
            "Name: nametags, Length: 16591, dtype: object\n"
          ],
          "name": "stdout"
        }
      ]
    },
    {
      "cell_type": "code",
      "metadata": {
        "id": "_UJLLu9OkS9e",
        "colab": {
          "base_uri": "https://localhost:8080/",
          "height": 252
        },
        "outputId": "9fb244dd-876e-4bd8-fb8e-302d2a1124fe"
      },
      "source": [
        "df.head()"
      ],
      "execution_count": 10,
      "outputs": [
        {
          "output_type": "execute_result",
          "data": {
            "text/html": [
              "<div>\n",
              "<style scoped>\n",
              "    .dataframe tbody tr th:only-of-type {\n",
              "        vertical-align: middle;\n",
              "    }\n",
              "\n",
              "    .dataframe tbody tr th {\n",
              "        vertical-align: top;\n",
              "    }\n",
              "\n",
              "    .dataframe thead th {\n",
              "        text-align: right;\n",
              "    }\n",
              "</style>\n",
              "<table border=\"1\" class=\"dataframe\">\n",
              "  <thead>\n",
              "    <tr style=\"text-align: right;\">\n",
              "      <th></th>\n",
              "      <th>25</th>\n",
              "      <th>86</th>\n",
              "      <th>131</th>\n",
              "      <th>294</th>\n",
              "      <th>297</th>\n",
              "      <th>307</th>\n",
              "      <th>321</th>\n",
              "      <th>340</th>\n",
              "      <th>345</th>\n",
              "      <th>346</th>\n",
              "      <th>370</th>\n",
              "      <th>500</th>\n",
              "      <th>506</th>\n",
              "      <th>536</th>\n",
              "      <th>553</th>\n",
              "      <th>608</th>\n",
              "      <th>610</th>\n",
              "      <th>712</th>\n",
              "      <th>718</th>\n",
              "      <th>722</th>\n",
              "      <th>723</th>\n",
              "      <th>726</th>\n",
              "      <th>730</th>\n",
              "      <th>748</th>\n",
              "      <th>758</th>\n",
              "      <th>762</th>\n",
              "      <th>763</th>\n",
              "      <th>812</th>\n",
              "      <th>888</th>\n",
              "      <th>921</th>\n",
              "      <th>923</th>\n",
              "      <th>960</th>\n",
              "      <th>969</th>\n",
              "      <th>970</th>\n",
              "      <th>977</th>\n",
              "      <th>999</th>\n",
              "      <th>1027</th>\n",
              "      <th>1028</th>\n",
              "      <th>1032</th>\n",
              "      <th>1035</th>\n",
              "      <th>...</th>\n",
              "      <th>4802</th>\n",
              "      <th>4804</th>\n",
              "      <th>4809</th>\n",
              "      <th>4813</th>\n",
              "      <th>4814</th>\n",
              "      <th>4816</th>\n",
              "      <th>4817</th>\n",
              "      <th>4821</th>\n",
              "      <th>4822</th>\n",
              "      <th>4824</th>\n",
              "      <th>4844</th>\n",
              "      <th>4845</th>\n",
              "      <th>4881</th>\n",
              "      <th>4886</th>\n",
              "      <th>4901</th>\n",
              "      <th>4933</th>\n",
              "      <th>4944</th>\n",
              "      <th>5052</th>\n",
              "      <th>5065</th>\n",
              "      <th>5066</th>\n",
              "      <th>5075</th>\n",
              "      <th>5113</th>\n",
              "      <th>5122</th>\n",
              "      <th>5163</th>\n",
              "      <th>5164</th>\n",
              "      <th>5189</th>\n",
              "      <th>5201</th>\n",
              "      <th>5214</th>\n",
              "      <th>5251</th>\n",
              "      <th>5262</th>\n",
              "      <th>5275</th>\n",
              "      <th>5282</th>\n",
              "      <th>5283</th>\n",
              "      <th>5330</th>\n",
              "      <th>5331</th>\n",
              "      <th>5369</th>\n",
              "      <th>5377</th>\n",
              "      <th>5387</th>\n",
              "      <th>5407</th>\n",
              "      <th>activity</th>\n",
              "    </tr>\n",
              "  </thead>\n",
              "  <tbody>\n",
              "    <tr>\n",
              "      <th>0</th>\n",
              "      <td>-0.031</td>\n",
              "      <td>-0.024</td>\n",
              "      <td>-0.021</td>\n",
              "      <td>-4.109</td>\n",
              "      <td>0.003</td>\n",
              "      <td>-0.103000</td>\n",
              "      <td>2.551</td>\n",
              "      <td>3.024</td>\n",
              "      <td>-0.442</td>\n",
              "      <td>-0.001</td>\n",
              "      <td>1.038</td>\n",
              "      <td>0.048</td>\n",
              "      <td>-0.019</td>\n",
              "      <td>0.033</td>\n",
              "      <td>0.040000</td>\n",
              "      <td>-0.180</td>\n",
              "      <td>-0.918</td>\n",
              "      <td>-0.459</td>\n",
              "      <td>0.039</td>\n",
              "      <td>-1.460</td>\n",
              "      <td>1.732</td>\n",
              "      <td>0.160</td>\n",
              "      <td>-0.093</td>\n",
              "      <td>0.225</td>\n",
              "      <td>-0.394</td>\n",
              "      <td>-0.560</td>\n",
              "      <td>-0.104</td>\n",
              "      <td>0.545727</td>\n",
              "      <td>0.011</td>\n",
              "      <td>-0.031</td>\n",
              "      <td>-0.010</td>\n",
              "      <td>2.869</td>\n",
              "      <td>-0.040</td>\n",
              "      <td>0.075</td>\n",
              "      <td>0.015</td>\n",
              "      <td>0.207</td>\n",
              "      <td>-0.00504</td>\n",
              "      <td>-16.502</td>\n",
              "      <td>0.026</td>\n",
              "      <td>0.012</td>\n",
              "      <td>...</td>\n",
              "      <td>-18.015</td>\n",
              "      <td>-14.342</td>\n",
              "      <td>-1.213727</td>\n",
              "      <td>0.033067</td>\n",
              "      <td>-2.246</td>\n",
              "      <td>24.298</td>\n",
              "      <td>48.519</td>\n",
              "      <td>0.120300</td>\n",
              "      <td>0.582294</td>\n",
              "      <td>0.227375</td>\n",
              "      <td>0.005</td>\n",
              "      <td>0.020</td>\n",
              "      <td>-0.005</td>\n",
              "      <td>-0.060</td>\n",
              "      <td>-0.049</td>\n",
              "      <td>-0.034</td>\n",
              "      <td>-0.004000</td>\n",
              "      <td>0.025</td>\n",
              "      <td>-0.034</td>\n",
              "      <td>-0.014</td>\n",
              "      <td>-0.021</td>\n",
              "      <td>0.004</td>\n",
              "      <td>-0.008</td>\n",
              "      <td>0.041</td>\n",
              "      <td>0.044</td>\n",
              "      <td>0.043</td>\n",
              "      <td>-0.037</td>\n",
              "      <td>-0.039</td>\n",
              "      <td>0.016</td>\n",
              "      <td>-0.029</td>\n",
              "      <td>0.050</td>\n",
              "      <td>0.030</td>\n",
              "      <td>-0.028</td>\n",
              "      <td>-0.033</td>\n",
              "      <td>0.046</td>\n",
              "      <td>0.058</td>\n",
              "      <td>-0.087</td>\n",
              "      <td>0.035</td>\n",
              "      <td>-0.007</td>\n",
              "      <td>False</td>\n",
              "    </tr>\n",
              "    <tr>\n",
              "      <th>1</th>\n",
              "      <td>-0.019</td>\n",
              "      <td>0.006</td>\n",
              "      <td>-0.038</td>\n",
              "      <td>-4.111</td>\n",
              "      <td>0.006</td>\n",
              "      <td>-0.054667</td>\n",
              "      <td>-0.002</td>\n",
              "      <td>2.952</td>\n",
              "      <td>-0.366</td>\n",
              "      <td>0.009</td>\n",
              "      <td>0.992</td>\n",
              "      <td>0.001</td>\n",
              "      <td>-0.002</td>\n",
              "      <td>0.031</td>\n",
              "      <td>0.016286</td>\n",
              "      <td>0.078</td>\n",
              "      <td>-0.023</td>\n",
              "      <td>-0.416</td>\n",
              "      <td>0.066</td>\n",
              "      <td>-1.446</td>\n",
              "      <td>1.768</td>\n",
              "      <td>0.026</td>\n",
              "      <td>0.005</td>\n",
              "      <td>-0.004</td>\n",
              "      <td>-1.017</td>\n",
              "      <td>-0.096</td>\n",
              "      <td>-0.089</td>\n",
              "      <td>0.775091</td>\n",
              "      <td>-0.003</td>\n",
              "      <td>-0.023</td>\n",
              "      <td>-0.030</td>\n",
              "      <td>2.896</td>\n",
              "      <td>0.013</td>\n",
              "      <td>0.093</td>\n",
              "      <td>0.124</td>\n",
              "      <td>2.650</td>\n",
              "      <td>0.25640</td>\n",
              "      <td>-16.527</td>\n",
              "      <td>0.008</td>\n",
              "      <td>0.000</td>\n",
              "      <td>...</td>\n",
              "      <td>-9.978</td>\n",
              "      <td>4.115</td>\n",
              "      <td>-0.619045</td>\n",
              "      <td>-1.028600</td>\n",
              "      <td>-1.808</td>\n",
              "      <td>21.268</td>\n",
              "      <td>62.454</td>\n",
              "      <td>-0.112233</td>\n",
              "      <td>0.537647</td>\n",
              "      <td>0.278125</td>\n",
              "      <td>-0.012</td>\n",
              "      <td>0.007</td>\n",
              "      <td>-0.003</td>\n",
              "      <td>-0.082</td>\n",
              "      <td>-0.029</td>\n",
              "      <td>-0.017</td>\n",
              "      <td>0.010000</td>\n",
              "      <td>0.005</td>\n",
              "      <td>-0.021</td>\n",
              "      <td>-0.021</td>\n",
              "      <td>-0.009</td>\n",
              "      <td>-0.009</td>\n",
              "      <td>-0.001</td>\n",
              "      <td>0.022</td>\n",
              "      <td>0.022</td>\n",
              "      <td>0.026</td>\n",
              "      <td>-0.012</td>\n",
              "      <td>-0.020</td>\n",
              "      <td>0.013</td>\n",
              "      <td>-0.012</td>\n",
              "      <td>0.034</td>\n",
              "      <td>0.005</td>\n",
              "      <td>-0.018</td>\n",
              "      <td>-0.016</td>\n",
              "      <td>0.021</td>\n",
              "      <td>0.047</td>\n",
              "      <td>-0.035</td>\n",
              "      <td>0.011</td>\n",
              "      <td>0.005</td>\n",
              "      <td>False</td>\n",
              "    </tr>\n",
              "    <tr>\n",
              "      <th>2</th>\n",
              "      <td>-0.036</td>\n",
              "      <td>-0.056</td>\n",
              "      <td>-0.033</td>\n",
              "      <td>-4.107</td>\n",
              "      <td>-0.012</td>\n",
              "      <td>-0.099333</td>\n",
              "      <td>-0.002</td>\n",
              "      <td>3.031</td>\n",
              "      <td>-0.089</td>\n",
              "      <td>-0.019</td>\n",
              "      <td>1.051</td>\n",
              "      <td>0.041</td>\n",
              "      <td>-0.024</td>\n",
              "      <td>0.042</td>\n",
              "      <td>-1.114571</td>\n",
              "      <td>-0.216</td>\n",
              "      <td>-0.933</td>\n",
              "      <td>-0.457</td>\n",
              "      <td>0.048</td>\n",
              "      <td>-1.455</td>\n",
              "      <td>1.739</td>\n",
              "      <td>-2.953</td>\n",
              "      <td>-0.062</td>\n",
              "      <td>0.222</td>\n",
              "      <td>-1.010</td>\n",
              "      <td>-0.205</td>\n",
              "      <td>-0.103</td>\n",
              "      <td>0.535364</td>\n",
              "      <td>-0.005</td>\n",
              "      <td>-0.025</td>\n",
              "      <td>-0.020</td>\n",
              "      <td>2.862</td>\n",
              "      <td>-0.048</td>\n",
              "      <td>0.058</td>\n",
              "      <td>0.002</td>\n",
              "      <td>0.200</td>\n",
              "      <td>-0.00790</td>\n",
              "      <td>-16.508</td>\n",
              "      <td>0.018</td>\n",
              "      <td>0.007</td>\n",
              "      <td>...</td>\n",
              "      <td>-17.386</td>\n",
              "      <td>-11.706</td>\n",
              "      <td>0.489000</td>\n",
              "      <td>-0.503633</td>\n",
              "      <td>-2.324</td>\n",
              "      <td>24.274</td>\n",
              "      <td>49.118</td>\n",
              "      <td>0.648200</td>\n",
              "      <td>0.396000</td>\n",
              "      <td>0.027750</td>\n",
              "      <td>0.012</td>\n",
              "      <td>0.010</td>\n",
              "      <td>-0.009</td>\n",
              "      <td>-0.070</td>\n",
              "      <td>-0.055</td>\n",
              "      <td>-0.027</td>\n",
              "      <td>-0.002000</td>\n",
              "      <td>0.042</td>\n",
              "      <td>-0.029</td>\n",
              "      <td>-0.015</td>\n",
              "      <td>-0.020</td>\n",
              "      <td>0.003</td>\n",
              "      <td>-0.011</td>\n",
              "      <td>0.030</td>\n",
              "      <td>0.051</td>\n",
              "      <td>0.043</td>\n",
              "      <td>-0.034</td>\n",
              "      <td>-0.045</td>\n",
              "      <td>0.018</td>\n",
              "      <td>-0.032</td>\n",
              "      <td>0.053</td>\n",
              "      <td>0.028</td>\n",
              "      <td>-0.033</td>\n",
              "      <td>-0.038</td>\n",
              "      <td>0.044</td>\n",
              "      <td>0.074</td>\n",
              "      <td>-0.076</td>\n",
              "      <td>0.036</td>\n",
              "      <td>-0.018</td>\n",
              "      <td>False</td>\n",
              "    </tr>\n",
              "    <tr>\n",
              "      <th>3</th>\n",
              "      <td>-0.058</td>\n",
              "      <td>-0.116</td>\n",
              "      <td>-0.039</td>\n",
              "      <td>-4.106</td>\n",
              "      <td>-0.038</td>\n",
              "      <td>-0.134333</td>\n",
              "      <td>-0.017</td>\n",
              "      <td>-0.033</td>\n",
              "      <td>-0.056</td>\n",
              "      <td>-0.046</td>\n",
              "      <td>1.180</td>\n",
              "      <td>4.554</td>\n",
              "      <td>4.426</td>\n",
              "      <td>0.063</td>\n",
              "      <td>-1.086357</td>\n",
              "      <td>-0.536</td>\n",
              "      <td>-1.128</td>\n",
              "      <td>-0.476</td>\n",
              "      <td>0.024</td>\n",
              "      <td>-1.473</td>\n",
              "      <td>1.782</td>\n",
              "      <td>-2.943</td>\n",
              "      <td>-0.033</td>\n",
              "      <td>0.217</td>\n",
              "      <td>-1.035</td>\n",
              "      <td>-0.533</td>\n",
              "      <td>-0.105</td>\n",
              "      <td>0.755273</td>\n",
              "      <td>-0.045</td>\n",
              "      <td>-0.063</td>\n",
              "      <td>-0.083</td>\n",
              "      <td>2.880</td>\n",
              "      <td>-0.088</td>\n",
              "      <td>-0.060</td>\n",
              "      <td>-0.046</td>\n",
              "      <td>0.201</td>\n",
              "      <td>0.22802</td>\n",
              "      <td>-16.508</td>\n",
              "      <td>0.018</td>\n",
              "      <td>0.003</td>\n",
              "      <td>...</td>\n",
              "      <td>-23.006</td>\n",
              "      <td>-23.103</td>\n",
              "      <td>-1.607500</td>\n",
              "      <td>0.218600</td>\n",
              "      <td>-2.305</td>\n",
              "      <td>16.750</td>\n",
              "      <td>56.411</td>\n",
              "      <td>0.537033</td>\n",
              "      <td>0.455118</td>\n",
              "      <td>0.050625</td>\n",
              "      <td>0.028</td>\n",
              "      <td>-0.003</td>\n",
              "      <td>-0.021</td>\n",
              "      <td>-0.103</td>\n",
              "      <td>-0.082</td>\n",
              "      <td>-0.065</td>\n",
              "      <td>-0.492000</td>\n",
              "      <td>0.038</td>\n",
              "      <td>-0.042</td>\n",
              "      <td>0.003</td>\n",
              "      <td>-0.026</td>\n",
              "      <td>0.021</td>\n",
              "      <td>-0.001</td>\n",
              "      <td>0.031</td>\n",
              "      <td>0.062</td>\n",
              "      <td>0.057</td>\n",
              "      <td>-0.048</td>\n",
              "      <td>-0.067</td>\n",
              "      <td>0.189</td>\n",
              "      <td>-0.069</td>\n",
              "      <td>0.076</td>\n",
              "      <td>0.053</td>\n",
              "      <td>-0.050</td>\n",
              "      <td>-0.061</td>\n",
              "      <td>0.061</td>\n",
              "      <td>0.126</td>\n",
              "      <td>-0.124</td>\n",
              "      <td>0.059</td>\n",
              "      <td>-0.049</td>\n",
              "      <td>False</td>\n",
              "    </tr>\n",
              "    <tr>\n",
              "      <th>4</th>\n",
              "      <td>-0.011</td>\n",
              "      <td>0.012</td>\n",
              "      <td>-0.037</td>\n",
              "      <td>-4.110</td>\n",
              "      <td>0.011</td>\n",
              "      <td>-0.057333</td>\n",
              "      <td>0.000</td>\n",
              "      <td>2.974</td>\n",
              "      <td>-0.362</td>\n",
              "      <td>0.017</td>\n",
              "      <td>0.949</td>\n",
              "      <td>0.010</td>\n",
              "      <td>0.005</td>\n",
              "      <td>0.025</td>\n",
              "      <td>0.008214</td>\n",
              "      <td>-0.055</td>\n",
              "      <td>-0.927</td>\n",
              "      <td>-0.409</td>\n",
              "      <td>0.080</td>\n",
              "      <td>-1.434</td>\n",
              "      <td>1.805</td>\n",
              "      <td>0.036</td>\n",
              "      <td>-0.004</td>\n",
              "      <td>-0.004</td>\n",
              "      <td>-1.108</td>\n",
              "      <td>-0.128</td>\n",
              "      <td>-0.098</td>\n",
              "      <td>0.782091</td>\n",
              "      <td>0.005</td>\n",
              "      <td>-0.054</td>\n",
              "      <td>-0.030</td>\n",
              "      <td>2.896</td>\n",
              "      <td>-0.004</td>\n",
              "      <td>-2.720</td>\n",
              "      <td>-2.106</td>\n",
              "      <td>0.149</td>\n",
              "      <td>0.25992</td>\n",
              "      <td>0.000</td>\n",
              "      <td>0.008</td>\n",
              "      <td>0.003</td>\n",
              "      <td>...</td>\n",
              "      <td>-9.191</td>\n",
              "      <td>2.702</td>\n",
              "      <td>-1.240091</td>\n",
              "      <td>-1.339100</td>\n",
              "      <td>-2.378</td>\n",
              "      <td>20.821</td>\n",
              "      <td>61.475</td>\n",
              "      <td>-2.289233</td>\n",
              "      <td>0.309824</td>\n",
              "      <td>-0.122750</td>\n",
              "      <td>-0.014</td>\n",
              "      <td>0.012</td>\n",
              "      <td>0.007</td>\n",
              "      <td>-0.030</td>\n",
              "      <td>-0.027</td>\n",
              "      <td>-0.011</td>\n",
              "      <td>-0.371001</td>\n",
              "      <td>0.004</td>\n",
              "      <td>-0.017</td>\n",
              "      <td>-0.019</td>\n",
              "      <td>-0.007</td>\n",
              "      <td>-0.011</td>\n",
              "      <td>0.018</td>\n",
              "      <td>0.018</td>\n",
              "      <td>0.023</td>\n",
              "      <td>0.022</td>\n",
              "      <td>-0.007</td>\n",
              "      <td>-0.014</td>\n",
              "      <td>0.148</td>\n",
              "      <td>-0.012</td>\n",
              "      <td>0.024</td>\n",
              "      <td>0.005</td>\n",
              "      <td>-0.013</td>\n",
              "      <td>-0.008</td>\n",
              "      <td>0.016</td>\n",
              "      <td>0.024</td>\n",
              "      <td>-0.035</td>\n",
              "      <td>0.009</td>\n",
              "      <td>0.013</td>\n",
              "      <td>False</td>\n",
              "    </tr>\n",
              "  </tbody>\n",
              "</table>\n",
              "<p>5 rows × 343 columns</p>\n",
              "</div>"
            ],
            "text/plain": [
              "      25     86    131    294    297  ...   5369   5377   5387   5407  activity\n",
              "0 -0.031 -0.024 -0.021 -4.109  0.003  ...  0.058 -0.087  0.035 -0.007     False\n",
              "1 -0.019  0.006 -0.038 -4.111  0.006  ...  0.047 -0.035  0.011  0.005     False\n",
              "2 -0.036 -0.056 -0.033 -4.107 -0.012  ...  0.074 -0.076  0.036 -0.018     False\n",
              "3 -0.058 -0.116 -0.039 -4.106 -0.038  ...  0.126 -0.124  0.059 -0.049     False\n",
              "4 -0.011  0.012 -0.037 -4.110  0.011  ...  0.024 -0.035  0.009  0.013     False\n",
              "\n",
              "[5 rows x 343 columns]"
            ]
          },
          "metadata": {
            "tags": []
          },
          "execution_count": 10
        }
      ]
    },
    {
      "cell_type": "markdown",
      "metadata": {
        "id": "RWzihrNGfU83"
      },
      "source": [
        "# Model 1: Random Forest"
      ]
    },
    {
      "cell_type": "markdown",
      "metadata": {
        "id": "xukvxJwzfU83"
      },
      "source": [
        "The first classification model that I'll be using is a Random Forest Classifier with two different methods of hyperparameter optimization: RandomSearch and Bayesian Optimization."
      ]
    },
    {
      "cell_type": "code",
      "metadata": {
        "id": "hjmFq-RTfU83"
      },
      "source": [
        "# import from sklearn\n",
        "from sklearn.metrics import precision_recall_curve\n",
        "from sklearn.metrics import f1_score\n",
        "from sklearn.metrics import auc\n",
        "from sklearn.metrics import classification_report,confusion_matrix,roc_curve,roc_auc_score\n",
        "from sklearn.metrics import accuracy_score,log_loss"
      ],
      "execution_count": 11,
      "outputs": []
    },
    {
      "cell_type": "markdown",
      "metadata": {
        "id": "qpwx4DcdfU83"
      },
      "source": [
        "### Create Train/Test Split"
      ]
    },
    {
      "cell_type": "code",
      "metadata": {
        "id": "XX4kjn7afU84"
      },
      "source": [
        "from sklearn.model_selection import train_test_split\n",
        "\n",
        "# dont forget to define your X and y\n",
        "X = df.iloc[:, 0:342] # features\n",
        "y = df.activity # target variable\n",
        "\n",
        "feature_list = list(X.columns) # save feature names for later\n",
        "\n",
        "X_train, X_test, y_train, y_test = train_test_split(X, y, test_size=.2, random_state=420)"
      ],
      "execution_count": 14,
      "outputs": []
    },
    {
      "cell_type": "markdown",
      "metadata": {
        "id": "w2VksfzUfU84"
      },
      "source": [
        "### Scale Data to Prepare for Model Creation"
      ]
    },
    {
      "cell_type": "code",
      "metadata": {
        "id": "nP3MhXq6fU84"
      },
      "source": [
        "from sklearn.preprocessing import MaxAbsScaler\n",
        "\n",
        "# build scaler based on training data and apply it to test data to then also scale the test data\n",
        "scaler = MaxAbsScaler().fit(X_train)\n",
        "X_train_scaled=scaler.transform(X_train)\n",
        "X_test_scaled=scaler.transform(X_test)"
      ],
      "execution_count": 15,
      "outputs": []
    },
    {
      "cell_type": "markdown",
      "metadata": {
        "id": "QAPW3zu4fU84"
      },
      "source": [
        "### Train and Fit the RandomForestClassifier Model"
      ]
    },
    {
      "cell_type": "code",
      "metadata": {
        "id": "1Bt89balfU84",
        "colab": {
          "base_uri": "https://localhost:8080/"
        },
        "outputId": "3fa8ca6c-e491-4e06-a041-3bc011a82caf"
      },
      "source": [
        "from sklearn.ensemble import RandomForestClassifier\n",
        "clf = RandomForestClassifier(n_estimators = 500, random_state=420, n_jobs=-1)\n",
        "\n",
        "model1 = clf.fit(X_train_scaled, y_train)\n",
        "y_pred = model1.predict(X_test_scaled)\n",
        "y_pred_prob = model1.predict_proba(X_test_scaled)\n",
        "lr_probs = y_pred_prob[:,1]\n",
        "ac = accuracy_score(y_test, y_pred)\n",
        "\n",
        "f1 = f1_score(y_test, y_pred, average='weighted')\n",
        "\n",
        "print('Random Forest: Accuracy=%.3f' % (ac))\n",
        "\n",
        "print('Random Forest: f1-score=%.3f' % (f1))"
      ],
      "execution_count": 16,
      "outputs": [
        {
          "output_type": "stream",
          "text": [
            "Random Forest: Accuracy=0.994\n",
            "Random Forest: f1-score=0.991\n"
          ],
          "name": "stdout"
        }
      ]
    },
    {
      "cell_type": "markdown",
      "metadata": {
        "id": "LXSWUGzwfU85"
      },
      "source": [
        "The Random Forest classifier model shows an overall accuracy of 99.4% and an F1-score of 0.991 - both of which look very good at first glance, but are misleading! \n",
        "\n",
        "My guess is that this model has a high accuracy score due to overfitting. Random Forest Classifiers have a tendency to overfit, especially when there is a large number of trees (n_estimators). For this reason, I will use two different methods for hyperparameter optimization - RandomizedSearchCV and Bayesian Optimization - to train Random Forest Classifiers and then compare the results with this baseline model. In the next section, I will take a closer look at the model's performance."
      ]
    },
    {
      "cell_type": "markdown",
      "metadata": {
        "id": "My68FR_WfU85"
      },
      "source": [
        "### Evaluate Model Performance"
      ]
    },
    {
      "cell_type": "markdown",
      "metadata": {
        "id": "hGlVFqAefU85"
      },
      "source": [
        "To evaluate my Random Forest Classifier, I will be visualizing the model's performance using a confusion matrix, and then use the classification report to view the precision, recall, and f1-scores for each category. The confusion matrix will give me an overall idea of the model's performance, while the classification report will help me understand my model's performance in a more nuanced way."
      ]
    },
    {
      "cell_type": "code",
      "metadata": {
        "id": "pHfSoCR4fU85"
      },
      "source": [
        "conf = confusion_matrix(y_test, y_pred).astype('float')"
      ],
      "execution_count": 17,
      "outputs": []
    },
    {
      "cell_type": "code",
      "metadata": {
        "id": "rKdIt5nnfU86"
      },
      "source": [
        "conf = conf / conf.sum(axis=1)[:, np.newaxis]"
      ],
      "execution_count": 18,
      "outputs": []
    },
    {
      "cell_type": "code",
      "metadata": {
        "id": "1GUaA8BRfU86",
        "colab": {
          "base_uri": "https://localhost:8080/",
          "height": 645
        },
        "outputId": "5b80f4a0-b0d0-4c77-b4ea-1654a25e1c1f"
      },
      "source": [
        "#plot confusion matrix\n",
        "plt.figure(figsize=(16, 10))\n",
        "sns.heatmap(conf, annot=True, annot_kws={'size':10}, cmap=plt.cm.Greens, linewidths=0.2)\n",
        "sns.set(font_scale=1.5)\n",
        "\n",
        "_ = plt.xlabel('Predicted Activity')\n",
        "_ = plt.ylabel('True Activity')\n",
        "_ = plt.title('Confusion Matrix for Random Forest Model')\n",
        "plt.show()"
      ],
      "execution_count": 19,
      "outputs": [
        {
          "output_type": "display_data",
          "data": {
            "image/png": "[encoded data removed]",
            "text/plain": [
              "<Figure size 1152x720 with 2 Axes>"
            ]
          },
          "metadata": {
            "tags": [],
            "needs_background": "light"
          }
        }
      ]
    },
    {
      "cell_type": "markdown",
      "metadata": {
        "id": "-82OZay6fU86"
      },
      "source": [
        "The 0's correspond to **inactive p53 proteins**, and the 1's correspond to **active p53 proteins**.\n",
        "\n",
        "This confusion matrix shows that my classifier had trouble correctly classifying the active p53 proteins as active, as seen by the large proportion of false negatives. On the other hand, my classifier did very well at correctly labeling *inactive* p53 proteins. \n",
        "\n",
        "From looking at the confusion matrix, I can tell that this model is a *naive classifier* - it nearly always predicts \"0\", or inactive, for the protein. Statistically, this is the best way for the model to maximize the chances of making a correct prediction, since there is a huge class imbalance in the training data.\n",
        "\n",
        "This makes sense, as the data is very imbalanced with regards to inactive vs active protein data. There is much more data for inactive proteins in the dataset than for active proteins. I saw this imbalance in the data during the exploratory data analysis that was performed earlier. "
      ]
    },
    {
      "cell_type": "code",
      "metadata": {
        "id": "Z48gU3WEfU87",
        "colab": {
          "base_uri": "https://localhost:8080/"
        },
        "outputId": "a6fca8fb-b9b5-4729-f8c9-4cd374c17eeb"
      },
      "source": [
        "print(classification_report(y_test, y_pred))"
      ],
      "execution_count": 20,
      "outputs": [
        {
          "output_type": "stream",
          "text": [
            "              precision    recall  f1-score   support\n",
            "\n",
            "       False       0.99      1.00      1.00      3297\n",
            "        True       1.00      0.05      0.09        22\n",
            "\n",
            "    accuracy                           0.99      3319\n",
            "   macro avg       1.00      0.52      0.54      3319\n",
            "weighted avg       0.99      0.99      0.99      3319\n",
            "\n"
          ],
          "name": "stdout"
        }
      ]
    },
    {
      "cell_type": "markdown",
      "metadata": {
        "id": "O-uY4C_tfU87"
      },
      "source": [
        "The imbalance in the data is further confirmed by the low recall and low f1-scores for the \"True\" (aka \"Active\" p53) category. This is due to the low amount of \"True\" observations within the dataset, which does not allow the classifier enough data to learn how to predict the \"True\" class. This is a common problem with classifiers made with imbalanced data. \n",
        "\n",
        "To address this problem, I will oversample my minority class by generating synthetic data (SMOTE), which will create a more balanced dataset for my classifier model to learn from. I will also be combining this method with the Tomek Links undersampling method, which will create a clearer decision boundary for my binary classifier."
      ]
    },
    {
      "cell_type": "markdown",
      "metadata": {
        "id": "YS3jGp3EfU87"
      },
      "source": [
        "Before I move on, however, I am going to visualize the top 10 feature importances from this Random Forest classifier, so that I can compare these results with those of following models:"
      ]
    },
    {
      "cell_type": "code",
      "metadata": {
        "id": "uXFn3ACdfU87",
        "colab": {
          "base_uri": "https://localhost:8080/",
          "height": 318
        },
        "outputId": "725e49aa-4c63-4809-d8d8-f740355d7e4b"
      },
      "source": [
        "feature_importances = pd.Series(model1.feature_importances_, index=feature_list)\n",
        "_ = feature_importances.nlargest(10).plot(kind='barh', color=['royalblue', 'orange', 'green', 'tab:red', 'blueviolet', 'tab:brown', 'tab:pink', 'tab:gray', 'tab:olive', 'tab:cyan']).invert_yaxis()\n",
        "\n",
        "_ = plt.ylabel('Feature Numbers')\n",
        "_ = plt.xlabel('Importances')\n",
        "_ = plt.title('Top 10 Feature Importances for Random Forest Classifier Model')\n",
        "plt.show()"
      ],
      "execution_count": 21,
      "outputs": [
        {
          "output_type": "display_data",
          "data": {
            "image/png": "[encoded data removed]",
            "text/plain": [
              "<Figure size 432x288 with 1 Axes>"
            ]
          },
          "metadata": {
            "tags": []
          }
        }
      ]
    },
    {
      "cell_type": "markdown",
      "metadata": {
        "id": "CS8snD9TfU87"
      },
      "source": [
        "Looks like the **most importance features** for this Random Forest Classifier model are: **3991, 2827, 1674, 2826, 4028, 2833, 4120, 4134, 2767, and 370**.\n",
        "\n",
        "All of the Top 10 Most Important Features are **Electrostatic and Surface-Based Features**! This is very interesting, because I would have thought that the Distance-Based Features would be more important for indicating wild-type p53 function. However, this feature list is not reliable due to the extremely low recall for the positive class. Thus, I will be comparing these Top Features with those of following models after resampling the data and hyperparameter tuning my model algorithms."
      ]
    },
    {
      "cell_type": "markdown",
      "metadata": {
        "id": "yPRtNBwWfU88"
      },
      "source": [
        "# Model 2: Random Forest with Oversampling/Undersampling and Randomized Search"
      ]
    },
    {
      "cell_type": "markdown",
      "metadata": {
        "id": "2ChobcL7fU88"
      },
      "source": [
        "## Balance the Imbalanced Classes with SMOTETomek"
      ]
    },
    {
      "cell_type": "markdown",
      "metadata": {
        "id": "47O9abgGfU88"
      },
      "source": [
        "SMOTE is an oversampling method that interpolates synthetic observations between the existing ones in the dataset. Tomek Links are pairs of nearest neighbors that have different classes, which in this case, are instances of the majority and minority class that are next to each other. Tomek Links are used for undersampling the majority class by getting rid of those observations which are next to the minority class examples, thus creating a more distinct decision boundary for the classifier.\n",
        "\n",
        "SMOTETomek is a combined method that oversamples the minority class and undersamples the majority class. This method is preferable to using SMOTE by itself since it cleans up the noise that SMOTE tends to create in the sample space."
      ]
    },
    {
      "cell_type": "code",
      "metadata": {
        "id": "k7DD-MkPfU88",
        "colab": {
          "base_uri": "https://localhost:8080/"
        },
        "outputId": "84579df6-6bd4-477c-aa0a-36d916f7c2cd"
      },
      "source": [
        "# import imblearn libraries for SMOTETomek\n",
        "from imblearn.over_sampling import SMOTE\n",
        "from imblearn.under_sampling import TomekLinks\n",
        "from imblearn.combine import SMOTETomek"
      ],
      "execution_count": 22,
      "outputs": [
        {
          "output_type": "stream",
          "text": [
            "/usr/local/lib/python3.7/dist-packages/sklearn/externals/six.py:31: FutureWarning: The module is deprecated in version 0.21 and will be removed in version 0.23 since we've dropped support for Python 2.7. Please rely on the official version of six (https://pypi.org/project/six/).\n",
            "  \"(https://pypi.org/project/six/).\", FutureWarning)\n",
            "/usr/local/lib/python3.7/dist-packages/sklearn/utils/deprecation.py:144: FutureWarning: The sklearn.neighbors.base module is  deprecated in version 0.22 and will be removed in version 0.24. The corresponding classes / functions should instead be imported from sklearn.neighbors. Anything that cannot be imported from sklearn.neighbors is now part of the private API.\n",
            "  warnings.warn(message, FutureWarning)\n"
          ],
          "name": "stderr"
        }
      ]
    },
    {
      "cell_type": "code",
      "metadata": {
        "id": "7Y6Dn-X1fU88",
        "colab": {
          "base_uri": "https://localhost:8080/"
        },
        "outputId": "b37868f5-4075-46c6-b199-3b0eab649ccc"
      },
      "source": [
        "# define the resampler, smt\n",
        "# oversample minority class, undersample majority class\n",
        "smt = SMOTETomek(random_state=420, smote=SMOTE(sampling_strategy='minority'), tomek=TomekLinks(sampling_strategy='majority'))\n",
        "\n",
        "# resample the training dataset\n",
        "X_res, y_res = smt.fit_resample(X_train_scaled, y_train) # only for training data!!"
      ],
      "execution_count": 24,
      "outputs": [
        {
          "output_type": "stream",
          "text": [
            "/usr/local/lib/python3.7/dist-packages/sklearn/utils/deprecation.py:87: FutureWarning: Function safe_indexing is deprecated; safe_indexing is deprecated in version 0.22 and will be removed in version 0.24.\n",
            "  warnings.warn(msg, category=FutureWarning)\n",
            "/usr/local/lib/python3.7/dist-packages/sklearn/utils/deprecation.py:87: FutureWarning: Function safe_indexing is deprecated; safe_indexing is deprecated in version 0.22 and will be removed in version 0.24.\n",
            "  warnings.warn(msg, category=FutureWarning)\n"
          ],
          "name": "stderr"
        }
      ]
    },
    {
      "cell_type": "code",
      "metadata": {
        "id": "3hNs7x4sfU88",
        "colab": {
          "base_uri": "https://localhost:8080/",
          "height": 444
        },
        "outputId": "a73ffc15-91a1-4aa6-9add-f286dfe53479"
      },
      "source": [
        "# visualize the two classes with a barchart to confirm balance\n",
        "y_res_df = pd.DataFrame(y_res)\n",
        "y_tr_df = pd.DataFrame(y_train)\n",
        "\n",
        "plt.figure(figsize=(16, 10))\n",
        "\n",
        "plt.subplot(2, 1, 1)\n",
        "plt.tight_layout()\n",
        "_ = y_train.value_counts().plot(kind='barh', color=['lightcoral', 'cornflowerblue'])\n",
        "_ = plt.xlabel('Number of Observations')\n",
        "_ = plt.ylabel('Classes')\n",
        "_ = plt.title('Class Balance of Original Training Data')\n",
        "\n",
        "plt.subplot(2, 1, 2)\n",
        "plt.tight_layout()\n",
        "_ = y_res_df.value_counts().plot(kind='barh', color=['lightcoral', 'cornflowerblue'])\n",
        "_ = plt.xlabel('Number of Observations')\n",
        "_ = plt.ylabel('Classes')\n",
        "_ = plt.title('Class Balance of Resampled Training Data')\n",
        "\n",
        "plt.show()"
      ],
      "execution_count": 60,
      "outputs": [
        {
          "output_type": "display_data",
          "data": {
            "image/png": "[encoded data removed]",
            "text/plain": [
              "<Figure size 1152x720 with 2 Axes>"
            ]
          },
          "metadata": {
            "tags": []
          }
        }
      ]
    },
    {
      "cell_type": "code",
      "metadata": {
        "id": "vvrPpRFrfU89",
        "colab": {
          "base_uri": "https://localhost:8080/"
        },
        "outputId": "22692424-6c57-4254-b930-a6023f0bd5a5"
      },
      "source": [
        "# run a baseline Random Forest model with the resampled data and call it model2\n",
        "\n",
        "model2 = clf.fit(X_res, y_res) # use X_res and y_res instead of X_train_scaled and y_train\n",
        "y_pred = model2.predict(X_test_scaled)\n",
        "y_pred_prob = model2.predict_proba(X_test_scaled)\n",
        "lr_probs = y_pred_prob[:,1]\n",
        "ac = accuracy_score(y_test, y_pred)\n",
        "\n",
        "f1 = f1_score(y_test, y_pred, average='weighted')\n",
        "print(f1)"
      ],
      "execution_count": 27,
      "outputs": [
        {
          "output_type": "stream",
          "text": [
            "0.9924017362019065\n"
          ],
          "name": "stdout"
        }
      ]
    },
    {
      "cell_type": "code",
      "metadata": {
        "id": "ooYaPtQufU89",
        "colab": {
          "base_uri": "https://localhost:8080/"
        },
        "outputId": "789efa4d-25f6-4f2a-c871-997f99f609f8"
      },
      "source": [
        "# classification report for model 2\n",
        "print(classification_report(y_test, y_pred))"
      ],
      "execution_count": 28,
      "outputs": [
        {
          "output_type": "stream",
          "text": [
            "              precision    recall  f1-score   support\n",
            "\n",
            "       False       1.00      1.00      1.00      3297\n",
            "        True       0.50      0.27      0.35        22\n",
            "\n",
            "    accuracy                           0.99      3319\n",
            "   macro avg       0.75      0.64      0.67      3319\n",
            "weighted avg       0.99      0.99      0.99      3319\n",
            "\n"
          ],
          "name": "stdout"
        }
      ]
    },
    {
      "cell_type": "markdown",
      "metadata": {
        "id": "oHvd_BpIfU8-"
      },
      "source": [
        "<div class=\"alert-warning\">\n",
        "Resampling the training data with SMOTETomek helped increase the recall for the positive class from 0.05 to 0.27 and the f1-score from 0.09 to 0.35! That's a significant improvement, and a great starting point. I want to continue to maximize the f1-score, which effectively balances the precision and recall, in further models.\n",
        "</div>"
      ]
    },
    {
      "cell_type": "code",
      "metadata": {
        "id": "m60vjT0cfU8-",
        "colab": {
          "base_uri": "https://localhost:8080/",
          "height": 494
        },
        "outputId": "18b7dfdd-5ca5-4bbd-9b96-e5299a1b37ec"
      },
      "source": [
        "# plot confusion matrix for model 2\n",
        "conf2 = confusion_matrix(y_test, y_pred).astype('float')\n",
        "conf2 = conf2 / conf2.sum(axis=1)[:, np.newaxis]\n",
        "\n",
        "plt.figure(figsize=(16, 10))\n",
        "sns.heatmap(conf2, annot=True, annot_kws={'size':10}, cmap=plt.cm.Greens, linewidths=0.2)\n",
        "sns.set(font_scale=1.5)\n",
        "\n",
        "_ = plt.xlabel('Predicted Activity')\n",
        "_ = plt.ylabel('True Activity')\n",
        "_ = plt.title('Confusion Matrix for Random Forest Model 2')\n",
        "plt.show()"
      ],
      "execution_count": 29,
      "outputs": [
        {
          "output_type": "display_data",
          "data": {
            "image/png": "[encoded data removed]",
            "text/plain": [
              "<Figure size 1152x720 with 2 Axes>"
            ]
          },
          "metadata": {
            "tags": []
          }
        }
      ]
    },
    {
      "cell_type": "markdown",
      "metadata": {
        "id": "2dlqWXhdfU8-"
      },
      "source": [
        "### Increase Weights on the Minority Class"
      ]
    },
    {
      "cell_type": "code",
      "metadata": {
        "id": "qNiSzBz2fU8-"
      },
      "source": [
        "# add class weights in favor of the minority (False/Inactive) class and run Random Forest model\n",
        "# model3, clf2\n",
        "\n",
        "clf2 = RandomForestClassifier(n_estimators = 500, class_weight={0:1, 1:10}, random_state=420, n_jobs=-1)\n",
        "\n",
        "model3 = clf2.fit(X_res, y_res) # use X_res and y_res instead of X_train_scaled and y_train\n",
        "\n",
        "y_pred = model3.predict(X_test_scaled)\n",
        "y_pred_prob = model3.predict_proba(X_test_scaled)\n",
        "lr_probs = y_pred_prob[:,1]\n",
        "ac = accuracy_score(y_test, y_pred)\n",
        "\n",
        "f1 = f1_score(y_test, y_pred, average='weighted')"
      ],
      "execution_count": 61,
      "outputs": []
    },
    {
      "cell_type": "code",
      "metadata": {
        "id": "PyhuT4JkfU8_",
        "colab": {
          "base_uri": "https://localhost:8080/"
        },
        "outputId": "1d8e1fd1-c026-46d5-b25b-556d4992b116"
      },
      "source": [
        "# classification report for model 3\n",
        "print(classification_report(y_test, y_pred))"
      ],
      "execution_count": 62,
      "outputs": [
        {
          "output_type": "stream",
          "text": [
            "              precision    recall  f1-score   support\n",
            "\n",
            "       False       0.99      0.99      0.99      3297\n",
            "        True       0.22      0.23      0.22        22\n",
            "\n",
            "    accuracy                           0.99      3319\n",
            "   macro avg       0.61      0.61      0.61      3319\n",
            "weighted avg       0.99      0.99      0.99      3319\n",
            "\n"
          ],
          "name": "stdout"
        }
      ]
    },
    {
      "cell_type": "markdown",
      "metadata": {
        "id": "Zco9Vh7ZfU8_"
      },
      "source": [
        "<div class=\"alert-warning\">\n",
        "By increasing the class weight on the positive class, the random forest algorithm now penalizes incorrect classifications of the positive class ten times more than incorrect classifications of the negative class. \n",
        "This change did not increase the f1-score, but it did even out the precision and recall for the positive class. I want to explore this more as a hyperparameter to tune.\n",
        "</div>"
      ]
    },
    {
      "cell_type": "markdown",
      "metadata": {
        "id": "zXaxLNm5fU8_"
      },
      "source": [
        "## Hyperparameter Tuning with Randomized Search"
      ]
    },
    {
      "cell_type": "markdown",
      "metadata": {
        "id": "ZsXkW_8afU8_"
      },
      "source": [
        "Let's start by taking a look at the parameters used by the previous Random Forest model:"
      ]
    },
    {
      "cell_type": "code",
      "metadata": {
        "id": "Y9ztZASUfU9A",
        "colab": {
          "base_uri": "https://localhost:8080/"
        },
        "outputId": "3bbe96cb-ca94-4ab1-8522-9c8c07a3bd4a"
      },
      "source": [
        "print('Current Random Forest Parameters:\\n ', clf.get_params())"
      ],
      "execution_count": 63,
      "outputs": [
        {
          "output_type": "stream",
          "text": [
            "Current Random Forest Parameters:\n",
            "  {'bootstrap': True, 'ccp_alpha': 0.0, 'class_weight': None, 'criterion': 'gini', 'max_depth': None, 'max_features': 'auto', 'max_leaf_nodes': None, 'max_samples': None, 'min_impurity_decrease': 0.0, 'min_impurity_split': None, 'min_samples_leaf': 1, 'min_samples_split': 2, 'min_weight_fraction_leaf': 0.0, 'n_estimators': 500, 'n_jobs': -1, 'oob_score': False, 'random_state': 420, 'verbose': 0, 'warm_start': False}\n"
          ],
          "name": "stdout"
        }
      ]
    },
    {
      "cell_type": "markdown",
      "metadata": {
        "id": "6SOnDapmfU9A"
      },
      "source": [
        "<div class=\"alert-danger\">\n",
        "\n",
        "Out of these parameters, I will be focusing on the tuning the following:\n",
        "\n",
        "+ class_weight: class weights affect how the model is penalized for misclassifying examples of each class\n",
        "+ max_depth: max levels for each individual decision tree\n",
        "+ max_features: max number of features considered when splitting a node\n",
        "+ min_samples_split: minimum number of samples required to split a node\n",
        "+ min_samples_leaf: minimum number of samples required at each leaf\n",
        "    \n",
        "</div>"
      ]
    },
    {
      "cell_type": "markdown",
      "metadata": {
        "id": "S5ObloW6fU9A"
      },
      "source": [
        "<div class=\"alert-warning\">\n",
        "I will also be testing both 'gini' and 'entropy' for the node splitting criteria.\n",
        "</div>"
      ]
    },
    {
      "cell_type": "markdown",
      "metadata": {
        "id": "PxZCfsAPfU9A"
      },
      "source": [
        "<div class=\"alert-warning\">\n",
        "I will not be tuning the n_estimators or max_depth parameters using Randomized Search.\n",
        "\n",
        "</div>"
      ]
    },
    {
      "cell_type": "code",
      "metadata": {
        "id": "rDEQcEZ8fU9A"
      },
      "source": [
        "from sklearn.model_selection import RandomizedSearchCV\n",
        "\n",
        "# class_weight\n",
        "class_weights = [{0:1, 1:2}, {0:1, 1:5}, {0:1, 1:10}]\n",
        "class_weights.append(None)\n",
        "\n",
        "# max_features\n",
        "max_features=['auto', 'sqrt']\n",
        "max_features.append(None)\n",
        "\n",
        "# min_samples_split\n",
        "min_samples_split = [int(x) for x in np.linspace(2, 10, 5)]\n",
        "\n",
        "# min_samples_leaf\n",
        "min_samples_leaf = [int(x) for x in np.linspace(1, 10, 5)]"
      ],
      "execution_count": 64,
      "outputs": []
    },
    {
      "cell_type": "code",
      "metadata": {
        "id": "e2IS51hOfU9A"
      },
      "source": [
        "# create the random parameter grid\n",
        "random_grid = {'class_weight': class_weights,\n",
        "               'max_features': max_features,\n",
        "               'min_samples_split': min_samples_split,\n",
        "               'min_samples_leaf': min_samples_leaf}"
      ],
      "execution_count": 65,
      "outputs": []
    },
    {
      "cell_type": "code",
      "metadata": {
        "id": "YcVIV6LkfU9B",
        "outputId": "a643fc17-f2e7-47d4-98bd-e5bdb3a96b24"
      },
      "source": [
        "# create a RandomForestClassifier to tune\n",
        "clf = RandomForestClassifier(n_estimators = 500, random_state=420)\n",
        "\n",
        "# create random search model\n",
        "model4 = RandomizedSearchCV(estimator=clf, param_distributions=random_grid, n_iter=100, cv=3, verbose=2, random_state=420, n_jobs=-1)\n",
        "\n",
        "# fit random search model on resampled data\n",
        "model4.fit(X_res, y_res)"
      ],
      "execution_count": null,
      "outputs": [
        {
          "output_type": "stream",
          "text": [
            "Fitting 3 folds for each of 100 candidates, totalling 300 fits\n"
          ],
          "name": "stdout"
        }
      ]
    },
    {
      "cell_type": "code",
      "metadata": {
        "id": "E_pPGa2LfU9B"
      },
      "source": [
        "# view best hyperparameters from fitting the random search\n",
        "print(model4.best_params_)"
      ],
      "execution_count": null,
      "outputs": []
    },
    {
      "cell_type": "markdown",
      "metadata": {
        "id": "nouYvBxufU9B"
      },
      "source": [
        "<div class=\"alert-danger\">\n",
        "The best parameters from the Randomized Search were:\n",
        "\n",
        "{'n_estimators': 673, 'min_samples_split': 2, 'min_samples_leaf': 1, 'max_features': 'sqrt', 'max_depth': None}\n",
        "\n",
        "To deal with the imbalance in the dataset, I will also be adding the class_weights parameter to the Random Forest Classifier and assigning more weights to the \"active\" class.\n",
        "</div>"
      ]
    },
    {
      "cell_type": "markdown",
      "metadata": {
        "id": "UPCitjidfU9B"
      },
      "source": [
        ""
      ]
    },
    {
      "cell_type": "markdown",
      "metadata": {
        "id": "0IlqQfNdfU9B"
      },
      "source": [
        "# Model 3: Random Forest with Bayesian Optimization"
      ]
    },
    {
      "cell_type": "code",
      "metadata": {
        "id": "IYZQZOz9fU9B"
      },
      "source": [
        ""
      ],
      "execution_count": null,
      "outputs": []
    }
  ]
}