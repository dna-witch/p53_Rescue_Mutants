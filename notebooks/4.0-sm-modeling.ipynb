{
  "nbformat": 4,
  "nbformat_minor": 0,
  "metadata": {
    "kernelspec": {
      "display_name": "Python 3",
      "language": "python",
      "name": "python3"
    },
    "language_info": {
      "codemirror_mode": {
        "name": "ipython",
        "version": 3
      },
      "file_extension": ".py",
      "mimetype": "text/x-python",
      "name": "python",
      "nbconvert_exporter": "python",
      "pygments_lexer": "ipython3",
      "version": "3.8.3"
    },
    "colab": {
      "name": "4.0-sm-modeling.ipynb",
      "provenance": []
    }
  },
  "cells": [
    {
      "cell_type": "markdown",
      "metadata": {
        "id": "3UCvaiSHfU8t"
      },
      "source": [
        "<div class=\"alert-danger\">\n",
        "Red colored boxes mean that the documentation is outdated and needs to be changed/replaced.\n",
        "</div>"
      ]
    },
    {
      "cell_type": "markdown",
      "metadata": {
        "id": "uH_JSGM8fU8v"
      },
      "source": [
        "<div class=\"alert-warning\">\n",
        "Yellow colored boxes mean that the documentation is incomplete and needs to be finished.\n",
        "</div>"
      ]
    },
    {
      "cell_type": "markdown",
      "metadata": {
        "id": "BuPHIodafU8v"
      },
      "source": [
        "<div class=\"alert-info\">\n",
        "Blue colored boxes are placeholders for optional additions that would improve and polish the notebook.\n",
        "</div>"
      ]
    },
    {
      "cell_type": "markdown",
      "metadata": {
        "id": "QYugMNF3fU8w"
      },
      "source": [
        "## Import Necessary Libraries and Packages"
      ]
    },
    {
      "cell_type": "code",
      "metadata": {
        "id": "tb4nxgy8fU8w"
      },
      "source": [
        "import pandas as pd\n",
        "import matplotlib.pyplot as plt\n",
        "import numpy as np\n",
        "import zipfile\n",
        "import os\n",
        "import statistics\n",
        "import seaborn as sns\n",
        "\n",
        "from google.colab import files\n",
        "\n",
        "%matplotlib inline"
      ],
      "execution_count": 1,
      "outputs": []
    },
    {
      "cell_type": "markdown",
      "metadata": {
        "id": "AMfr7j3dfU8x"
      },
      "source": [
        "## Load the Preprocessed Data"
      ]
    },
    {
      "cell_type": "code",
      "metadata": {
        "id": "-T_t-RyAXuAy"
      },
      "source": [
        "uploaded = files.upload()"
      ],
      "execution_count": null,
      "outputs": []
    },
    {
      "cell_type": "code",
      "metadata": {
        "id": "o5JbEezufU8y"
      },
      "source": [
        "# load preprocessed data file as a pandas dataframe\n",
        "df = pd.read_csv('lin_filtered.csv', low_memory=False)"
      ],
      "execution_count": 2,
      "outputs": []
    },
    {
      "cell_type": "code",
      "metadata": {
        "id": "1DVpuVAdigzi",
        "colab": {
          "base_uri": "https://localhost:8080/"
        },
        "outputId": "636aa321-2166-454c-c573-1fcaab05a87f"
      },
      "source": [
        "df.columns"
      ],
      "execution_count": 3,
      "outputs": [
        {
          "output_type": "execute_result",
          "data": {
            "text/plain": [
              "Index(['Unnamed: 0', '25', '86', '131', '294', '297', '307', '321', '340',\n",
              "       '345',\n",
              "       ...\n",
              "       '5282', '5283', '5330', '5331', '5369', '5377', '5387', '5407',\n",
              "       'activity', 'nametags'],\n",
              "      dtype='object', length=345)"
            ]
          },
          "metadata": {
            "tags": []
          },
          "execution_count": 3
        }
      ]
    },
    {
      "cell_type": "code",
      "metadata": {
        "id": "1Ay-dyW9h7gw"
      },
      "source": [
        "df.drop(columns='Unnamed: 0', inplace=True)"
      ],
      "execution_count": 4,
      "outputs": []
    },
    {
      "cell_type": "code",
      "metadata": {
        "id": "cMsr_0UrimDA",
        "colab": {
          "base_uri": "https://localhost:8080/",
          "height": 252
        },
        "outputId": "28d8d821-bbe4-45cc-d49d-a74fe2f207f9"
      },
      "source": [
        "df.head()"
      ],
      "execution_count": 5,
      "outputs": [
        {
          "output_type": "execute_result",
          "data": {
            "text/html": [
              "<div>\n",
              "<style scoped>\n",
              "    .dataframe tbody tr th:only-of-type {\n",
              "        vertical-align: middle;\n",
              "    }\n",
              "\n",
              "    .dataframe tbody tr th {\n",
              "        vertical-align: top;\n",
              "    }\n",
              "\n",
              "    .dataframe thead th {\n",
              "        text-align: right;\n",
              "    }\n",
              "</style>\n",
              "<table border=\"1\" class=\"dataframe\">\n",
              "  <thead>\n",
              "    <tr style=\"text-align: right;\">\n",
              "      <th></th>\n",
              "      <th>25</th>\n",
              "      <th>86</th>\n",
              "      <th>131</th>\n",
              "      <th>294</th>\n",
              "      <th>297</th>\n",
              "      <th>307</th>\n",
              "      <th>321</th>\n",
              "      <th>340</th>\n",
              "      <th>345</th>\n",
              "      <th>346</th>\n",
              "      <th>370</th>\n",
              "      <th>500</th>\n",
              "      <th>506</th>\n",
              "      <th>536</th>\n",
              "      <th>553</th>\n",
              "      <th>608</th>\n",
              "      <th>610</th>\n",
              "      <th>712</th>\n",
              "      <th>718</th>\n",
              "      <th>722</th>\n",
              "      <th>723</th>\n",
              "      <th>726</th>\n",
              "      <th>730</th>\n",
              "      <th>748</th>\n",
              "      <th>758</th>\n",
              "      <th>762</th>\n",
              "      <th>763</th>\n",
              "      <th>812</th>\n",
              "      <th>888</th>\n",
              "      <th>921</th>\n",
              "      <th>923</th>\n",
              "      <th>960</th>\n",
              "      <th>969</th>\n",
              "      <th>970</th>\n",
              "      <th>977</th>\n",
              "      <th>999</th>\n",
              "      <th>1027</th>\n",
              "      <th>1028</th>\n",
              "      <th>1032</th>\n",
              "      <th>1035</th>\n",
              "      <th>...</th>\n",
              "      <th>4804</th>\n",
              "      <th>4809</th>\n",
              "      <th>4813</th>\n",
              "      <th>4814</th>\n",
              "      <th>4816</th>\n",
              "      <th>4817</th>\n",
              "      <th>4821</th>\n",
              "      <th>4822</th>\n",
              "      <th>4824</th>\n",
              "      <th>4844</th>\n",
              "      <th>4845</th>\n",
              "      <th>4881</th>\n",
              "      <th>4886</th>\n",
              "      <th>4901</th>\n",
              "      <th>4933</th>\n",
              "      <th>4944</th>\n",
              "      <th>5052</th>\n",
              "      <th>5065</th>\n",
              "      <th>5066</th>\n",
              "      <th>5075</th>\n",
              "      <th>5113</th>\n",
              "      <th>5122</th>\n",
              "      <th>5163</th>\n",
              "      <th>5164</th>\n",
              "      <th>5189</th>\n",
              "      <th>5201</th>\n",
              "      <th>5214</th>\n",
              "      <th>5251</th>\n",
              "      <th>5262</th>\n",
              "      <th>5275</th>\n",
              "      <th>5282</th>\n",
              "      <th>5283</th>\n",
              "      <th>5330</th>\n",
              "      <th>5331</th>\n",
              "      <th>5369</th>\n",
              "      <th>5377</th>\n",
              "      <th>5387</th>\n",
              "      <th>5407</th>\n",
              "      <th>activity</th>\n",
              "      <th>nametags</th>\n",
              "    </tr>\n",
              "  </thead>\n",
              "  <tbody>\n",
              "    <tr>\n",
              "      <th>0</th>\n",
              "      <td>-0.031</td>\n",
              "      <td>-0.024</td>\n",
              "      <td>-0.021</td>\n",
              "      <td>-4.109</td>\n",
              "      <td>0.003</td>\n",
              "      <td>-0.103000</td>\n",
              "      <td>2.551</td>\n",
              "      <td>3.024</td>\n",
              "      <td>-0.442</td>\n",
              "      <td>-0.001</td>\n",
              "      <td>1.038</td>\n",
              "      <td>0.048</td>\n",
              "      <td>-0.019</td>\n",
              "      <td>0.033</td>\n",
              "      <td>0.040000</td>\n",
              "      <td>-0.180</td>\n",
              "      <td>-0.918</td>\n",
              "      <td>-0.459</td>\n",
              "      <td>0.039</td>\n",
              "      <td>-1.460</td>\n",
              "      <td>1.732</td>\n",
              "      <td>0.160</td>\n",
              "      <td>-0.093</td>\n",
              "      <td>0.225</td>\n",
              "      <td>-0.394</td>\n",
              "      <td>-0.560</td>\n",
              "      <td>-0.104</td>\n",
              "      <td>0.545727</td>\n",
              "      <td>0.011</td>\n",
              "      <td>-0.031</td>\n",
              "      <td>-0.010</td>\n",
              "      <td>2.869</td>\n",
              "      <td>-0.040</td>\n",
              "      <td>0.075</td>\n",
              "      <td>0.015</td>\n",
              "      <td>0.207</td>\n",
              "      <td>-0.00504</td>\n",
              "      <td>-16.502</td>\n",
              "      <td>0.026</td>\n",
              "      <td>0.012</td>\n",
              "      <td>...</td>\n",
              "      <td>-14.342</td>\n",
              "      <td>-1.213727</td>\n",
              "      <td>0.033067</td>\n",
              "      <td>-2.246</td>\n",
              "      <td>24.298</td>\n",
              "      <td>48.519</td>\n",
              "      <td>0.120300</td>\n",
              "      <td>0.582294</td>\n",
              "      <td>0.227375</td>\n",
              "      <td>0.005</td>\n",
              "      <td>0.020</td>\n",
              "      <td>-0.005</td>\n",
              "      <td>-0.060</td>\n",
              "      <td>-0.049</td>\n",
              "      <td>-0.034</td>\n",
              "      <td>-0.004000</td>\n",
              "      <td>0.025</td>\n",
              "      <td>-0.034</td>\n",
              "      <td>-0.014</td>\n",
              "      <td>-0.021</td>\n",
              "      <td>0.004</td>\n",
              "      <td>-0.008</td>\n",
              "      <td>0.041</td>\n",
              "      <td>0.044</td>\n",
              "      <td>0.043</td>\n",
              "      <td>-0.037</td>\n",
              "      <td>-0.039</td>\n",
              "      <td>0.016</td>\n",
              "      <td>-0.029</td>\n",
              "      <td>0.050</td>\n",
              "      <td>0.030</td>\n",
              "      <td>-0.028</td>\n",
              "      <td>-0.033</td>\n",
              "      <td>0.046</td>\n",
              "      <td>0.058</td>\n",
              "      <td>-0.087</td>\n",
              "      <td>0.035</td>\n",
              "      <td>-0.007</td>\n",
              "      <td>False</td>\n",
              "      <td>a119e_l125p</td>\n",
              "    </tr>\n",
              "    <tr>\n",
              "      <th>1</th>\n",
              "      <td>-0.019</td>\n",
              "      <td>0.006</td>\n",
              "      <td>-0.038</td>\n",
              "      <td>-4.111</td>\n",
              "      <td>0.006</td>\n",
              "      <td>-0.054667</td>\n",
              "      <td>-0.002</td>\n",
              "      <td>2.952</td>\n",
              "      <td>-0.366</td>\n",
              "      <td>0.009</td>\n",
              "      <td>0.992</td>\n",
              "      <td>0.001</td>\n",
              "      <td>-0.002</td>\n",
              "      <td>0.031</td>\n",
              "      <td>0.016286</td>\n",
              "      <td>0.078</td>\n",
              "      <td>-0.023</td>\n",
              "      <td>-0.416</td>\n",
              "      <td>0.066</td>\n",
              "      <td>-1.446</td>\n",
              "      <td>1.768</td>\n",
              "      <td>0.026</td>\n",
              "      <td>0.005</td>\n",
              "      <td>-0.004</td>\n",
              "      <td>-1.017</td>\n",
              "      <td>-0.096</td>\n",
              "      <td>-0.089</td>\n",
              "      <td>0.775091</td>\n",
              "      <td>-0.003</td>\n",
              "      <td>-0.023</td>\n",
              "      <td>-0.030</td>\n",
              "      <td>2.896</td>\n",
              "      <td>0.013</td>\n",
              "      <td>0.093</td>\n",
              "      <td>0.124</td>\n",
              "      <td>2.650</td>\n",
              "      <td>0.25640</td>\n",
              "      <td>-16.527</td>\n",
              "      <td>0.008</td>\n",
              "      <td>0.000</td>\n",
              "      <td>...</td>\n",
              "      <td>4.115</td>\n",
              "      <td>-0.619045</td>\n",
              "      <td>-1.028600</td>\n",
              "      <td>-1.808</td>\n",
              "      <td>21.268</td>\n",
              "      <td>62.454</td>\n",
              "      <td>-0.112233</td>\n",
              "      <td>0.537647</td>\n",
              "      <td>0.278125</td>\n",
              "      <td>-0.012</td>\n",
              "      <td>0.007</td>\n",
              "      <td>-0.003</td>\n",
              "      <td>-0.082</td>\n",
              "      <td>-0.029</td>\n",
              "      <td>-0.017</td>\n",
              "      <td>0.010000</td>\n",
              "      <td>0.005</td>\n",
              "      <td>-0.021</td>\n",
              "      <td>-0.021</td>\n",
              "      <td>-0.009</td>\n",
              "      <td>-0.009</td>\n",
              "      <td>-0.001</td>\n",
              "      <td>0.022</td>\n",
              "      <td>0.022</td>\n",
              "      <td>0.026</td>\n",
              "      <td>-0.012</td>\n",
              "      <td>-0.020</td>\n",
              "      <td>0.013</td>\n",
              "      <td>-0.012</td>\n",
              "      <td>0.034</td>\n",
              "      <td>0.005</td>\n",
              "      <td>-0.018</td>\n",
              "      <td>-0.016</td>\n",
              "      <td>0.021</td>\n",
              "      <td>0.047</td>\n",
              "      <td>-0.035</td>\n",
              "      <td>0.011</td>\n",
              "      <td>0.005</td>\n",
              "      <td>False</td>\n",
              "      <td>a119e_r283k_a353v</td>\n",
              "    </tr>\n",
              "    <tr>\n",
              "      <th>2</th>\n",
              "      <td>-0.036</td>\n",
              "      <td>-0.056</td>\n",
              "      <td>-0.033</td>\n",
              "      <td>-4.107</td>\n",
              "      <td>-0.012</td>\n",
              "      <td>-0.099333</td>\n",
              "      <td>-0.002</td>\n",
              "      <td>3.031</td>\n",
              "      <td>-0.089</td>\n",
              "      <td>-0.019</td>\n",
              "      <td>1.051</td>\n",
              "      <td>0.041</td>\n",
              "      <td>-0.024</td>\n",
              "      <td>0.042</td>\n",
              "      <td>-1.114571</td>\n",
              "      <td>-0.216</td>\n",
              "      <td>-0.933</td>\n",
              "      <td>-0.457</td>\n",
              "      <td>0.048</td>\n",
              "      <td>-1.455</td>\n",
              "      <td>1.739</td>\n",
              "      <td>-2.953</td>\n",
              "      <td>-0.062</td>\n",
              "      <td>0.222</td>\n",
              "      <td>-1.010</td>\n",
              "      <td>-0.205</td>\n",
              "      <td>-0.103</td>\n",
              "      <td>0.535364</td>\n",
              "      <td>-0.005</td>\n",
              "      <td>-0.025</td>\n",
              "      <td>-0.020</td>\n",
              "      <td>2.862</td>\n",
              "      <td>-0.048</td>\n",
              "      <td>0.058</td>\n",
              "      <td>0.002</td>\n",
              "      <td>0.200</td>\n",
              "      <td>-0.00790</td>\n",
              "      <td>-16.508</td>\n",
              "      <td>0.018</td>\n",
              "      <td>0.007</td>\n",
              "      <td>...</td>\n",
              "      <td>-11.706</td>\n",
              "      <td>0.489000</td>\n",
              "      <td>-0.503633</td>\n",
              "      <td>-2.324</td>\n",
              "      <td>24.274</td>\n",
              "      <td>49.118</td>\n",
              "      <td>0.648200</td>\n",
              "      <td>0.396000</td>\n",
              "      <td>0.027750</td>\n",
              "      <td>0.012</td>\n",
              "      <td>0.010</td>\n",
              "      <td>-0.009</td>\n",
              "      <td>-0.070</td>\n",
              "      <td>-0.055</td>\n",
              "      <td>-0.027</td>\n",
              "      <td>-0.002000</td>\n",
              "      <td>0.042</td>\n",
              "      <td>-0.029</td>\n",
              "      <td>-0.015</td>\n",
              "      <td>-0.020</td>\n",
              "      <td>0.003</td>\n",
              "      <td>-0.011</td>\n",
              "      <td>0.030</td>\n",
              "      <td>0.051</td>\n",
              "      <td>0.043</td>\n",
              "      <td>-0.034</td>\n",
              "      <td>-0.045</td>\n",
              "      <td>0.018</td>\n",
              "      <td>-0.032</td>\n",
              "      <td>0.053</td>\n",
              "      <td>0.028</td>\n",
              "      <td>-0.033</td>\n",
              "      <td>-0.038</td>\n",
              "      <td>0.044</td>\n",
              "      <td>0.074</td>\n",
              "      <td>-0.076</td>\n",
              "      <td>0.036</td>\n",
              "      <td>-0.018</td>\n",
              "      <td>False</td>\n",
              "      <td>c135y</td>\n",
              "    </tr>\n",
              "    <tr>\n",
              "      <th>3</th>\n",
              "      <td>-0.058</td>\n",
              "      <td>-0.116</td>\n",
              "      <td>-0.039</td>\n",
              "      <td>-4.106</td>\n",
              "      <td>-0.038</td>\n",
              "      <td>-0.134333</td>\n",
              "      <td>-0.017</td>\n",
              "      <td>-0.033</td>\n",
              "      <td>-0.056</td>\n",
              "      <td>-0.046</td>\n",
              "      <td>1.180</td>\n",
              "      <td>4.554</td>\n",
              "      <td>4.426</td>\n",
              "      <td>0.063</td>\n",
              "      <td>-1.086357</td>\n",
              "      <td>-0.536</td>\n",
              "      <td>-1.128</td>\n",
              "      <td>-0.476</td>\n",
              "      <td>0.024</td>\n",
              "      <td>-1.473</td>\n",
              "      <td>1.782</td>\n",
              "      <td>-2.943</td>\n",
              "      <td>-0.033</td>\n",
              "      <td>0.217</td>\n",
              "      <td>-1.035</td>\n",
              "      <td>-0.533</td>\n",
              "      <td>-0.105</td>\n",
              "      <td>0.755273</td>\n",
              "      <td>-0.045</td>\n",
              "      <td>-0.063</td>\n",
              "      <td>-0.083</td>\n",
              "      <td>2.880</td>\n",
              "      <td>-0.088</td>\n",
              "      <td>-0.060</td>\n",
              "      <td>-0.046</td>\n",
              "      <td>0.201</td>\n",
              "      <td>0.22802</td>\n",
              "      <td>-16.508</td>\n",
              "      <td>0.018</td>\n",
              "      <td>0.003</td>\n",
              "      <td>...</td>\n",
              "      <td>-23.103</td>\n",
              "      <td>-1.607500</td>\n",
              "      <td>0.218600</td>\n",
              "      <td>-2.305</td>\n",
              "      <td>16.750</td>\n",
              "      <td>56.411</td>\n",
              "      <td>0.537033</td>\n",
              "      <td>0.455118</td>\n",
              "      <td>0.050625</td>\n",
              "      <td>0.028</td>\n",
              "      <td>-0.003</td>\n",
              "      <td>-0.021</td>\n",
              "      <td>-0.103</td>\n",
              "      <td>-0.082</td>\n",
              "      <td>-0.065</td>\n",
              "      <td>-0.492000</td>\n",
              "      <td>0.038</td>\n",
              "      <td>-0.042</td>\n",
              "      <td>0.003</td>\n",
              "      <td>-0.026</td>\n",
              "      <td>0.021</td>\n",
              "      <td>-0.001</td>\n",
              "      <td>0.031</td>\n",
              "      <td>0.062</td>\n",
              "      <td>0.057</td>\n",
              "      <td>-0.048</td>\n",
              "      <td>-0.067</td>\n",
              "      <td>0.189</td>\n",
              "      <td>-0.069</td>\n",
              "      <td>0.076</td>\n",
              "      <td>0.053</td>\n",
              "      <td>-0.050</td>\n",
              "      <td>-0.061</td>\n",
              "      <td>0.061</td>\n",
              "      <td>0.126</td>\n",
              "      <td>-0.124</td>\n",
              "      <td>0.059</td>\n",
              "      <td>-0.049</td>\n",
              "      <td>False</td>\n",
              "      <td>c135y_e285m</td>\n",
              "    </tr>\n",
              "    <tr>\n",
              "      <th>4</th>\n",
              "      <td>-0.011</td>\n",
              "      <td>0.012</td>\n",
              "      <td>-0.037</td>\n",
              "      <td>-4.110</td>\n",
              "      <td>0.011</td>\n",
              "      <td>-0.057333</td>\n",
              "      <td>0.000</td>\n",
              "      <td>2.974</td>\n",
              "      <td>-0.362</td>\n",
              "      <td>0.017</td>\n",
              "      <td>0.949</td>\n",
              "      <td>0.010</td>\n",
              "      <td>0.005</td>\n",
              "      <td>0.025</td>\n",
              "      <td>0.008214</td>\n",
              "      <td>-0.055</td>\n",
              "      <td>-0.927</td>\n",
              "      <td>-0.409</td>\n",
              "      <td>0.080</td>\n",
              "      <td>-1.434</td>\n",
              "      <td>1.805</td>\n",
              "      <td>0.036</td>\n",
              "      <td>-0.004</td>\n",
              "      <td>-0.004</td>\n",
              "      <td>-1.108</td>\n",
              "      <td>-0.128</td>\n",
              "      <td>-0.098</td>\n",
              "      <td>0.782091</td>\n",
              "      <td>0.005</td>\n",
              "      <td>-0.054</td>\n",
              "      <td>-0.030</td>\n",
              "      <td>2.896</td>\n",
              "      <td>-0.004</td>\n",
              "      <td>-2.720</td>\n",
              "      <td>-2.106</td>\n",
              "      <td>0.149</td>\n",
              "      <td>0.25992</td>\n",
              "      <td>0.000</td>\n",
              "      <td>0.008</td>\n",
              "      <td>0.003</td>\n",
              "      <td>...</td>\n",
              "      <td>2.702</td>\n",
              "      <td>-1.240091</td>\n",
              "      <td>-1.339100</td>\n",
              "      <td>-2.378</td>\n",
              "      <td>20.821</td>\n",
              "      <td>61.475</td>\n",
              "      <td>-2.289233</td>\n",
              "      <td>0.309824</td>\n",
              "      <td>-0.122750</td>\n",
              "      <td>-0.014</td>\n",
              "      <td>0.012</td>\n",
              "      <td>0.007</td>\n",
              "      <td>-0.030</td>\n",
              "      <td>-0.027</td>\n",
              "      <td>-0.011</td>\n",
              "      <td>-0.371001</td>\n",
              "      <td>0.004</td>\n",
              "      <td>-0.017</td>\n",
              "      <td>-0.019</td>\n",
              "      <td>-0.007</td>\n",
              "      <td>-0.011</td>\n",
              "      <td>0.018</td>\n",
              "      <td>0.018</td>\n",
              "      <td>0.023</td>\n",
              "      <td>0.022</td>\n",
              "      <td>-0.007</td>\n",
              "      <td>-0.014</td>\n",
              "      <td>0.148</td>\n",
              "      <td>-0.012</td>\n",
              "      <td>0.024</td>\n",
              "      <td>0.005</td>\n",
              "      <td>-0.013</td>\n",
              "      <td>-0.008</td>\n",
              "      <td>0.016</td>\n",
              "      <td>0.024</td>\n",
              "      <td>-0.035</td>\n",
              "      <td>0.009</td>\n",
              "      <td>0.013</td>\n",
              "      <td>False</td>\n",
              "      <td>c135y_e285v</td>\n",
              "    </tr>\n",
              "  </tbody>\n",
              "</table>\n",
              "<p>5 rows × 344 columns</p>\n",
              "</div>"
            ],
            "text/plain": [
              "      25     86    131    294  ...   5387   5407  activity           nametags\n",
              "0 -0.031 -0.024 -0.021 -4.109  ...  0.035 -0.007     False        a119e_l125p\n",
              "1 -0.019  0.006 -0.038 -4.111  ...  0.011  0.005     False  a119e_r283k_a353v\n",
              "2 -0.036 -0.056 -0.033 -4.107  ...  0.036 -0.018     False              c135y\n",
              "3 -0.058 -0.116 -0.039 -4.106  ...  0.059 -0.049     False        c135y_e285m\n",
              "4 -0.011  0.012 -0.037 -4.110  ...  0.009  0.013     False        c135y_e285v\n",
              "\n",
              "[5 rows x 344 columns]"
            ]
          },
          "metadata": {
            "tags": []
          },
          "execution_count": 5
        }
      ]
    },
    {
      "cell_type": "markdown",
      "metadata": {
        "id": "EwnEIMFifU80"
      },
      "source": [
        "#### Pop Out Nametags Column"
      ]
    },
    {
      "cell_type": "code",
      "metadata": {
        "id": "ZtxTg1jdir5W",
        "colab": {
          "base_uri": "https://localhost:8080/"
        },
        "outputId": "9631999b-4572-4ae4-b821-02e02b2288f4"
      },
      "source": [
        "nametags = df.pop('nametags').astype(str)\n",
        "print(nametags)"
      ],
      "execution_count": 6,
      "outputs": [
        {
          "output_type": "stream",
          "text": [
            "0              a119e_l125p\n",
            "1        a119e_r283k_a353v\n",
            "2                    c135y\n",
            "3              c135y_e285m\n",
            "4              c135y_e285v\n",
            "               ...        \n",
            "16586    y220c_t230c_n239y\n",
            "16587    y220c_y234f_n239l\n",
            "16588                y234c\n",
            "16589          y234c_a119e\n",
            "16590          y234f_n239l\n",
            "Name: nametags, Length: 16591, dtype: object\n"
          ],
          "name": "stdout"
        }
      ]
    },
    {
      "cell_type": "code",
      "metadata": {
        "id": "_UJLLu9OkS9e",
        "colab": {
          "base_uri": "https://localhost:8080/",
          "height": 0
        },
        "outputId": "0990eab7-a3da-4976-c133-49885473d93b"
      },
      "source": [
        "df.head()"
      ],
      "execution_count": 7,
      "outputs": [
        {
          "output_type": "execute_result",
          "data": {
            "text/html": [
              "<div>\n",
              "<style scoped>\n",
              "    .dataframe tbody tr th:only-of-type {\n",
              "        vertical-align: middle;\n",
              "    }\n",
              "\n",
              "    .dataframe tbody tr th {\n",
              "        vertical-align: top;\n",
              "    }\n",
              "\n",
              "    .dataframe thead th {\n",
              "        text-align: right;\n",
              "    }\n",
              "</style>\n",
              "<table border=\"1\" class=\"dataframe\">\n",
              "  <thead>\n",
              "    <tr style=\"text-align: right;\">\n",
              "      <th></th>\n",
              "      <th>25</th>\n",
              "      <th>86</th>\n",
              "      <th>131</th>\n",
              "      <th>294</th>\n",
              "      <th>297</th>\n",
              "      <th>307</th>\n",
              "      <th>321</th>\n",
              "      <th>340</th>\n",
              "      <th>345</th>\n",
              "      <th>346</th>\n",
              "      <th>370</th>\n",
              "      <th>500</th>\n",
              "      <th>506</th>\n",
              "      <th>536</th>\n",
              "      <th>553</th>\n",
              "      <th>608</th>\n",
              "      <th>610</th>\n",
              "      <th>712</th>\n",
              "      <th>718</th>\n",
              "      <th>722</th>\n",
              "      <th>723</th>\n",
              "      <th>726</th>\n",
              "      <th>730</th>\n",
              "      <th>748</th>\n",
              "      <th>758</th>\n",
              "      <th>762</th>\n",
              "      <th>763</th>\n",
              "      <th>812</th>\n",
              "      <th>888</th>\n",
              "      <th>921</th>\n",
              "      <th>923</th>\n",
              "      <th>960</th>\n",
              "      <th>969</th>\n",
              "      <th>970</th>\n",
              "      <th>977</th>\n",
              "      <th>999</th>\n",
              "      <th>1027</th>\n",
              "      <th>1028</th>\n",
              "      <th>1032</th>\n",
              "      <th>1035</th>\n",
              "      <th>...</th>\n",
              "      <th>4802</th>\n",
              "      <th>4804</th>\n",
              "      <th>4809</th>\n",
              "      <th>4813</th>\n",
              "      <th>4814</th>\n",
              "      <th>4816</th>\n",
              "      <th>4817</th>\n",
              "      <th>4821</th>\n",
              "      <th>4822</th>\n",
              "      <th>4824</th>\n",
              "      <th>4844</th>\n",
              "      <th>4845</th>\n",
              "      <th>4881</th>\n",
              "      <th>4886</th>\n",
              "      <th>4901</th>\n",
              "      <th>4933</th>\n",
              "      <th>4944</th>\n",
              "      <th>5052</th>\n",
              "      <th>5065</th>\n",
              "      <th>5066</th>\n",
              "      <th>5075</th>\n",
              "      <th>5113</th>\n",
              "      <th>5122</th>\n",
              "      <th>5163</th>\n",
              "      <th>5164</th>\n",
              "      <th>5189</th>\n",
              "      <th>5201</th>\n",
              "      <th>5214</th>\n",
              "      <th>5251</th>\n",
              "      <th>5262</th>\n",
              "      <th>5275</th>\n",
              "      <th>5282</th>\n",
              "      <th>5283</th>\n",
              "      <th>5330</th>\n",
              "      <th>5331</th>\n",
              "      <th>5369</th>\n",
              "      <th>5377</th>\n",
              "      <th>5387</th>\n",
              "      <th>5407</th>\n",
              "      <th>activity</th>\n",
              "    </tr>\n",
              "  </thead>\n",
              "  <tbody>\n",
              "    <tr>\n",
              "      <th>0</th>\n",
              "      <td>-0.031</td>\n",
              "      <td>-0.024</td>\n",
              "      <td>-0.021</td>\n",
              "      <td>-4.109</td>\n",
              "      <td>0.003</td>\n",
              "      <td>-0.103000</td>\n",
              "      <td>2.551</td>\n",
              "      <td>3.024</td>\n",
              "      <td>-0.442</td>\n",
              "      <td>-0.001</td>\n",
              "      <td>1.038</td>\n",
              "      <td>0.048</td>\n",
              "      <td>-0.019</td>\n",
              "      <td>0.033</td>\n",
              "      <td>0.040000</td>\n",
              "      <td>-0.180</td>\n",
              "      <td>-0.918</td>\n",
              "      <td>-0.459</td>\n",
              "      <td>0.039</td>\n",
              "      <td>-1.460</td>\n",
              "      <td>1.732</td>\n",
              "      <td>0.160</td>\n",
              "      <td>-0.093</td>\n",
              "      <td>0.225</td>\n",
              "      <td>-0.394</td>\n",
              "      <td>-0.560</td>\n",
              "      <td>-0.104</td>\n",
              "      <td>0.545727</td>\n",
              "      <td>0.011</td>\n",
              "      <td>-0.031</td>\n",
              "      <td>-0.010</td>\n",
              "      <td>2.869</td>\n",
              "      <td>-0.040</td>\n",
              "      <td>0.075</td>\n",
              "      <td>0.015</td>\n",
              "      <td>0.207</td>\n",
              "      <td>-0.00504</td>\n",
              "      <td>-16.502</td>\n",
              "      <td>0.026</td>\n",
              "      <td>0.012</td>\n",
              "      <td>...</td>\n",
              "      <td>-18.015</td>\n",
              "      <td>-14.342</td>\n",
              "      <td>-1.213727</td>\n",
              "      <td>0.033067</td>\n",
              "      <td>-2.246</td>\n",
              "      <td>24.298</td>\n",
              "      <td>48.519</td>\n",
              "      <td>0.120300</td>\n",
              "      <td>0.582294</td>\n",
              "      <td>0.227375</td>\n",
              "      <td>0.005</td>\n",
              "      <td>0.020</td>\n",
              "      <td>-0.005</td>\n",
              "      <td>-0.060</td>\n",
              "      <td>-0.049</td>\n",
              "      <td>-0.034</td>\n",
              "      <td>-0.004000</td>\n",
              "      <td>0.025</td>\n",
              "      <td>-0.034</td>\n",
              "      <td>-0.014</td>\n",
              "      <td>-0.021</td>\n",
              "      <td>0.004</td>\n",
              "      <td>-0.008</td>\n",
              "      <td>0.041</td>\n",
              "      <td>0.044</td>\n",
              "      <td>0.043</td>\n",
              "      <td>-0.037</td>\n",
              "      <td>-0.039</td>\n",
              "      <td>0.016</td>\n",
              "      <td>-0.029</td>\n",
              "      <td>0.050</td>\n",
              "      <td>0.030</td>\n",
              "      <td>-0.028</td>\n",
              "      <td>-0.033</td>\n",
              "      <td>0.046</td>\n",
              "      <td>0.058</td>\n",
              "      <td>-0.087</td>\n",
              "      <td>0.035</td>\n",
              "      <td>-0.007</td>\n",
              "      <td>False</td>\n",
              "    </tr>\n",
              "    <tr>\n",
              "      <th>1</th>\n",
              "      <td>-0.019</td>\n",
              "      <td>0.006</td>\n",
              "      <td>-0.038</td>\n",
              "      <td>-4.111</td>\n",
              "      <td>0.006</td>\n",
              "      <td>-0.054667</td>\n",
              "      <td>-0.002</td>\n",
              "      <td>2.952</td>\n",
              "      <td>-0.366</td>\n",
              "      <td>0.009</td>\n",
              "      <td>0.992</td>\n",
              "      <td>0.001</td>\n",
              "      <td>-0.002</td>\n",
              "      <td>0.031</td>\n",
              "      <td>0.016286</td>\n",
              "      <td>0.078</td>\n",
              "      <td>-0.023</td>\n",
              "      <td>-0.416</td>\n",
              "      <td>0.066</td>\n",
              "      <td>-1.446</td>\n",
              "      <td>1.768</td>\n",
              "      <td>0.026</td>\n",
              "      <td>0.005</td>\n",
              "      <td>-0.004</td>\n",
              "      <td>-1.017</td>\n",
              "      <td>-0.096</td>\n",
              "      <td>-0.089</td>\n",
              "      <td>0.775091</td>\n",
              "      <td>-0.003</td>\n",
              "      <td>-0.023</td>\n",
              "      <td>-0.030</td>\n",
              "      <td>2.896</td>\n",
              "      <td>0.013</td>\n",
              "      <td>0.093</td>\n",
              "      <td>0.124</td>\n",
              "      <td>2.650</td>\n",
              "      <td>0.25640</td>\n",
              "      <td>-16.527</td>\n",
              "      <td>0.008</td>\n",
              "      <td>0.000</td>\n",
              "      <td>...</td>\n",
              "      <td>-9.978</td>\n",
              "      <td>4.115</td>\n",
              "      <td>-0.619045</td>\n",
              "      <td>-1.028600</td>\n",
              "      <td>-1.808</td>\n",
              "      <td>21.268</td>\n",
              "      <td>62.454</td>\n",
              "      <td>-0.112233</td>\n",
              "      <td>0.537647</td>\n",
              "      <td>0.278125</td>\n",
              "      <td>-0.012</td>\n",
              "      <td>0.007</td>\n",
              "      <td>-0.003</td>\n",
              "      <td>-0.082</td>\n",
              "      <td>-0.029</td>\n",
              "      <td>-0.017</td>\n",
              "      <td>0.010000</td>\n",
              "      <td>0.005</td>\n",
              "      <td>-0.021</td>\n",
              "      <td>-0.021</td>\n",
              "      <td>-0.009</td>\n",
              "      <td>-0.009</td>\n",
              "      <td>-0.001</td>\n",
              "      <td>0.022</td>\n",
              "      <td>0.022</td>\n",
              "      <td>0.026</td>\n",
              "      <td>-0.012</td>\n",
              "      <td>-0.020</td>\n",
              "      <td>0.013</td>\n",
              "      <td>-0.012</td>\n",
              "      <td>0.034</td>\n",
              "      <td>0.005</td>\n",
              "      <td>-0.018</td>\n",
              "      <td>-0.016</td>\n",
              "      <td>0.021</td>\n",
              "      <td>0.047</td>\n",
              "      <td>-0.035</td>\n",
              "      <td>0.011</td>\n",
              "      <td>0.005</td>\n",
              "      <td>False</td>\n",
              "    </tr>\n",
              "    <tr>\n",
              "      <th>2</th>\n",
              "      <td>-0.036</td>\n",
              "      <td>-0.056</td>\n",
              "      <td>-0.033</td>\n",
              "      <td>-4.107</td>\n",
              "      <td>-0.012</td>\n",
              "      <td>-0.099333</td>\n",
              "      <td>-0.002</td>\n",
              "      <td>3.031</td>\n",
              "      <td>-0.089</td>\n",
              "      <td>-0.019</td>\n",
              "      <td>1.051</td>\n",
              "      <td>0.041</td>\n",
              "      <td>-0.024</td>\n",
              "      <td>0.042</td>\n",
              "      <td>-1.114571</td>\n",
              "      <td>-0.216</td>\n",
              "      <td>-0.933</td>\n",
              "      <td>-0.457</td>\n",
              "      <td>0.048</td>\n",
              "      <td>-1.455</td>\n",
              "      <td>1.739</td>\n",
              "      <td>-2.953</td>\n",
              "      <td>-0.062</td>\n",
              "      <td>0.222</td>\n",
              "      <td>-1.010</td>\n",
              "      <td>-0.205</td>\n",
              "      <td>-0.103</td>\n",
              "      <td>0.535364</td>\n",
              "      <td>-0.005</td>\n",
              "      <td>-0.025</td>\n",
              "      <td>-0.020</td>\n",
              "      <td>2.862</td>\n",
              "      <td>-0.048</td>\n",
              "      <td>0.058</td>\n",
              "      <td>0.002</td>\n",
              "      <td>0.200</td>\n",
              "      <td>-0.00790</td>\n",
              "      <td>-16.508</td>\n",
              "      <td>0.018</td>\n",
              "      <td>0.007</td>\n",
              "      <td>...</td>\n",
              "      <td>-17.386</td>\n",
              "      <td>-11.706</td>\n",
              "      <td>0.489000</td>\n",
              "      <td>-0.503633</td>\n",
              "      <td>-2.324</td>\n",
              "      <td>24.274</td>\n",
              "      <td>49.118</td>\n",
              "      <td>0.648200</td>\n",
              "      <td>0.396000</td>\n",
              "      <td>0.027750</td>\n",
              "      <td>0.012</td>\n",
              "      <td>0.010</td>\n",
              "      <td>-0.009</td>\n",
              "      <td>-0.070</td>\n",
              "      <td>-0.055</td>\n",
              "      <td>-0.027</td>\n",
              "      <td>-0.002000</td>\n",
              "      <td>0.042</td>\n",
              "      <td>-0.029</td>\n",
              "      <td>-0.015</td>\n",
              "      <td>-0.020</td>\n",
              "      <td>0.003</td>\n",
              "      <td>-0.011</td>\n",
              "      <td>0.030</td>\n",
              "      <td>0.051</td>\n",
              "      <td>0.043</td>\n",
              "      <td>-0.034</td>\n",
              "      <td>-0.045</td>\n",
              "      <td>0.018</td>\n",
              "      <td>-0.032</td>\n",
              "      <td>0.053</td>\n",
              "      <td>0.028</td>\n",
              "      <td>-0.033</td>\n",
              "      <td>-0.038</td>\n",
              "      <td>0.044</td>\n",
              "      <td>0.074</td>\n",
              "      <td>-0.076</td>\n",
              "      <td>0.036</td>\n",
              "      <td>-0.018</td>\n",
              "      <td>False</td>\n",
              "    </tr>\n",
              "    <tr>\n",
              "      <th>3</th>\n",
              "      <td>-0.058</td>\n",
              "      <td>-0.116</td>\n",
              "      <td>-0.039</td>\n",
              "      <td>-4.106</td>\n",
              "      <td>-0.038</td>\n",
              "      <td>-0.134333</td>\n",
              "      <td>-0.017</td>\n",
              "      <td>-0.033</td>\n",
              "      <td>-0.056</td>\n",
              "      <td>-0.046</td>\n",
              "      <td>1.180</td>\n",
              "      <td>4.554</td>\n",
              "      <td>4.426</td>\n",
              "      <td>0.063</td>\n",
              "      <td>-1.086357</td>\n",
              "      <td>-0.536</td>\n",
              "      <td>-1.128</td>\n",
              "      <td>-0.476</td>\n",
              "      <td>0.024</td>\n",
              "      <td>-1.473</td>\n",
              "      <td>1.782</td>\n",
              "      <td>-2.943</td>\n",
              "      <td>-0.033</td>\n",
              "      <td>0.217</td>\n",
              "      <td>-1.035</td>\n",
              "      <td>-0.533</td>\n",
              "      <td>-0.105</td>\n",
              "      <td>0.755273</td>\n",
              "      <td>-0.045</td>\n",
              "      <td>-0.063</td>\n",
              "      <td>-0.083</td>\n",
              "      <td>2.880</td>\n",
              "      <td>-0.088</td>\n",
              "      <td>-0.060</td>\n",
              "      <td>-0.046</td>\n",
              "      <td>0.201</td>\n",
              "      <td>0.22802</td>\n",
              "      <td>-16.508</td>\n",
              "      <td>0.018</td>\n",
              "      <td>0.003</td>\n",
              "      <td>...</td>\n",
              "      <td>-23.006</td>\n",
              "      <td>-23.103</td>\n",
              "      <td>-1.607500</td>\n",
              "      <td>0.218600</td>\n",
              "      <td>-2.305</td>\n",
              "      <td>16.750</td>\n",
              "      <td>56.411</td>\n",
              "      <td>0.537033</td>\n",
              "      <td>0.455118</td>\n",
              "      <td>0.050625</td>\n",
              "      <td>0.028</td>\n",
              "      <td>-0.003</td>\n",
              "      <td>-0.021</td>\n",
              "      <td>-0.103</td>\n",
              "      <td>-0.082</td>\n",
              "      <td>-0.065</td>\n",
              "      <td>-0.492000</td>\n",
              "      <td>0.038</td>\n",
              "      <td>-0.042</td>\n",
              "      <td>0.003</td>\n",
              "      <td>-0.026</td>\n",
              "      <td>0.021</td>\n",
              "      <td>-0.001</td>\n",
              "      <td>0.031</td>\n",
              "      <td>0.062</td>\n",
              "      <td>0.057</td>\n",
              "      <td>-0.048</td>\n",
              "      <td>-0.067</td>\n",
              "      <td>0.189</td>\n",
              "      <td>-0.069</td>\n",
              "      <td>0.076</td>\n",
              "      <td>0.053</td>\n",
              "      <td>-0.050</td>\n",
              "      <td>-0.061</td>\n",
              "      <td>0.061</td>\n",
              "      <td>0.126</td>\n",
              "      <td>-0.124</td>\n",
              "      <td>0.059</td>\n",
              "      <td>-0.049</td>\n",
              "      <td>False</td>\n",
              "    </tr>\n",
              "    <tr>\n",
              "      <th>4</th>\n",
              "      <td>-0.011</td>\n",
              "      <td>0.012</td>\n",
              "      <td>-0.037</td>\n",
              "      <td>-4.110</td>\n",
              "      <td>0.011</td>\n",
              "      <td>-0.057333</td>\n",
              "      <td>0.000</td>\n",
              "      <td>2.974</td>\n",
              "      <td>-0.362</td>\n",
              "      <td>0.017</td>\n",
              "      <td>0.949</td>\n",
              "      <td>0.010</td>\n",
              "      <td>0.005</td>\n",
              "      <td>0.025</td>\n",
              "      <td>0.008214</td>\n",
              "      <td>-0.055</td>\n",
              "      <td>-0.927</td>\n",
              "      <td>-0.409</td>\n",
              "      <td>0.080</td>\n",
              "      <td>-1.434</td>\n",
              "      <td>1.805</td>\n",
              "      <td>0.036</td>\n",
              "      <td>-0.004</td>\n",
              "      <td>-0.004</td>\n",
              "      <td>-1.108</td>\n",
              "      <td>-0.128</td>\n",
              "      <td>-0.098</td>\n",
              "      <td>0.782091</td>\n",
              "      <td>0.005</td>\n",
              "      <td>-0.054</td>\n",
              "      <td>-0.030</td>\n",
              "      <td>2.896</td>\n",
              "      <td>-0.004</td>\n",
              "      <td>-2.720</td>\n",
              "      <td>-2.106</td>\n",
              "      <td>0.149</td>\n",
              "      <td>0.25992</td>\n",
              "      <td>0.000</td>\n",
              "      <td>0.008</td>\n",
              "      <td>0.003</td>\n",
              "      <td>...</td>\n",
              "      <td>-9.191</td>\n",
              "      <td>2.702</td>\n",
              "      <td>-1.240091</td>\n",
              "      <td>-1.339100</td>\n",
              "      <td>-2.378</td>\n",
              "      <td>20.821</td>\n",
              "      <td>61.475</td>\n",
              "      <td>-2.289233</td>\n",
              "      <td>0.309824</td>\n",
              "      <td>-0.122750</td>\n",
              "      <td>-0.014</td>\n",
              "      <td>0.012</td>\n",
              "      <td>0.007</td>\n",
              "      <td>-0.030</td>\n",
              "      <td>-0.027</td>\n",
              "      <td>-0.011</td>\n",
              "      <td>-0.371001</td>\n",
              "      <td>0.004</td>\n",
              "      <td>-0.017</td>\n",
              "      <td>-0.019</td>\n",
              "      <td>-0.007</td>\n",
              "      <td>-0.011</td>\n",
              "      <td>0.018</td>\n",
              "      <td>0.018</td>\n",
              "      <td>0.023</td>\n",
              "      <td>0.022</td>\n",
              "      <td>-0.007</td>\n",
              "      <td>-0.014</td>\n",
              "      <td>0.148</td>\n",
              "      <td>-0.012</td>\n",
              "      <td>0.024</td>\n",
              "      <td>0.005</td>\n",
              "      <td>-0.013</td>\n",
              "      <td>-0.008</td>\n",
              "      <td>0.016</td>\n",
              "      <td>0.024</td>\n",
              "      <td>-0.035</td>\n",
              "      <td>0.009</td>\n",
              "      <td>0.013</td>\n",
              "      <td>False</td>\n",
              "    </tr>\n",
              "  </tbody>\n",
              "</table>\n",
              "<p>5 rows × 343 columns</p>\n",
              "</div>"
            ],
            "text/plain": [
              "      25     86    131    294    297  ...   5369   5377   5387   5407  activity\n",
              "0 -0.031 -0.024 -0.021 -4.109  0.003  ...  0.058 -0.087  0.035 -0.007     False\n",
              "1 -0.019  0.006 -0.038 -4.111  0.006  ...  0.047 -0.035  0.011  0.005     False\n",
              "2 -0.036 -0.056 -0.033 -4.107 -0.012  ...  0.074 -0.076  0.036 -0.018     False\n",
              "3 -0.058 -0.116 -0.039 -4.106 -0.038  ...  0.126 -0.124  0.059 -0.049     False\n",
              "4 -0.011  0.012 -0.037 -4.110  0.011  ...  0.024 -0.035  0.009  0.013     False\n",
              "\n",
              "[5 rows x 343 columns]"
            ]
          },
          "metadata": {
            "tags": []
          },
          "execution_count": 7
        }
      ]
    },
    {
      "cell_type": "markdown",
      "metadata": {
        "id": "qpwx4DcdfU83"
      },
      "source": [
        "### Create Train/Test Split"
      ]
    },
    {
      "cell_type": "code",
      "metadata": {
        "id": "hjmFq-RTfU83"
      },
      "source": [
        "# import from sklearn\n",
        "from sklearn.metrics import precision_recall_curve\n",
        "from sklearn.metrics import f1_score\n",
        "from sklearn.metrics import auc\n",
        "from sklearn.metrics import classification_report,confusion_matrix,roc_curve,roc_auc_score\n",
        "from sklearn.metrics import accuracy_score,log_loss"
      ],
      "execution_count": 8,
      "outputs": []
    },
    {
      "cell_type": "code",
      "metadata": {
        "id": "XX4kjn7afU84"
      },
      "source": [
        "from sklearn.model_selection import train_test_split\n",
        "\n",
        "# dont forget to define your X and y\n",
        "X = df.iloc[:, 0:342] # features\n",
        "y = df.activity # target variable\n",
        "\n",
        "feature_list = list(X.columns) # save feature names for later\n",
        "\n",
        "X_train, X_test, y_train, y_test = train_test_split(X, y, test_size=.2, random_state=420)"
      ],
      "execution_count": 9,
      "outputs": []
    },
    {
      "cell_type": "markdown",
      "metadata": {
        "id": "w2VksfzUfU84"
      },
      "source": [
        "### Scale Data to Prepare for Model Creation"
      ]
    },
    {
      "cell_type": "code",
      "metadata": {
        "id": "nP3MhXq6fU84"
      },
      "source": [
        "from sklearn.preprocessing import MaxAbsScaler\n",
        "\n",
        "# build scaler based on training data and apply it to test data to then also scale the test data\n",
        "scaler = MaxAbsScaler().fit(X_train)\n",
        "X_train_scaled=scaler.transform(X_train)\n",
        "X_test_scaled=scaler.transform(X_test)"
      ],
      "execution_count": 10,
      "outputs": []
    },
    {
      "cell_type": "markdown",
      "metadata": {
        "id": "A-RFU9PDALeJ"
      },
      "source": [
        "# Create Baseline Models and Compare"
      ]
    },
    {
      "cell_type": "code",
      "metadata": {
        "id": "bg45eVY5FkHP"
      },
      "source": [
        "!pip install lazypredict"
      ],
      "execution_count": null,
      "outputs": []
    },
    {
      "cell_type": "code",
      "metadata": {
        "colab": {
          "base_uri": "https://localhost:8080/"
        },
        "id": "TJMt1j6GAQ3-",
        "outputId": "16d1e758-dc72-460b-c249-8f7c403e4d79"
      },
      "source": [
        "from lazypredict.Supervised import LazyClassifier\n",
        "\n",
        "clf = LazyClassifier(verbose=0,ignore_warnings=True, custom_metric=None, random_state=420)\n",
        "models,predictions = clf.fit(X_train_scaled, X_test_scaled, y_train, y_test)"
      ],
      "execution_count": 13,
      "outputs": [
        {
          "output_type": "stream",
          "text": [
            "100%|██████████| 29/29 [04:39<00:00,  9.64s/it]\n"
          ],
          "name": "stderr"
        }
      ]
    },
    {
      "cell_type": "code",
      "metadata": {
        "colab": {
          "base_uri": "https://localhost:8080/",
          "height": 881
        },
        "id": "n66VN6d_Eb8V",
        "outputId": "aae13901-b65f-43b9-92af-b5490ff806f5"
      },
      "source": [
        "models"
      ],
      "execution_count": 14,
      "outputs": [
        {
          "output_type": "execute_result",
          "data": {
            "text/html": [
              "<div>\n",
              "<style scoped>\n",
              "    .dataframe tbody tr th:only-of-type {\n",
              "        vertical-align: middle;\n",
              "    }\n",
              "\n",
              "    .dataframe tbody tr th {\n",
              "        vertical-align: top;\n",
              "    }\n",
              "\n",
              "    .dataframe thead th {\n",
              "        text-align: right;\n",
              "    }\n",
              "</style>\n",
              "<table border=\"1\" class=\"dataframe\">\n",
              "  <thead>\n",
              "    <tr style=\"text-align: right;\">\n",
              "      <th></th>\n",
              "      <th>Accuracy</th>\n",
              "      <th>Balanced Accuracy</th>\n",
              "      <th>ROC AUC</th>\n",
              "      <th>F1 Score</th>\n",
              "      <th>Time Taken</th>\n",
              "    </tr>\n",
              "    <tr>\n",
              "      <th>Model</th>\n",
              "      <th></th>\n",
              "      <th></th>\n",
              "      <th></th>\n",
              "      <th></th>\n",
              "      <th></th>\n",
              "    </tr>\n",
              "  </thead>\n",
              "  <tbody>\n",
              "    <tr>\n",
              "      <th>NearestCentroid</th>\n",
              "      <td>0.79</td>\n",
              "      <td>0.83</td>\n",
              "      <td>0.83</td>\n",
              "      <td>0.88</td>\n",
              "      <td>0.26</td>\n",
              "    </tr>\n",
              "    <tr>\n",
              "      <th>GaussianNB</th>\n",
              "      <td>0.71</td>\n",
              "      <td>0.77</td>\n",
              "      <td>0.77</td>\n",
              "      <td>0.83</td>\n",
              "      <td>0.30</td>\n",
              "    </tr>\n",
              "    <tr>\n",
              "      <th>LinearDiscriminantAnalysis</th>\n",
              "      <td>0.98</td>\n",
              "      <td>0.72</td>\n",
              "      <td>0.72</td>\n",
              "      <td>0.99</td>\n",
              "      <td>1.39</td>\n",
              "    </tr>\n",
              "    <tr>\n",
              "      <th>BernoulliNB</th>\n",
              "      <td>0.69</td>\n",
              "      <td>0.67</td>\n",
              "      <td>0.67</td>\n",
              "      <td>0.81</td>\n",
              "      <td>0.37</td>\n",
              "    </tr>\n",
              "    <tr>\n",
              "      <th>XGBClassifier</th>\n",
              "      <td>0.99</td>\n",
              "      <td>0.66</td>\n",
              "      <td>0.66</td>\n",
              "      <td>0.99</td>\n",
              "      <td>27.55</td>\n",
              "    </tr>\n",
              "    <tr>\n",
              "      <th>LinearSVC</th>\n",
              "      <td>0.99</td>\n",
              "      <td>0.66</td>\n",
              "      <td>0.66</td>\n",
              "      <td>0.99</td>\n",
              "      <td>3.24</td>\n",
              "    </tr>\n",
              "    <tr>\n",
              "      <th>DecisionTreeClassifier</th>\n",
              "      <td>0.98</td>\n",
              "      <td>0.63</td>\n",
              "      <td>0.63</td>\n",
              "      <td>0.99</td>\n",
              "      <td>14.86</td>\n",
              "    </tr>\n",
              "    <tr>\n",
              "      <th>KNeighborsClassifier</th>\n",
              "      <td>0.99</td>\n",
              "      <td>0.61</td>\n",
              "      <td>0.61</td>\n",
              "      <td>0.99</td>\n",
              "      <td>29.88</td>\n",
              "    </tr>\n",
              "    <tr>\n",
              "      <th>AdaBoostClassifier</th>\n",
              "      <td>0.99</td>\n",
              "      <td>0.61</td>\n",
              "      <td>0.61</td>\n",
              "      <td>0.99</td>\n",
              "      <td>23.24</td>\n",
              "    </tr>\n",
              "    <tr>\n",
              "      <th>LogisticRegression</th>\n",
              "      <td>0.99</td>\n",
              "      <td>0.61</td>\n",
              "      <td>0.61</td>\n",
              "      <td>0.99</td>\n",
              "      <td>1.23</td>\n",
              "    </tr>\n",
              "    <tr>\n",
              "      <th>ExtraTreeClassifier</th>\n",
              "      <td>0.99</td>\n",
              "      <td>0.61</td>\n",
              "      <td>0.61</td>\n",
              "      <td>0.99</td>\n",
              "      <td>0.25</td>\n",
              "    </tr>\n",
              "    <tr>\n",
              "      <th>ExtraTreesClassifier</th>\n",
              "      <td>0.99</td>\n",
              "      <td>0.59</td>\n",
              "      <td>0.59</td>\n",
              "      <td>0.99</td>\n",
              "      <td>3.11</td>\n",
              "    </tr>\n",
              "    <tr>\n",
              "      <th>BaggingClassifier</th>\n",
              "      <td>0.99</td>\n",
              "      <td>0.59</td>\n",
              "      <td>0.59</td>\n",
              "      <td>0.99</td>\n",
              "      <td>87.67</td>\n",
              "    </tr>\n",
              "    <tr>\n",
              "      <th>PassiveAggressiveClassifier</th>\n",
              "      <td>0.99</td>\n",
              "      <td>0.59</td>\n",
              "      <td>0.59</td>\n",
              "      <td>0.99</td>\n",
              "      <td>0.41</td>\n",
              "    </tr>\n",
              "    <tr>\n",
              "      <th>LGBMClassifier</th>\n",
              "      <td>0.99</td>\n",
              "      <td>0.57</td>\n",
              "      <td>0.57</td>\n",
              "      <td>0.99</td>\n",
              "      <td>10.45</td>\n",
              "    </tr>\n",
              "    <tr>\n",
              "      <th>LabelSpreading</th>\n",
              "      <td>0.99</td>\n",
              "      <td>0.57</td>\n",
              "      <td>0.57</td>\n",
              "      <td>0.99</td>\n",
              "      <td>11.91</td>\n",
              "    </tr>\n",
              "    <tr>\n",
              "      <th>LabelPropagation</th>\n",
              "      <td>0.99</td>\n",
              "      <td>0.57</td>\n",
              "      <td>0.57</td>\n",
              "      <td>0.99</td>\n",
              "      <td>8.84</td>\n",
              "    </tr>\n",
              "    <tr>\n",
              "      <th>SGDClassifier</th>\n",
              "      <td>0.99</td>\n",
              "      <td>0.54</td>\n",
              "      <td>0.54</td>\n",
              "      <td>0.99</td>\n",
              "      <td>3.78</td>\n",
              "    </tr>\n",
              "    <tr>\n",
              "      <th>RandomForestClassifier</th>\n",
              "      <td>0.99</td>\n",
              "      <td>0.52</td>\n",
              "      <td>0.52</td>\n",
              "      <td>0.99</td>\n",
              "      <td>28.66</td>\n",
              "    </tr>\n",
              "    <tr>\n",
              "      <th>Perceptron</th>\n",
              "      <td>0.99</td>\n",
              "      <td>0.52</td>\n",
              "      <td>0.52</td>\n",
              "      <td>0.99</td>\n",
              "      <td>0.46</td>\n",
              "    </tr>\n",
              "    <tr>\n",
              "      <th>QuadraticDiscriminantAnalysis</th>\n",
              "      <td>0.99</td>\n",
              "      <td>0.50</td>\n",
              "      <td>0.50</td>\n",
              "      <td>0.99</td>\n",
              "      <td>1.04</td>\n",
              "    </tr>\n",
              "    <tr>\n",
              "      <th>RidgeClassifier</th>\n",
              "      <td>0.99</td>\n",
              "      <td>0.50</td>\n",
              "      <td>0.50</td>\n",
              "      <td>0.99</td>\n",
              "      <td>0.38</td>\n",
              "    </tr>\n",
              "    <tr>\n",
              "      <th>RidgeClassifierCV</th>\n",
              "      <td>0.99</td>\n",
              "      <td>0.50</td>\n",
              "      <td>0.50</td>\n",
              "      <td>0.99</td>\n",
              "      <td>1.14</td>\n",
              "    </tr>\n",
              "    <tr>\n",
              "      <th>SVC</th>\n",
              "      <td>0.99</td>\n",
              "      <td>0.50</td>\n",
              "      <td>0.50</td>\n",
              "      <td>0.99</td>\n",
              "      <td>9.24</td>\n",
              "    </tr>\n",
              "    <tr>\n",
              "      <th>CalibratedClassifierCV</th>\n",
              "      <td>0.99</td>\n",
              "      <td>0.50</td>\n",
              "      <td>0.50</td>\n",
              "      <td>0.99</td>\n",
              "      <td>9.14</td>\n",
              "    </tr>\n",
              "    <tr>\n",
              "      <th>DummyClassifier</th>\n",
              "      <td>0.98</td>\n",
              "      <td>0.49</td>\n",
              "      <td>0.49</td>\n",
              "      <td>0.98</td>\n",
              "      <td>0.21</td>\n",
              "    </tr>\n",
              "  </tbody>\n",
              "</table>\n",
              "</div>"
            ],
            "text/plain": [
              "                               Accuracy  ...  Time Taken\n",
              "Model                                    ...            \n",
              "NearestCentroid                    0.79  ...        0.26\n",
              "GaussianNB                         0.71  ...        0.30\n",
              "LinearDiscriminantAnalysis         0.98  ...        1.39\n",
              "BernoulliNB                        0.69  ...        0.37\n",
              "XGBClassifier                      0.99  ...       27.55\n",
              "LinearSVC                          0.99  ...        3.24\n",
              "DecisionTreeClassifier             0.98  ...       14.86\n",
              "KNeighborsClassifier               0.99  ...       29.88\n",
              "AdaBoostClassifier                 0.99  ...       23.24\n",
              "LogisticRegression                 0.99  ...        1.23\n",
              "ExtraTreeClassifier                0.99  ...        0.25\n",
              "ExtraTreesClassifier               0.99  ...        3.11\n",
              "BaggingClassifier                  0.99  ...       87.67\n",
              "PassiveAggressiveClassifier        0.99  ...        0.41\n",
              "LGBMClassifier                     0.99  ...       10.45\n",
              "LabelSpreading                     0.99  ...       11.91\n",
              "LabelPropagation                   0.99  ...        8.84\n",
              "SGDClassifier                      0.99  ...        3.78\n",
              "RandomForestClassifier             0.99  ...       28.66\n",
              "Perceptron                         0.99  ...        0.46\n",
              "QuadraticDiscriminantAnalysis      0.99  ...        1.04\n",
              "RidgeClassifier                    0.99  ...        0.38\n",
              "RidgeClassifierCV                  0.99  ...        1.14\n",
              "SVC                                0.99  ...        9.24\n",
              "CalibratedClassifierCV             0.99  ...        9.14\n",
              "DummyClassifier                    0.98  ...        0.21\n",
              "\n",
              "[26 rows x 5 columns]"
            ]
          },
          "metadata": {
            "tags": []
          },
          "execution_count": 14
        }
      ]
    },
    {
      "cell_type": "markdown",
      "metadata": {
        "id": "2ChobcL7fU88"
      },
      "source": [
        "## Balance the Imbalanced Classes with SMOTETomek"
      ]
    },
    {
      "cell_type": "markdown",
      "metadata": {
        "id": "47O9abgGfU88"
      },
      "source": [
        "SMOTE is an oversampling method that interpolates synthetic observations between the existing ones in the dataset. Tomek Links are pairs of nearest neighbors that have different classes, which in this case, are instances of the majority and minority class that are next to each other. Tomek Links are used for undersampling the majority class by getting rid of those observations which are next to the minority class examples, thus creating a more distinct decision boundary for the classifier.\n",
        "\n",
        "SMOTETomek is a combined method that oversamples the minority class and undersamples the majority class. This method is preferable to using SMOTE by itself since it cleans up the noise that SMOTE tends to create in the sample space."
      ]
    },
    {
      "cell_type": "code",
      "metadata": {
        "id": "zFKQ_LATN7Dr",
        "outputId": "37d0c26b-41e4-49a7-800d-fe8075ea0fa3",
        "colab": {
          "base_uri": "https://localhost:8080/"
        }
      },
      "source": [
        "!pip install imblearn"
      ],
      "execution_count": 17,
      "outputs": [
        {
          "output_type": "stream",
          "text": [
            "Requirement already satisfied: imblearn in /usr/local/lib/python3.7/dist-packages (0.0)\n",
            "Requirement already satisfied: imbalanced-learn in /usr/local/lib/python3.7/dist-packages (from imblearn) (0.4.3)\n",
            "Requirement already satisfied: scikit-learn>=0.20 in /usr/local/lib/python3.7/dist-packages (from imbalanced-learn->imblearn) (0.23.1)\n",
            "Requirement already satisfied: numpy>=1.8.2 in /usr/local/lib/python3.7/dist-packages (from imbalanced-learn->imblearn) (1.19.1)\n",
            "Requirement already satisfied: scipy>=0.13.3 in /usr/local/lib/python3.7/dist-packages (from imbalanced-learn->imblearn) (1.5.4)\n",
            "Requirement already satisfied: joblib>=0.11 in /usr/local/lib/python3.7/dist-packages (from scikit-learn>=0.20->imbalanced-learn->imblearn) (1.0.0)\n",
            "Requirement already satisfied: threadpoolctl>=2.0.0 in /usr/local/lib/python3.7/dist-packages (from scikit-learn>=0.20->imbalanced-learn->imblearn) (2.2.0)\n"
          ],
          "name": "stdout"
        }
      ]
    },
    {
      "cell_type": "code",
      "metadata": {
        "id": "k7DD-MkPfU88",
        "colab": {
          "base_uri": "https://localhost:8080/",
          "height": 488
        },
        "outputId": "5d309a9b-aeb1-487e-f2f8-d08874037a25"
      },
      "source": [
        "# import imblearn libraries for SMOTETomek\n",
        "from imblearn.over_sampling import SMOTE\n",
        "from imblearn.under_sampling import TomekLinks\n",
        "from imblearn.combine import SMOTETomek"
      ],
      "execution_count": 18,
      "outputs": [
        {
          "output_type": "error",
          "ename": "ImportError",
          "evalue": "ignored",
          "traceback": [
            "\u001b[0;31m---------------------------------------------------------------------------\u001b[0m",
            "\u001b[0;31mImportError\u001b[0m                               Traceback (most recent call last)",
            "\u001b[0;32m<ipython-input-18-b7a7d19fab12>\u001b[0m in \u001b[0;36m<module>\u001b[0;34m()\u001b[0m\n\u001b[1;32m      1\u001b[0m \u001b[0;31m# import imblearn libraries for SMOTETomek\u001b[0m\u001b[0;34m\u001b[0m\u001b[0;34m\u001b[0m\u001b[0;34m\u001b[0m\u001b[0m\n\u001b[0;32m----> 2\u001b[0;31m \u001b[0;32mfrom\u001b[0m \u001b[0mimblearn\u001b[0m\u001b[0;34m.\u001b[0m\u001b[0mover_sampling\u001b[0m \u001b[0;32mimport\u001b[0m \u001b[0mSMOTE\u001b[0m\u001b[0;34m\u001b[0m\u001b[0;34m\u001b[0m\u001b[0m\n\u001b[0m\u001b[1;32m      3\u001b[0m \u001b[0;32mfrom\u001b[0m \u001b[0mimblearn\u001b[0m\u001b[0;34m.\u001b[0m\u001b[0munder_sampling\u001b[0m \u001b[0;32mimport\u001b[0m \u001b[0mTomekLinks\u001b[0m\u001b[0;34m\u001b[0m\u001b[0;34m\u001b[0m\u001b[0m\n\u001b[1;32m      4\u001b[0m \u001b[0;32mfrom\u001b[0m \u001b[0mimblearn\u001b[0m\u001b[0;34m.\u001b[0m\u001b[0mcombine\u001b[0m \u001b[0;32mimport\u001b[0m \u001b[0mSMOTETomek\u001b[0m\u001b[0;34m\u001b[0m\u001b[0;34m\u001b[0m\u001b[0m\n",
            "\u001b[0;32m/usr/local/lib/python3.7/dist-packages/imblearn/__init__.py\u001b[0m in \u001b[0;36m<module>\u001b[0;34m()\u001b[0m\n\u001b[1;32m     33\u001b[0m \"\"\"\n\u001b[1;32m     34\u001b[0m \u001b[0;34m\u001b[0m\u001b[0m\n\u001b[0;32m---> 35\u001b[0;31m \u001b[0;32mfrom\u001b[0m \u001b[0;34m.\u001b[0m\u001b[0mbase\u001b[0m \u001b[0;32mimport\u001b[0m \u001b[0mFunctionSampler\u001b[0m\u001b[0;34m\u001b[0m\u001b[0;34m\u001b[0m\u001b[0m\n\u001b[0m\u001b[1;32m     36\u001b[0m \u001b[0;32mfrom\u001b[0m \u001b[0;34m.\u001b[0m\u001b[0m_version\u001b[0m \u001b[0;32mimport\u001b[0m \u001b[0m__version__\u001b[0m\u001b[0;34m\u001b[0m\u001b[0;34m\u001b[0m\u001b[0m\n\u001b[1;32m     37\u001b[0m \u001b[0;34m\u001b[0m\u001b[0m\n",
            "\u001b[0;32m/usr/local/lib/python3.7/dist-packages/imblearn/base.py\u001b[0m in \u001b[0;36m<module>\u001b[0;34m()\u001b[0m\n\u001b[1;32m     13\u001b[0m \u001b[0;34m\u001b[0m\u001b[0m\n\u001b[1;32m     14\u001b[0m \u001b[0;32mfrom\u001b[0m \u001b[0msklearn\u001b[0m\u001b[0;34m.\u001b[0m\u001b[0mbase\u001b[0m \u001b[0;32mimport\u001b[0m \u001b[0mBaseEstimator\u001b[0m\u001b[0;34m\u001b[0m\u001b[0;34m\u001b[0m\u001b[0m\n\u001b[0;32m---> 15\u001b[0;31m \u001b[0;32mfrom\u001b[0m \u001b[0msklearn\u001b[0m\u001b[0;34m.\u001b[0m\u001b[0mexternals\u001b[0m \u001b[0;32mimport\u001b[0m \u001b[0msix\u001b[0m\u001b[0;34m\u001b[0m\u001b[0;34m\u001b[0m\u001b[0m\n\u001b[0m\u001b[1;32m     16\u001b[0m \u001b[0;32mfrom\u001b[0m \u001b[0msklearn\u001b[0m\u001b[0;34m.\u001b[0m\u001b[0mpreprocessing\u001b[0m \u001b[0;32mimport\u001b[0m \u001b[0mlabel_binarize\u001b[0m\u001b[0;34m\u001b[0m\u001b[0;34m\u001b[0m\u001b[0m\n\u001b[1;32m     17\u001b[0m \u001b[0;32mfrom\u001b[0m \u001b[0msklearn\u001b[0m\u001b[0;34m.\u001b[0m\u001b[0mutils\u001b[0m \u001b[0;32mimport\u001b[0m \u001b[0mcheck_X_y\u001b[0m\u001b[0;34m\u001b[0m\u001b[0;34m\u001b[0m\u001b[0m\n",
            "\u001b[0;31mImportError\u001b[0m: cannot import name 'six' from 'sklearn.externals' (/usr/local/lib/python3.7/dist-packages/sklearn/externals/__init__.py)",
            "",
            "\u001b[0;31m---------------------------------------------------------------------------\u001b[0;32m\nNOTE: If your import is failing due to a missing package, you can\nmanually install dependencies using either !pip or !apt.\n\nTo view examples of installing some common dependencies, click the\n\"Open Examples\" button below.\n\u001b[0;31m---------------------------------------------------------------------------\u001b[0m\n"
          ]
        }
      ]
    },
    {
      "cell_type": "code",
      "metadata": {
        "id": "7Y6Dn-X1fU88",
        "colab": {
          "base_uri": "https://localhost:8080/",
          "height": 229
        },
        "outputId": "553c72c1-7454-48f0-f20c-ecb4b0996808"
      },
      "source": [
        "# define the resampler, smt\n",
        "# oversample minority class, undersample majority class\n",
        "smt = SMOTETomek(random_state=420, smote=SMOTE(sampling_strategy='minority'), tomek=TomekLinks(sampling_strategy='majority'))\n",
        "\n",
        "# resample the training dataset\n",
        "X_res, y_res = smt.fit_resample(X_train_scaled, y_train) # only for training data!!"
      ],
      "execution_count": 16,
      "outputs": [
        {
          "output_type": "error",
          "ename": "NameError",
          "evalue": "ignored",
          "traceback": [
            "\u001b[0;31m---------------------------------------------------------------------------\u001b[0m",
            "\u001b[0;31mNameError\u001b[0m                                 Traceback (most recent call last)",
            "\u001b[0;32m<ipython-input-16-49c04b977327>\u001b[0m in \u001b[0;36m<module>\u001b[0;34m()\u001b[0m\n\u001b[1;32m      1\u001b[0m \u001b[0;31m# define the resampler, smt\u001b[0m\u001b[0;34m\u001b[0m\u001b[0;34m\u001b[0m\u001b[0;34m\u001b[0m\u001b[0m\n\u001b[1;32m      2\u001b[0m \u001b[0;31m# oversample minority class, undersample majority class\u001b[0m\u001b[0;34m\u001b[0m\u001b[0;34m\u001b[0m\u001b[0;34m\u001b[0m\u001b[0m\n\u001b[0;32m----> 3\u001b[0;31m \u001b[0msmt\u001b[0m \u001b[0;34m=\u001b[0m \u001b[0mSMOTETomek\u001b[0m\u001b[0;34m(\u001b[0m\u001b[0mrandom_state\u001b[0m\u001b[0;34m=\u001b[0m\u001b[0;36m420\u001b[0m\u001b[0;34m,\u001b[0m \u001b[0msmote\u001b[0m\u001b[0;34m=\u001b[0m\u001b[0mSMOTE\u001b[0m\u001b[0;34m(\u001b[0m\u001b[0msampling_strategy\u001b[0m\u001b[0;34m=\u001b[0m\u001b[0;34m'minority'\u001b[0m\u001b[0;34m)\u001b[0m\u001b[0;34m,\u001b[0m \u001b[0mtomek\u001b[0m\u001b[0;34m=\u001b[0m\u001b[0mTomekLinks\u001b[0m\u001b[0;34m(\u001b[0m\u001b[0msampling_strategy\u001b[0m\u001b[0;34m=\u001b[0m\u001b[0;34m'majority'\u001b[0m\u001b[0;34m)\u001b[0m\u001b[0;34m)\u001b[0m\u001b[0;34m\u001b[0m\u001b[0;34m\u001b[0m\u001b[0m\n\u001b[0m\u001b[1;32m      4\u001b[0m \u001b[0;34m\u001b[0m\u001b[0m\n\u001b[1;32m      5\u001b[0m \u001b[0;31m# resample the training dataset\u001b[0m\u001b[0;34m\u001b[0m\u001b[0;34m\u001b[0m\u001b[0;34m\u001b[0m\u001b[0m\n",
            "\u001b[0;31mNameError\u001b[0m: name 'SMOTETomek' is not defined"
          ]
        }
      ]
    },
    {
      "cell_type": "code",
      "metadata": {
        "id": "3hNs7x4sfU88",
        "colab": {
          "base_uri": "https://localhost:8080/",
          "height": 514
        },
        "outputId": "e29dcdc9-4d95-4800-da65-8cb9ee3ec95a"
      },
      "source": [
        "# visualize the two classes with a barchart to confirm balance\n",
        "y_res_df = pd.DataFrame(y_res) #resampled training labels\n",
        "y_tr_df = pd.DataFrame(y_train) #original training labels\n",
        "\n",
        "plt.figure(figsize=(10, 8))\n",
        "\n",
        "plt.subplot(2, 1, 1)\n",
        "plt.tight_layout()\n",
        "_ = y_train.value_counts().plot(kind='barh', color=['lightcoral', 'cornflowerblue'])\n",
        "_ = plt.xlabel('Number of Observations')\n",
        "_ = plt.ylabel('Classes')\n",
        "_ = plt.title('Class Balance of Original Training Data')\n",
        "\n",
        "plt.subplot(2, 1, 2)\n",
        "plt.tight_layout()\n",
        "_ = y_res_df.value_counts().plot(kind='barh', color=['lightcoral', 'cornflowerblue'])\n",
        "_ = plt.xlabel('Number of Observations')\n",
        "_ = plt.ylabel('Classes')\n",
        "_ = plt.title('Class Balance of Resampled Training Data')\n",
        "\n",
        "plt.show()"
      ],
      "execution_count": null,
      "outputs": [
        {
          "output_type": "display_data",
          "data": {
            "image/png": "[encoded data removed]",
            "text/plain": [
              "<Figure size 1152x720 with 2 Axes>"
            ]
          },
          "metadata": {
            "tags": []
          }
        }
      ]
    },
    {
      "cell_type": "markdown",
      "metadata": {
        "id": "RWzihrNGfU83"
      },
      "source": [
        "# Random Forest Classifier\n"
      ]
    },
    {
      "cell_type": "markdown",
      "metadata": {
        "id": "xukvxJwzfU83"
      },
      "source": [
        "The first classification model that I'll be using is a Random Forest Classifier. I will be comparing the performance of the Random Forest Classifier on the unbalanced train and test sets with a Random Forest Classifier trained on the balanced train and test sets."
      ]
    },
    {
      "cell_type": "markdown",
      "metadata": {
        "id": "QAPW3zu4fU84"
      },
      "source": [
        "### Train and Fit the RandomForestClassifier Model"
      ]
    },
    {
      "cell_type": "code",
      "metadata": {
        "id": "1Bt89balfU84",
        "colab": {
          "base_uri": "https://localhost:8080/"
        },
        "outputId": "710e9107-66d5-4331-8402-6d4080090c60"
      },
      "source": [
        "from sklearn.ensemble import RandomForestClassifier\n",
        "clf = RandomForestClassifier(n_estimators = 500, random_state=420, n_jobs=-1)\n",
        "\n",
        "model1 = clf.fit(X_train_scaled, y_train)\n",
        "y_pred = model1.predict(X_test_scaled)\n",
        "y_pred_prob = model1.predict_proba(X_test_scaled)\n",
        "lr_probs = y_pred_prob[:,1]\n",
        "ac = accuracy_score(y_test, y_pred)\n",
        "\n",
        "f1 = f1_score(y_test, y_pred, average='weighted')\n",
        "\n",
        "print('Random Forest: Accuracy=%.3f' % (ac))\n",
        "\n",
        "print('Random Forest: f1-score=%.3f' % (f1))"
      ],
      "execution_count": null,
      "outputs": [
        {
          "output_type": "stream",
          "text": [
            "Random Forest: Accuracy=0.994\n",
            "Random Forest: f1-score=0.991\n"
          ],
          "name": "stdout"
        }
      ]
    },
    {
      "cell_type": "markdown",
      "metadata": {
        "id": "LXSWUGzwfU85"
      },
      "source": [
        "The Random Forest classifier model shows an overall accuracy of 99.4% and an F1-score of 0.991 - both of which look very good at first glance, but are misleading! \n",
        "\n",
        "My guess is that this model has a high accuracy score due to overfitting. Random Forest Classifiers have a tendency to overfit, especially when there is a large number of trees (n_estimators). For this reason, I will use two different methods for hyperparameter optimization - RandomizedSearchCV and Bayesian Optimization - to train Random Forest Classifiers and then compare the results with this baseline model. In the next section, I will take a closer look at the model's performance."
      ]
    },
    {
      "cell_type": "markdown",
      "metadata": {
        "id": "My68FR_WfU85"
      },
      "source": [
        "### Evaluate Model Performance"
      ]
    },
    {
      "cell_type": "markdown",
      "metadata": {
        "id": "hGlVFqAefU85"
      },
      "source": [
        "To evaluate my Random Forest Classifier, I will be visualizing the model's performance using a confusion matrix, and then use the classification report to view the precision, recall, and f1-scores for each category. The confusion matrix will give me an overall idea of the model's performance, while the classification report will help me understand my model's performance in a more nuanced way."
      ]
    },
    {
      "cell_type": "code",
      "metadata": {
        "id": "pHfSoCR4fU85"
      },
      "source": [
        "conf = confusion_matrix(y_test, y_pred).astype('float')"
      ],
      "execution_count": null,
      "outputs": []
    },
    {
      "cell_type": "code",
      "metadata": {
        "id": "rKdIt5nnfU86"
      },
      "source": [
        "conf = conf / conf.sum(axis=1)[:, np.newaxis]"
      ],
      "execution_count": null,
      "outputs": []
    },
    {
      "cell_type": "code",
      "metadata": {
        "id": "1GUaA8BRfU86",
        "colab": {
          "base_uri": "https://localhost:8080/",
          "height": 575
        },
        "outputId": "99b2aeee-3fbd-446b-8b63-8006e11b1cf3"
      },
      "source": [
        "#plot confusion matrix\n",
        "plt.figure(figsize=(16, 10))\n",
        "sns.heatmap(conf, annot=True, annot_kws={'size':10}, cmap=plt.cm.Greens, linewidths=0.2)\n",
        "sns.set(font_scale=1.5)\n",
        "\n",
        "_ = plt.xlabel('Predicted Activity')\n",
        "_ = plt.ylabel('True Activity')\n",
        "_ = plt.title('Confusion Matrix for Random Forest Model')\n",
        "plt.show()"
      ],
      "execution_count": null,
      "outputs": [
        {
          "output_type": "display_data",
          "data": {
            "image/png": "[encoded data removed]",
            "text/plain": [
              "<Figure size 1152x720 with 2 Axes>"
            ]
          },
          "metadata": {
            "tags": [],
            "needs_background": "light"
          }
        }
      ]
    },
    {
      "cell_type": "markdown",
      "metadata": {
        "id": "-82OZay6fU86"
      },
      "source": [
        "The 0's correspond to **inactive p53 proteins**, and the 1's correspond to **active p53 proteins**.\n",
        "\n",
        "This confusion matrix shows that my classifier had trouble correctly classifying the active p53 proteins as active, as seen by the large proportion of false negatives. On the other hand, my classifier did very well at correctly labeling *inactive* p53 proteins. \n",
        "\n",
        "From looking at the confusion matrix, I can tell that this model is a *naive classifier* - it nearly always predicts \"0\", or inactive, for the protein. Statistically, this is the best way for the model to maximize the chances of making a correct prediction, since there is a huge class imbalance in the training data.\n",
        "\n",
        "This makes sense, as the data is very imbalanced with regards to inactive vs active protein data. There is much more data for inactive proteins in the dataset than for active proteins. I saw this imbalance in the data during the exploratory data analysis that was performed earlier. "
      ]
    },
    {
      "cell_type": "code",
      "metadata": {
        "id": "Z48gU3WEfU87",
        "colab": {
          "base_uri": "https://localhost:8080/"
        },
        "outputId": "2b854c5e-bb19-431a-f09a-2fb17a7cce26"
      },
      "source": [
        "print(classification_report(y_test, y_pred))"
      ],
      "execution_count": null,
      "outputs": [
        {
          "output_type": "stream",
          "text": [
            "              precision    recall  f1-score   support\n",
            "\n",
            "       False       0.99      1.00      1.00      3297\n",
            "        True       1.00      0.05      0.09        22\n",
            "\n",
            "    accuracy                           0.99      3319\n",
            "   macro avg       1.00      0.52      0.54      3319\n",
            "weighted avg       0.99      0.99      0.99      3319\n",
            "\n"
          ],
          "name": "stdout"
        }
      ]
    },
    {
      "cell_type": "markdown",
      "metadata": {
        "id": "O-uY4C_tfU87"
      },
      "source": [
        "The imbalance in the data is further confirmed by the low recall and low f1-scores for the \"True\" (aka \"Active\" p53) category. This is due to the low amount of \"True\" observations within the dataset, which does not allow the classifier enough data to learn how to predict the \"True\" class. This is a common problem with classifiers made with imbalanced data. \n",
        "\n",
        "To address this problem, I will oversample my minority class by generating synthetic data (SMOTE), which will create a more balanced dataset for my classifier model to learn from. I will also be combining this method with the Tomek Links undersampling method, which will create a clearer decision boundary for my binary classifier."
      ]
    },
    {
      "cell_type": "markdown",
      "metadata": {
        "id": "YS3jGp3EfU87"
      },
      "source": [
        "Before I move on, however, I am going to visualize the top 10 feature importances from this Random Forest classifier, so that I can compare these results with those of following models:"
      ]
    },
    {
      "cell_type": "code",
      "metadata": {
        "id": "uXFn3ACdfU87",
        "colab": {
          "base_uri": "https://localhost:8080/",
          "height": 318
        },
        "outputId": "2d502b00-08a6-447a-c7e9-da298b280667"
      },
      "source": [
        "feature_importances = pd.Series(model1.feature_importances_, index=feature_list)\n",
        "_ = feature_importances.nlargest(10).plot(kind='barh', color=['royalblue', 'orange', 'green', 'tab:red', 'blueviolet', 'tab:brown', 'tab:pink', 'tab:gray', 'tab:olive', 'tab:cyan']).invert_yaxis()\n",
        "\n",
        "_ = plt.ylabel('Feature Numbers')\n",
        "_ = plt.xlabel('Importances')\n",
        "_ = plt.title('Top 10 Feature Importances for Random Forest Classifier Model')\n",
        "plt.show()"
      ],
      "execution_count": null,
      "outputs": [
        {
          "output_type": "display_data",
          "data": {
            "image/png": "[encoded data removed]",
            "text/plain": [
              "<Figure size 432x288 with 1 Axes>"
            ]
          },
          "metadata": {
            "tags": []
          }
        }
      ]
    },
    {
      "cell_type": "markdown",
      "metadata": {
        "id": "CS8snD9TfU87"
      },
      "source": [
        "Looks like the **most importance features** for this Random Forest Classifier model are: **3991, 2827, 1674, 2826, 4028, 2833, 4120, 4134, 2767, and 370**.\n",
        "\n",
        "All of the Top 10 Most Important Features are **Electrostatic and Surface-Based Features**! This is very interesting, because I would have thought that the Distance-Based Features would be more important for indicating wild-type p53 function. However, this feature list is not reliable due to the extremely low recall for the positive class. Thus, I will be comparing these Top Features with those of following models after resampling the data and hyperparameter tuning my model algorithms."
      ]
    },
    {
      "cell_type": "markdown",
      "metadata": {
        "id": "yPRtNBwWfU88"
      },
      "source": [
        "# Random Forest with Oversampling/Undersampling and Randomized Search"
      ]
    },
    {
      "cell_type": "code",
      "metadata": {
        "id": "vvrPpRFrfU89",
        "colab": {
          "base_uri": "https://localhost:8080/"
        },
        "outputId": "b40535f6-ac11-4d7e-8266-47cb29a7461e"
      },
      "source": [
        "# run a Random Forest model with the resampled data and call it model2\n",
        "\n",
        "model2 = clf.fit(X_res, y_res) # use X_res and y_res instead of X_train_scaled and y_train\n",
        "y_pred = model2.predict(X_test_scaled)\n",
        "y_pred_prob = model2.predict_proba(X_test_scaled)\n",
        "lr_probs = y_pred_prob[:,1]\n",
        "ac = accuracy_score(y_test, y_pred)\n",
        "\n",
        "f1 = f1_score(y_test, y_pred, average='weighted')\n",
        "print(f1)"
      ],
      "execution_count": null,
      "outputs": [
        {
          "output_type": "stream",
          "text": [
            "0.9924017362019065\n"
          ],
          "name": "stdout"
        }
      ]
    },
    {
      "cell_type": "code",
      "metadata": {
        "id": "ooYaPtQufU89",
        "colab": {
          "base_uri": "https://localhost:8080/"
        },
        "outputId": "06b50302-02a6-415e-86c0-cb34e20a81e7"
      },
      "source": [
        "# classification report for model 2\n",
        "print(classification_report(y_test, y_pred))"
      ],
      "execution_count": null,
      "outputs": [
        {
          "output_type": "stream",
          "text": [
            "              precision    recall  f1-score   support\n",
            "\n",
            "       False       1.00      1.00      1.00      3297\n",
            "        True       0.50      0.27      0.35        22\n",
            "\n",
            "    accuracy                           0.99      3319\n",
            "   macro avg       0.75      0.64      0.67      3319\n",
            "weighted avg       0.99      0.99      0.99      3319\n",
            "\n"
          ],
          "name": "stdout"
        }
      ]
    },
    {
      "cell_type": "markdown",
      "metadata": {
        "id": "oHvd_BpIfU8-"
      },
      "source": [
        "<div class=\"alert-warning\">\n",
        "Resampling the training data with SMOTETomek helped increase the recall for the positive class from 0.05 to 0.27 and the f1-score from 0.09 to 0.35! That's a significant improvement, and a great starting point. I want to continue to maximize the f1-score, which effectively balances the precision and recall, in further models.\n",
        "</div>"
      ]
    },
    {
      "cell_type": "code",
      "metadata": {
        "id": "m60vjT0cfU8-",
        "colab": {
          "base_uri": "https://localhost:8080/",
          "height": 573
        },
        "outputId": "accd481f-b2d4-4264-b7fc-0bb414368163"
      },
      "source": [
        "# plot confusion matrix for model 2\n",
        "conf2 = confusion_matrix(y_test, y_pred).astype('float')\n",
        "conf2 = conf2 / conf2.sum(axis=1)[:, np.newaxis]\n",
        "\n",
        "plt.figure(figsize=(16, 10))\n",
        "sns.heatmap(conf2, annot=True, annot_kws={'size':10}, cmap=plt.cm.Greens, linewidths=0.2)\n",
        "sns.set(font_scale=1.5)\n",
        "\n",
        "_ = plt.xlabel('Predicted Activity')\n",
        "_ = plt.ylabel('True Activity')\n",
        "_ = plt.title('Confusion Matrix for Random Forest Model 2')\n",
        "plt.show()"
      ],
      "execution_count": null,
      "outputs": [
        {
          "output_type": "display_data",
          "data": {
            "image/png": "[encoded data removed]",
            "text/plain": [
              "<Figure size 1152x720 with 2 Axes>"
            ]
          },
          "metadata": {
            "tags": []
          }
        }
      ]
    },
    {
      "cell_type": "markdown",
      "metadata": {
        "id": "2dlqWXhdfU8-"
      },
      "source": [
        "### Increase Weights on the Minority Class"
      ]
    },
    {
      "cell_type": "code",
      "metadata": {
        "id": "qNiSzBz2fU8-"
      },
      "source": [
        "# add class weights in favor of the minority (False/Inactive) class and run Random Forest model\n",
        "# model3, clf2\n",
        "\n",
        "clf2 = RandomForestClassifier(n_estimators = 500, class_weight={0:1, 1:10}, random_state=420, n_jobs=-1)\n",
        "\n",
        "model3 = clf2.fit(X_res, y_res) # use X_res and y_res instead of X_train_scaled and y_train\n",
        "\n",
        "y_pred = model3.predict(X_test_scaled)\n",
        "y_pred_prob = model3.predict_proba(X_test_scaled)\n",
        "lr_probs = y_pred_prob[:,1]\n",
        "ac = accuracy_score(y_test, y_pred)\n",
        "\n",
        "f1 = f1_score(y_test, y_pred, average='weighted')"
      ],
      "execution_count": null,
      "outputs": []
    },
    {
      "cell_type": "code",
      "metadata": {
        "id": "PyhuT4JkfU8_",
        "colab": {
          "base_uri": "https://localhost:8080/"
        },
        "outputId": "900580dc-9363-4e2d-8f63-3a7ba4ae1e9f"
      },
      "source": [
        "# classification report for model 3\n",
        "print(classification_report(y_test, y_pred))"
      ],
      "execution_count": null,
      "outputs": [
        {
          "output_type": "stream",
          "text": [
            "              precision    recall  f1-score   support\n",
            "\n",
            "       False       1.00      0.99      0.99      3297\n",
            "        True       0.24      0.27      0.26        22\n",
            "\n",
            "    accuracy                           0.99      3319\n",
            "   macro avg       0.62      0.63      0.63      3319\n",
            "weighted avg       0.99      0.99      0.99      3319\n",
            "\n"
          ],
          "name": "stdout"
        }
      ]
    },
    {
      "cell_type": "markdown",
      "metadata": {
        "id": "Zco9Vh7ZfU8_"
      },
      "source": [
        "<div class=\"alert-warning\">\n",
        "By increasing the class weight on the positive class, the random forest algorithm now penalizes incorrect classifications of the positive class ten times more than incorrect classifications of the negative class. \n",
        "This change did not increase the f1-score, but it did even out the precision and recall for the positive class. I want to explore this more as a hyperparameter to tune.\n",
        "</div>"
      ]
    },
    {
      "cell_type": "markdown",
      "metadata": {
        "id": "zXaxLNm5fU8_"
      },
      "source": [
        "## Hyperparameter Tuning with Randomized Search"
      ]
    },
    {
      "cell_type": "markdown",
      "metadata": {
        "id": "ZsXkW_8afU8_"
      },
      "source": [
        "Let's start by taking a look at the parameters used by the previous Random Forest model:"
      ]
    },
    {
      "cell_type": "code",
      "metadata": {
        "id": "Y9ztZASUfU9A",
        "colab": {
          "base_uri": "https://localhost:8080/"
        },
        "outputId": "6a7d531d-84ca-4d7f-a899-9e09412c89ba"
      },
      "source": [
        "print('Current Random Forest Parameters:\\n ', clf.get_params())"
      ],
      "execution_count": null,
      "outputs": [
        {
          "output_type": "stream",
          "text": [
            "Current Random Forest Parameters:\n",
            "  {'bootstrap': True, 'ccp_alpha': 0.0, 'class_weight': None, 'criterion': 'gini', 'max_depth': None, 'max_features': 'auto', 'max_leaf_nodes': None, 'max_samples': None, 'min_impurity_decrease': 0.0, 'min_impurity_split': None, 'min_samples_leaf': 1, 'min_samples_split': 2, 'min_weight_fraction_leaf': 0.0, 'n_estimators': 500, 'n_jobs': -1, 'oob_score': False, 'random_state': 420, 'verbose': 0, 'warm_start': False}\n"
          ],
          "name": "stdout"
        }
      ]
    },
    {
      "cell_type": "markdown",
      "metadata": {
        "id": "6SOnDapmfU9A"
      },
      "source": [
        "<div class=\"alert-danger\">\n",
        "\n",
        "Out of these parameters, I will be focusing on the tuning the following:\n",
        "\n",
        "+ max_features: max number of features considered when splitting a node\n",
        "+ min_samples_split: minimum number of samples required to split a node\n",
        "+ min_samples_leaf: minimum number of samples required at each leaf\n",
        "+ n_estimators: number of trees in the forest\n",
        "    \n",
        "</div>"
      ]
    },
    {
      "cell_type": "code",
      "metadata": {
        "id": "rDEQcEZ8fU9A"
      },
      "source": [
        "from sklearn.model_selection import RandomizedSearchCV\n",
        "\n",
        "# max_features\n",
        "max_features=['auto', 'sqrt']\n",
        "\n",
        "# min_samples_split\n",
        "min_samples_split = [i for i in np.linspace(2, 40, 20)]\n",
        "\n",
        "# min_samples_leaf\n",
        "min_samples_leaf = [1, 2, 4]\n",
        "\n",
        "# n_estimators\n",
        "n_estimators = [i for i in np.linspace(200, 2000, 20)]"
      ],
      "execution_count": null,
      "outputs": []
    },
    {
      "cell_type": "code",
      "metadata": {
        "id": "e2IS51hOfU9A"
      },
      "source": [
        "# create the random parameter grid\n",
        "random_grid = {'n_estimators': n_estimators\n",
        "               'max_features': max_features,\n",
        "               'min_samples_split': min_samples_split,\n",
        "               'min_samples_leaf': min_samples_leaf}"
      ],
      "execution_count": null,
      "outputs": []
    },
    {
      "cell_type": "code",
      "metadata": {
        "id": "YcVIV6LkfU9B"
      },
      "source": [
        "# create a RandomForestClassifier to tune\n",
        "clf = RandomForestClassifier(random_state=420)\n",
        "\n",
        "# create random search model\n",
        "model4 = RandomizedSearchCV(estimator=clf, param_distributions=random_grid, n_iter=100, cv=3, verbose=2, random_state=420, n_jobs=-1)\n",
        "\n",
        "# fit random search model on resampled data\n",
        "model4.fit(X_res, y_res)"
      ],
      "execution_count": null,
      "outputs": []
    },
    {
      "cell_type": "code",
      "metadata": {
        "id": "E_pPGa2LfU9B"
      },
      "source": [
        "# view best hyperparameters from fitting the random search\n",
        "print(model4.best_params_)"
      ],
      "execution_count": null,
      "outputs": []
    },
    {
      "cell_type": "markdown",
      "metadata": {
        "id": "nouYvBxufU9B"
      },
      "source": [
        "<div class=\"alert-danger\">\n",
        "The best parameters from the Randomized Search are:\n",
        "\n",
        "{'n_estimators': 673, 'min_samples_split': 2, 'min_samples_leaf': 1, 'max_features': 'sqrt'}\n",
        "\n",
        "To deal with the imbalance in the dataset, I will also be adding the class_weights parameter to the Random Forest Classifier and assigning more weights to the \"active\" class.\n",
        "\n",
        "+ class_weight: class weights affect how the model is penalized for misclassifying examples of each class\n",
        "\n",
        "</div>"
      ]
    },
    {
      "cell_type": "code",
      "metadata": {
        "id": "qQPZwl96ia0c"
      },
      "source": [
        "# compute class_weights based on original y_train\n",
        "from sklearn.utils.class_weight import compute_class_weight\n",
        "\n",
        "weights = compute_class_weight(class_weight='balanced', classes=np.unique(y_res), y=y_train)"
      ],
      "execution_count": null,
      "outputs": []
    },
    {
      "cell_type": "code",
      "metadata": {
        "id": "F4DTrY-IU5xl",
        "colab": {
          "base_uri": "https://localhost:8080/"
        },
        "outputId": "7d274425-3a51-4b03-d2ca-027474e1c2d8"
      },
      "source": [
        "weights # weights for original training data"
      ],
      "execution_count": null,
      "outputs": [
        {
          "output_type": "execute_result",
          "data": {
            "text/plain": [
              "array([ 0.50456204, 55.3       ])"
            ]
          },
          "metadata": {
            "tags": []
          },
          "execution_count": 42
        }
      ]
    },
    {
      "cell_type": "code",
      "metadata": {
        "id": "avvCPwu1VR6m"
      },
      "source": [
        "# compute class_weights based on resampled y_train\n",
        "weights_res = compute_class_weight(class_weight='balanced', classes=np.unique(y_res), y=y_res)"
      ],
      "execution_count": null,
      "outputs": []
    },
    {
      "cell_type": "code",
      "metadata": {
        "id": "pUrNF0N6VfFO",
        "colab": {
          "base_uri": "https://localhost:8080/"
        },
        "outputId": "586b9164-77d2-4dd5-ea60-98278b578ebd"
      },
      "source": [
        "weights_res # weights for resampled y_train labels"
      ],
      "execution_count": null,
      "outputs": [
        {
          "output_type": "execute_result",
          "data": {
            "text/plain": [
              "array([1., 1.])"
            ]
          },
          "metadata": {
            "tags": []
          },
          "execution_count": 44
        }
      ]
    },
    {
      "cell_type": "code",
      "metadata": {
        "id": "XXZRPijdquca"
      },
      "source": [
        "# Random Forest Classifier with tuned hyperparameters\n",
        "# min_samples_split': 2, 'min_samples_leaf': 1, 'max_features': 'sqrt'\n",
        "\n",
        "clf3 = RandomForestClassifier(n_estimators = 673, class_weight={0:0.50456204, 1:55.3}, min_samples_split=2, min_samples_leaf=1, max_features='sqrt', random_state=420, n_jobs=-1)\n",
        "\n",
        "model_tuned = clf3.fit(X_res, y_res) # use X_res and y_res instead of X_train_scaled and y_train\n",
        "\n",
        "y_pred = model_tuned.predict(X_test_scaled)\n",
        "y_pred_prob = model_tuned.predict_proba(X_test_scaled)\n",
        "lr_probs = y_pred_prob[:,1]\n",
        "ac = accuracy_score(y_test, y_pred)\n",
        "\n",
        "f1 = f1_score(y_test, y_pred, average='weighted')"
      ],
      "execution_count": null,
      "outputs": []
    },
    {
      "cell_type": "code",
      "metadata": {
        "id": "cov7x4CKx5EJ",
        "colab": {
          "base_uri": "https://localhost:8080/"
        },
        "outputId": "74da85f9-035d-46a9-e525-ca2d24f20848"
      },
      "source": [
        "# print classification report for tuned Random Forest model\n",
        "print(classification_report(y_test, y_pred))"
      ],
      "execution_count": null,
      "outputs": [
        {
          "output_type": "stream",
          "text": [
            "              precision    recall  f1-score   support\n",
            "\n",
            "       False       0.99      1.00      0.99      3297\n",
            "        True       0.17      0.14      0.15        22\n",
            "\n",
            "    accuracy                           0.99      3319\n",
            "   macro avg       0.58      0.57      0.57      3319\n",
            "weighted avg       0.99      0.99      0.99      3319\n",
            "\n"
          ],
          "name": "stdout"
        }
      ]
    },
    {
      "cell_type": "markdown",
      "metadata": {
        "id": "XrFERaz34LPf"
      },
      "source": [
        "# Binary Logistic Regression Classifier"
      ]
    },
    {
      "cell_type": "markdown",
      "metadata": {
        "id": "lAXbw4BHwCqV"
      },
      "source": [
        "Logistic Regression is a solid algorithm choice for modeling this data for a few reasons:\n",
        "\n",
        "+ The dependent (target) variable is binary\n",
        "+ The features have already been filtered using linear correlation, so there should be little collinearity between variables\n",
        "+ My sample sizes are large\n",
        "\n",
        "I will be training my model on the rescaled, resampled data that I used for my Random Forest Classifiers."
      ]
    },
    {
      "cell_type": "code",
      "metadata": {
        "colab": {
          "base_uri": "https://localhost:8080/"
        },
        "id": "zBw5JcIO4SG6",
        "outputId": "89761b10-0d40-43c6-f560-1ecc2d4754f1"
      },
      "source": [
        "from sklearn.linear_model import LogisticRegression\n",
        "\n",
        "logreg = LogisticRegression(penalty='l1', class_weight='balanced', random_state=420, solver='saga', multi_class='ovr', n_jobs=-1, warm_start=True)\n",
        "\n",
        "logreg.fit(X_res, y_res) # fit on training data\n",
        "y_pred = logreg.predict(X_test_scaled)\n"
      ],
      "execution_count": null,
      "outputs": [
        {
          "output_type": "stream",
          "text": [
            "/usr/local/lib/python3.7/dist-packages/sklearn/linear_model/_sag.py:330: ConvergenceWarning: The max_iter was reached which means the coef_ did not converge\n",
            "  \"the coef_ did not converge\", ConvergenceWarning)\n"
          ],
          "name": "stderr"
        }
      ]
    },
    {
      "cell_type": "code",
      "metadata": {
        "colab": {
          "base_uri": "https://localhost:8080/",
          "height": 497
        },
        "id": "QsPKyZpv2TOq",
        "outputId": "f02f779a-3b60-4556-c811-6baf4f3c7e04"
      },
      "source": [
        "# plot confusion matrix for logistic regression model\n",
        "conf_logreg = confusion_matrix(y_test, y_pred).astype('float')\n",
        "conf_logreg = conf_logreg / conf_logreg.sum(axis=1)[:, np.newaxis]\n",
        "\n",
        "plt.figure(figsize=(16, 10))\n",
        "sns.heatmap(conf_logreg, annot=True, annot_kws={'size':10}, cmap=plt.cm.Greens, linewidths=0.2)\n",
        "sns.set(font_scale=1.5)\n",
        "\n",
        "_ = plt.xlabel('Predicted Activity')\n",
        "_ = plt.ylabel('True Activity')\n",
        "_ = plt.title('Confusion Matrix for Logistic Regression Binary Classifier')\n",
        "plt.show()"
      ],
      "execution_count": null,
      "outputs": [
        {
          "output_type": "display_data",
          "data": {
            "image/png": "[encoded data removed]",
            "text/plain": [
              "<Figure size 1152x720 with 2 Axes>"
            ]
          },
          "metadata": {
            "tags": []
          }
        }
      ]
    },
    {
      "cell_type": "code",
      "metadata": {
        "colab": {
          "base_uri": "https://localhost:8080/"
        },
        "id": "o58ko1sp20aY",
        "outputId": "4ed9a003-54ec-4317-d0c8-09435f699154"
      },
      "source": [
        "# show the classification report for logistic regression model\n",
        "print(classification_report(y_test, y_pred))"
      ],
      "execution_count": null,
      "outputs": [
        {
          "output_type": "stream",
          "text": [
            "              precision    recall  f1-score   support\n",
            "\n",
            "       False       1.00      0.94      0.97      3297\n",
            "        True       0.08      0.73      0.14        22\n",
            "\n",
            "    accuracy                           0.94      3319\n",
            "   macro avg       0.54      0.84      0.56      3319\n",
            "weighted avg       0.99      0.94      0.96      3319\n",
            "\n"
          ],
          "name": "stdout"
        }
      ]
    },
    {
      "cell_type": "markdown",
      "metadata": {
        "id": "dHhgnqJq3Pi6"
      },
      "source": [
        "The Logistic Regression model shows a high recall for both classes, with the recall for the positive class being 0.73! A high recall indicates a low false negative rate, which is exactly what I want. Since the positive class, which are transcriptionally active p53 mutants, are so rare, I want to make sure that as many of them as possible are correctly classified as being \"active\". \n",
        "On the other hand, this model has very low precision for the positive class, and I can see from the confusion matrix that some of the \"active\" p53 mutants were incorrectly classified as being \"inactive\". This is okay, since minimizing the false negatives is more important for my classification problem.\n",
        "\n",
        "The Logistic Regression classifier performed better than any of the Random Forest Classifiers. "
      ]
    },
    {
      "cell_type": "code",
      "metadata": {
        "id": "QApoM5lahs0P"
      },
      "source": [
        "# most important features for logistic regression model -> abs value of coefs\n"
      ],
      "execution_count": null,
      "outputs": []
    },
    {
      "cell_type": "markdown",
      "metadata": {
        "id": "NoWyOxbc0uZ-"
      },
      "source": [
        "# Imbalanced Classification with XGBoost"
      ]
    },
    {
      "cell_type": "markdown",
      "metadata": {
        "id": "-DjCfCh704q0"
      },
      "source": [
        "explain what you're going to do and why"
      ]
    },
    {
      "cell_type": "code",
      "metadata": {
        "id": "9ei8CA1w03rs"
      },
      "source": [
        "from sklearn.model_selection import cross_val_score\n",
        "from sklearn.model_selection import RepeatedStratifiedKFold\n",
        "from xgboost import XGBClassifier"
      ],
      "execution_count": null,
      "outputs": []
    },
    {
      "cell_type": "code",
      "metadata": {
        "id": "I0s8mWdJI7dC",
        "colab": {
          "base_uri": "https://localhost:8080/",
          "height": 195
        },
        "outputId": "7cfac4d3-ce01-4235-ef72-e60a4c0b8641"
      },
      "source": [
        "xgb = XGBClassifier(scale_pos_weight=99)\n",
        "\n",
        "cv = RepeatedStratifiedKFold(n_splits=10, n_repeats=3, random_state=420)\n",
        "scores = cross_val_score(estimator=xgb, X=X_res, y=y_res, scoring='roc_auc', cv=cv, n_jobs=-1)"
      ],
      "execution_count": null,
      "outputs": [
        {
          "output_type": "error",
          "ename": "NameError",
          "evalue": "ignored",
          "traceback": [
            "\u001b[0;31m---------------------------------------------------------------------------\u001b[0m",
            "\u001b[0;31mNameError\u001b[0m                                 Traceback (most recent call last)",
            "\u001b[0;32m<ipython-input-33-c7160af80d8b>\u001b[0m in \u001b[0;36m<module>\u001b[0;34m()\u001b[0m\n\u001b[1;32m      3\u001b[0m \u001b[0mcv\u001b[0m \u001b[0;34m=\u001b[0m \u001b[0mRepeatedStratifiedKFold\u001b[0m\u001b[0;34m(\u001b[0m\u001b[0mn_splits\u001b[0m\u001b[0;34m=\u001b[0m\u001b[0;36m10\u001b[0m\u001b[0;34m,\u001b[0m \u001b[0mn_repeats\u001b[0m\u001b[0;34m=\u001b[0m\u001b[0;36m3\u001b[0m\u001b[0;34m,\u001b[0m \u001b[0mrandom_state\u001b[0m\u001b[0;34m=\u001b[0m\u001b[0;36m420\u001b[0m\u001b[0;34m)\u001b[0m\u001b[0;34m\u001b[0m\u001b[0;34m\u001b[0m\u001b[0m\n\u001b[1;32m      4\u001b[0m \u001b[0mscores\u001b[0m \u001b[0;34m=\u001b[0m \u001b[0mcross_val_score\u001b[0m\u001b[0;34m(\u001b[0m\u001b[0mestimator\u001b[0m\u001b[0;34m=\u001b[0m\u001b[0mxgb\u001b[0m\u001b[0;34m,\u001b[0m \u001b[0mX\u001b[0m\u001b[0;34m=\u001b[0m\u001b[0mX_res\u001b[0m\u001b[0;34m,\u001b[0m \u001b[0my\u001b[0m\u001b[0;34m=\u001b[0m\u001b[0my_res\u001b[0m\u001b[0;34m,\u001b[0m \u001b[0mscoring\u001b[0m\u001b[0;34m=\u001b[0m\u001b[0;34m'roc_auc'\u001b[0m\u001b[0;34m,\u001b[0m \u001b[0mcv\u001b[0m\u001b[0;34m=\u001b[0m\u001b[0mcv\u001b[0m\u001b[0;34m,\u001b[0m \u001b[0mn_jobs\u001b[0m\u001b[0;34m=\u001b[0m\u001b[0;34m-\u001b[0m\u001b[0;36m1\u001b[0m\u001b[0;34m)\u001b[0m\u001b[0;34m\u001b[0m\u001b[0;34m\u001b[0m\u001b[0m\n\u001b[0;32m----> 5\u001b[0;31m \u001b[0mprint\u001b[0m\u001b[0;34m(\u001b[0m\u001b[0;34m'Mean ROC AUC: %.5f'\u001b[0m \u001b[0;34m%\u001b[0m \u001b[0mmean\u001b[0m\u001b[0;34m(\u001b[0m\u001b[0mscores\u001b[0m\u001b[0;34m)\u001b[0m\u001b[0;34m)\u001b[0m\u001b[0;34m\u001b[0m\u001b[0;34m\u001b[0m\u001b[0m\n\u001b[0m",
            "\u001b[0;31mNameError\u001b[0m: name 'mean' is not defined"
          ]
        }
      ]
    },
    {
      "cell_type": "code",
      "metadata": {
        "id": "iwmKQfWITWBf"
      },
      "source": [
        "from numpy import mean"
      ],
      "execution_count": null,
      "outputs": []
    },
    {
      "cell_type": "code",
      "metadata": {
        "id": "4bK8DntITYvy",
        "colab": {
          "base_uri": "https://localhost:8080/"
        },
        "outputId": "b14e4e2c-2c08-432c-df3d-27699d5e1a85"
      },
      "source": [
        "print('Mean ROC AUC: %.5f' % mean(scores))"
      ],
      "execution_count": null,
      "outputs": [
        {
          "output_type": "stream",
          "text": [
            "Mean ROC AUC: 0.99759\n"
          ],
          "name": "stdout"
        }
      ]
    },
    {
      "cell_type": "markdown",
      "metadata": {
        "id": "cULtJ0_GFkIJ"
      },
      "source": [
        "# Imbalanced Classification with CatBoost"
      ]
    },
    {
      "cell_type": "code",
      "metadata": {
        "id": "FQNVfDqk_xq0"
      },
      "source": [
        ""
      ],
      "execution_count": null,
      "outputs": []
    },
    {
      "cell_type": "markdown",
      "metadata": {
        "id": "i2kiF2xkFkUx"
      },
      "source": [
        "# Conclusions"
      ]
    },
    {
      "cell_type": "markdown",
      "metadata": {
        "id": "GbMfrloSFn1K"
      },
      "source": [
        "explain which model you chose and evaluate + interpret the model performance + most important features for the model\n"
      ]
    }
  ]
}