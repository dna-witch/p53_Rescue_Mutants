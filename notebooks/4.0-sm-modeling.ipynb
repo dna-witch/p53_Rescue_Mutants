{
 "cells": [
  {
   "cell_type": "markdown",
   "metadata": {},
   "source": [
    "<div class=\"alert-danger\">\n",
    "Red colored boxes mean that the documentation is outdated and needs to be changed/replaced.\n",
    "</div>"
   ]
  },
  {
   "cell_type": "markdown",
   "metadata": {},
   "source": [
    "<div class=\"alert-warning\">\n",
    "Yellow colored boxes mean that the documentation is incomplete and needs to be finished.\n",
    "</div>"
   ]
  },
  {
   "cell_type": "markdown",
   "metadata": {},
   "source": [
    "<div class=\"alert-info\">\n",
    "Blue colored boxes are placeholders for optional additions that would improve and polish the notebook.\n",
    "</div>"
   ]
  },
  {
   "cell_type": "markdown",
   "metadata": {},
   "source": [
    "# Table of Contents"
   ]
  },
  {
   "cell_type": "markdown",
   "metadata": {},
   "source": [
    "<div class=\"alert-info\">\n",
    "Add a table of contents to make this notebook easy to navigate.\n",
    "</div>"
   ]
  },
  {
   "cell_type": "markdown",
   "metadata": {},
   "source": [
    "## Import Necessary Libraries and Packages"
   ]
  },
  {
   "cell_type": "code",
   "execution_count": 1,
   "metadata": {},
   "outputs": [],
   "source": [
    "import pandas as pd\n",
    "import matplotlib.pyplot as plt\n",
    "import numpy as np\n",
    "import zipfile\n",
    "import os\n",
    "import statistics\n",
    "import seaborn as sns\n",
    "\n",
    "%matplotlib inline"
   ]
  },
  {
   "cell_type": "markdown",
   "metadata": {},
   "source": [
    "## Load the Preprocessed Data"
   ]
  },
  {
   "cell_type": "code",
   "execution_count": 2,
   "metadata": {},
   "outputs": [],
   "source": [
    "# load in dataset from local directory\n",
    "#df = pd.read_csv('../data/processed/lin_filtered_data.csv', header=None, low_memory=False)"
   ]
  },
  {
   "cell_type": "code",
   "execution_count": null,
   "metadata": {},
   "outputs": [],
   "source": [
    "# clone github repository containing the preprocessed data\n",
    "! git clone https://github.com/dna-witch/ml-datasets.git"
   ]
  },
  {
   "cell_type": "code",
   "execution_count": null,
   "metadata": {},
   "outputs": [],
   "source": [
    "# take a look at the files in the cloned repo\n",
    "! dir"
   ]
  },
  {
   "cell_type": "code",
   "execution_count": null,
   "metadata": {},
   "outputs": [],
   "source": [
    "# load preprocessed data file from cloned repo using the compression zip\n",
    "df = pd.read_csv('lin_filtered_data.zip', compression='zip', header=None, low_memory=False)"
   ]
  },
  {
   "cell_type": "code",
   "execution_count": 3,
   "metadata": {},
   "outputs": [
    {
     "data": {
      "text/html": [
       "<div>\n",
       "<style scoped>\n",
       "    .dataframe tbody tr th:only-of-type {\n",
       "        vertical-align: middle;\n",
       "    }\n",
       "\n",
       "    .dataframe tbody tr th {\n",
       "        vertical-align: top;\n",
       "    }\n",
       "\n",
       "    .dataframe thead th {\n",
       "        text-align: right;\n",
       "    }\n",
       "</style>\n",
       "<table border=\"1\" class=\"dataframe\">\n",
       "  <thead>\n",
       "    <tr style=\"text-align: right;\">\n",
       "      <th></th>\n",
       "      <th>0</th>\n",
       "      <th>1</th>\n",
       "      <th>2</th>\n",
       "      <th>3</th>\n",
       "      <th>4</th>\n",
       "      <th>5</th>\n",
       "      <th>6</th>\n",
       "      <th>7</th>\n",
       "      <th>8</th>\n",
       "      <th>9</th>\n",
       "      <th>...</th>\n",
       "      <th>334</th>\n",
       "      <th>335</th>\n",
       "      <th>336</th>\n",
       "      <th>337</th>\n",
       "      <th>338</th>\n",
       "      <th>339</th>\n",
       "      <th>340</th>\n",
       "      <th>341</th>\n",
       "      <th>342</th>\n",
       "      <th>343</th>\n",
       "    </tr>\n",
       "  </thead>\n",
       "  <tbody>\n",
       "    <tr>\n",
       "      <th>0</th>\n",
       "      <td>-0.031</td>\n",
       "      <td>-0.024</td>\n",
       "      <td>-0.021</td>\n",
       "      <td>-4.109</td>\n",
       "      <td>0.003</td>\n",
       "      <td>-0.103000</td>\n",
       "      <td>2.551</td>\n",
       "      <td>3.024</td>\n",
       "      <td>-0.442</td>\n",
       "      <td>-0.001</td>\n",
       "      <td>...</td>\n",
       "      <td>0.030</td>\n",
       "      <td>-0.028</td>\n",
       "      <td>-0.033</td>\n",
       "      <td>0.046</td>\n",
       "      <td>0.058</td>\n",
       "      <td>-0.087</td>\n",
       "      <td>0.035</td>\n",
       "      <td>-0.007</td>\n",
       "      <td>False</td>\n",
       "      <td>a119e_l125p</td>\n",
       "    </tr>\n",
       "    <tr>\n",
       "      <th>1</th>\n",
       "      <td>-0.019</td>\n",
       "      <td>0.006</td>\n",
       "      <td>-0.038</td>\n",
       "      <td>-4.111</td>\n",
       "      <td>0.006</td>\n",
       "      <td>-0.054667</td>\n",
       "      <td>-0.002</td>\n",
       "      <td>2.952</td>\n",
       "      <td>-0.366</td>\n",
       "      <td>0.009</td>\n",
       "      <td>...</td>\n",
       "      <td>0.005</td>\n",
       "      <td>-0.018</td>\n",
       "      <td>-0.016</td>\n",
       "      <td>0.021</td>\n",
       "      <td>0.047</td>\n",
       "      <td>-0.035</td>\n",
       "      <td>0.011</td>\n",
       "      <td>0.005</td>\n",
       "      <td>False</td>\n",
       "      <td>a119e_r283k_a353v</td>\n",
       "    </tr>\n",
       "    <tr>\n",
       "      <th>2</th>\n",
       "      <td>-0.036</td>\n",
       "      <td>-0.056</td>\n",
       "      <td>-0.033</td>\n",
       "      <td>-4.107</td>\n",
       "      <td>-0.012</td>\n",
       "      <td>-0.099333</td>\n",
       "      <td>-0.002</td>\n",
       "      <td>3.031</td>\n",
       "      <td>-0.089</td>\n",
       "      <td>-0.019</td>\n",
       "      <td>...</td>\n",
       "      <td>0.028</td>\n",
       "      <td>-0.033</td>\n",
       "      <td>-0.038</td>\n",
       "      <td>0.044</td>\n",
       "      <td>0.074</td>\n",
       "      <td>-0.076</td>\n",
       "      <td>0.036</td>\n",
       "      <td>-0.018</td>\n",
       "      <td>False</td>\n",
       "      <td>c135y</td>\n",
       "    </tr>\n",
       "    <tr>\n",
       "      <th>3</th>\n",
       "      <td>-0.058</td>\n",
       "      <td>-0.116</td>\n",
       "      <td>-0.039</td>\n",
       "      <td>-4.106</td>\n",
       "      <td>-0.038</td>\n",
       "      <td>-0.134333</td>\n",
       "      <td>-0.017</td>\n",
       "      <td>-0.033</td>\n",
       "      <td>-0.056</td>\n",
       "      <td>-0.046</td>\n",
       "      <td>...</td>\n",
       "      <td>0.053</td>\n",
       "      <td>-0.050</td>\n",
       "      <td>-0.061</td>\n",
       "      <td>0.061</td>\n",
       "      <td>0.126</td>\n",
       "      <td>-0.124</td>\n",
       "      <td>0.059</td>\n",
       "      <td>-0.049</td>\n",
       "      <td>False</td>\n",
       "      <td>c135y_e285m</td>\n",
       "    </tr>\n",
       "    <tr>\n",
       "      <th>4</th>\n",
       "      <td>-0.011</td>\n",
       "      <td>0.012</td>\n",
       "      <td>-0.037</td>\n",
       "      <td>-4.110</td>\n",
       "      <td>0.011</td>\n",
       "      <td>-0.057333</td>\n",
       "      <td>0.000</td>\n",
       "      <td>2.974</td>\n",
       "      <td>-0.362</td>\n",
       "      <td>0.017</td>\n",
       "      <td>...</td>\n",
       "      <td>0.005</td>\n",
       "      <td>-0.013</td>\n",
       "      <td>-0.008</td>\n",
       "      <td>0.016</td>\n",
       "      <td>0.024</td>\n",
       "      <td>-0.035</td>\n",
       "      <td>0.009</td>\n",
       "      <td>0.013</td>\n",
       "      <td>False</td>\n",
       "      <td>c135y_e285v</td>\n",
       "    </tr>\n",
       "  </tbody>\n",
       "</table>\n",
       "<p>5 rows × 344 columns</p>\n",
       "</div>"
      ],
      "text/plain": [
       "     0      1      2      3      4         5      6      7      8      9    \\\n",
       "0 -0.031 -0.024 -0.021 -4.109  0.003 -0.103000  2.551  3.024 -0.442 -0.001   \n",
       "1 -0.019  0.006 -0.038 -4.111  0.006 -0.054667 -0.002  2.952 -0.366  0.009   \n",
       "2 -0.036 -0.056 -0.033 -4.107 -0.012 -0.099333 -0.002  3.031 -0.089 -0.019   \n",
       "3 -0.058 -0.116 -0.039 -4.106 -0.038 -0.134333 -0.017 -0.033 -0.056 -0.046   \n",
       "4 -0.011  0.012 -0.037 -4.110  0.011 -0.057333  0.000  2.974 -0.362  0.017   \n",
       "\n",
       "   ...    334    335    336    337    338    339    340    341    342  \\\n",
       "0  ...  0.030 -0.028 -0.033  0.046  0.058 -0.087  0.035 -0.007  False   \n",
       "1  ...  0.005 -0.018 -0.016  0.021  0.047 -0.035  0.011  0.005  False   \n",
       "2  ...  0.028 -0.033 -0.038  0.044  0.074 -0.076  0.036 -0.018  False   \n",
       "3  ...  0.053 -0.050 -0.061  0.061  0.126 -0.124  0.059 -0.049  False   \n",
       "4  ...  0.005 -0.013 -0.008  0.016  0.024 -0.035  0.009  0.013  False   \n",
       "\n",
       "                 343  \n",
       "0        a119e_l125p  \n",
       "1  a119e_r283k_a353v  \n",
       "2              c135y  \n",
       "3        c135y_e285m  \n",
       "4        c135y_e285v  \n",
       "\n",
       "[5 rows x 344 columns]"
      ]
     },
     "execution_count": 3,
     "metadata": {},
     "output_type": "execute_result"
    }
   ],
   "source": [
    "df.head()"
   ]
  },
  {
   "cell_type": "markdown",
   "metadata": {},
   "source": [
    "#### Correlation Heatmap for All Features"
   ]
  },
  {
   "cell_type": "code",
   "execution_count": 4,
   "metadata": {},
   "outputs": [],
   "source": [
    "#plt.figure(figsize=(20, 20))\n",
    "#heatmap = sns.heatmap(df.corr(), annot=True)\n",
    "#heatmap.set_title('Correlation Heatmap', fontdict={'fontsize':18}, pad=12)"
   ]
  },
  {
   "cell_type": "markdown",
   "metadata": {},
   "source": [
    "<div class=\"alert-warning\">\n",
    "This heatmap shows ____\n",
    "</div>"
   ]
  },
  {
   "cell_type": "markdown",
   "metadata": {},
   "source": [
    "#### Pop Out Nametags Column"
   ]
  },
  {
   "cell_type": "code",
   "execution_count": 5,
   "metadata": {},
   "outputs": [
    {
     "data": {
      "text/plain": [
       "0              a119e_l125p\n",
       "1        a119e_r283k_a353v\n",
       "2                    c135y\n",
       "3              c135y_e285m\n",
       "4              c135y_e285v\n",
       "               ...        \n",
       "16586    y220c_t230c_n239y\n",
       "16587    y220c_y234f_n239l\n",
       "16588                y234c\n",
       "16589          y234c_a119e\n",
       "16590          y234f_n239l\n",
       "Name: 343, Length: 16591, dtype: object"
      ]
     },
     "execution_count": 5,
     "metadata": {},
     "output_type": "execute_result"
    }
   ],
   "source": [
    "nametags = df.pop(343)\n",
    "nametags"
   ]
  },
  {
   "cell_type": "code",
   "execution_count": 6,
   "metadata": {},
   "outputs": [
    {
     "data": {
      "text/html": [
       "<div>\n",
       "<style scoped>\n",
       "    .dataframe tbody tr th:only-of-type {\n",
       "        vertical-align: middle;\n",
       "    }\n",
       "\n",
       "    .dataframe tbody tr th {\n",
       "        vertical-align: top;\n",
       "    }\n",
       "\n",
       "    .dataframe thead th {\n",
       "        text-align: right;\n",
       "    }\n",
       "</style>\n",
       "<table border=\"1\" class=\"dataframe\">\n",
       "  <thead>\n",
       "    <tr style=\"text-align: right;\">\n",
       "      <th></th>\n",
       "      <th>0</th>\n",
       "      <th>1</th>\n",
       "      <th>2</th>\n",
       "      <th>3</th>\n",
       "      <th>4</th>\n",
       "      <th>5</th>\n",
       "      <th>6</th>\n",
       "      <th>7</th>\n",
       "      <th>8</th>\n",
       "      <th>9</th>\n",
       "      <th>...</th>\n",
       "      <th>333</th>\n",
       "      <th>334</th>\n",
       "      <th>335</th>\n",
       "      <th>336</th>\n",
       "      <th>337</th>\n",
       "      <th>338</th>\n",
       "      <th>339</th>\n",
       "      <th>340</th>\n",
       "      <th>341</th>\n",
       "      <th>activity</th>\n",
       "    </tr>\n",
       "  </thead>\n",
       "  <tbody>\n",
       "    <tr>\n",
       "      <th>0</th>\n",
       "      <td>-0.031</td>\n",
       "      <td>-0.024</td>\n",
       "      <td>-0.021</td>\n",
       "      <td>-4.109</td>\n",
       "      <td>0.003</td>\n",
       "      <td>-0.103000</td>\n",
       "      <td>2.551</td>\n",
       "      <td>3.024</td>\n",
       "      <td>-0.442</td>\n",
       "      <td>-0.001</td>\n",
       "      <td>...</td>\n",
       "      <td>0.050</td>\n",
       "      <td>0.030</td>\n",
       "      <td>-0.028</td>\n",
       "      <td>-0.033</td>\n",
       "      <td>0.046</td>\n",
       "      <td>0.058</td>\n",
       "      <td>-0.087</td>\n",
       "      <td>0.035</td>\n",
       "      <td>-0.007</td>\n",
       "      <td>False</td>\n",
       "    </tr>\n",
       "    <tr>\n",
       "      <th>1</th>\n",
       "      <td>-0.019</td>\n",
       "      <td>0.006</td>\n",
       "      <td>-0.038</td>\n",
       "      <td>-4.111</td>\n",
       "      <td>0.006</td>\n",
       "      <td>-0.054667</td>\n",
       "      <td>-0.002</td>\n",
       "      <td>2.952</td>\n",
       "      <td>-0.366</td>\n",
       "      <td>0.009</td>\n",
       "      <td>...</td>\n",
       "      <td>0.034</td>\n",
       "      <td>0.005</td>\n",
       "      <td>-0.018</td>\n",
       "      <td>-0.016</td>\n",
       "      <td>0.021</td>\n",
       "      <td>0.047</td>\n",
       "      <td>-0.035</td>\n",
       "      <td>0.011</td>\n",
       "      <td>0.005</td>\n",
       "      <td>False</td>\n",
       "    </tr>\n",
       "    <tr>\n",
       "      <th>2</th>\n",
       "      <td>-0.036</td>\n",
       "      <td>-0.056</td>\n",
       "      <td>-0.033</td>\n",
       "      <td>-4.107</td>\n",
       "      <td>-0.012</td>\n",
       "      <td>-0.099333</td>\n",
       "      <td>-0.002</td>\n",
       "      <td>3.031</td>\n",
       "      <td>-0.089</td>\n",
       "      <td>-0.019</td>\n",
       "      <td>...</td>\n",
       "      <td>0.053</td>\n",
       "      <td>0.028</td>\n",
       "      <td>-0.033</td>\n",
       "      <td>-0.038</td>\n",
       "      <td>0.044</td>\n",
       "      <td>0.074</td>\n",
       "      <td>-0.076</td>\n",
       "      <td>0.036</td>\n",
       "      <td>-0.018</td>\n",
       "      <td>False</td>\n",
       "    </tr>\n",
       "    <tr>\n",
       "      <th>3</th>\n",
       "      <td>-0.058</td>\n",
       "      <td>-0.116</td>\n",
       "      <td>-0.039</td>\n",
       "      <td>-4.106</td>\n",
       "      <td>-0.038</td>\n",
       "      <td>-0.134333</td>\n",
       "      <td>-0.017</td>\n",
       "      <td>-0.033</td>\n",
       "      <td>-0.056</td>\n",
       "      <td>-0.046</td>\n",
       "      <td>...</td>\n",
       "      <td>0.076</td>\n",
       "      <td>0.053</td>\n",
       "      <td>-0.050</td>\n",
       "      <td>-0.061</td>\n",
       "      <td>0.061</td>\n",
       "      <td>0.126</td>\n",
       "      <td>-0.124</td>\n",
       "      <td>0.059</td>\n",
       "      <td>-0.049</td>\n",
       "      <td>False</td>\n",
       "    </tr>\n",
       "    <tr>\n",
       "      <th>4</th>\n",
       "      <td>-0.011</td>\n",
       "      <td>0.012</td>\n",
       "      <td>-0.037</td>\n",
       "      <td>-4.110</td>\n",
       "      <td>0.011</td>\n",
       "      <td>-0.057333</td>\n",
       "      <td>0.000</td>\n",
       "      <td>2.974</td>\n",
       "      <td>-0.362</td>\n",
       "      <td>0.017</td>\n",
       "      <td>...</td>\n",
       "      <td>0.024</td>\n",
       "      <td>0.005</td>\n",
       "      <td>-0.013</td>\n",
       "      <td>-0.008</td>\n",
       "      <td>0.016</td>\n",
       "      <td>0.024</td>\n",
       "      <td>-0.035</td>\n",
       "      <td>0.009</td>\n",
       "      <td>0.013</td>\n",
       "      <td>False</td>\n",
       "    </tr>\n",
       "  </tbody>\n",
       "</table>\n",
       "<p>5 rows × 343 columns</p>\n",
       "</div>"
      ],
      "text/plain": [
       "       0      1      2      3      4         5      6      7      8      9  \\\n",
       "0 -0.031 -0.024 -0.021 -4.109  0.003 -0.103000  2.551  3.024 -0.442 -0.001   \n",
       "1 -0.019  0.006 -0.038 -4.111  0.006 -0.054667 -0.002  2.952 -0.366  0.009   \n",
       "2 -0.036 -0.056 -0.033 -4.107 -0.012 -0.099333 -0.002  3.031 -0.089 -0.019   \n",
       "3 -0.058 -0.116 -0.039 -4.106 -0.038 -0.134333 -0.017 -0.033 -0.056 -0.046   \n",
       "4 -0.011  0.012 -0.037 -4.110  0.011 -0.057333  0.000  2.974 -0.362  0.017   \n",
       "\n",
       "   ...    333    334    335    336    337    338    339    340    341  \\\n",
       "0  ...  0.050  0.030 -0.028 -0.033  0.046  0.058 -0.087  0.035 -0.007   \n",
       "1  ...  0.034  0.005 -0.018 -0.016  0.021  0.047 -0.035  0.011  0.005   \n",
       "2  ...  0.053  0.028 -0.033 -0.038  0.044  0.074 -0.076  0.036 -0.018   \n",
       "3  ...  0.076  0.053 -0.050 -0.061  0.061  0.126 -0.124  0.059 -0.049   \n",
       "4  ...  0.024  0.005 -0.013 -0.008  0.016  0.024 -0.035  0.009  0.013   \n",
       "\n",
       "   activity  \n",
       "0     False  \n",
       "1     False  \n",
       "2     False  \n",
       "3     False  \n",
       "4     False  \n",
       "\n",
       "[5 rows x 343 columns]"
      ]
     },
     "execution_count": 6,
     "metadata": {},
     "output_type": "execute_result"
    }
   ],
   "source": [
    "df.rename({342: 'activity'}, axis='columns', inplace=True)\n",
    "df.head()"
   ]
  },
  {
   "cell_type": "markdown",
   "metadata": {},
   "source": [
    "# Model 1: Random Forest"
   ]
  },
  {
   "cell_type": "markdown",
   "metadata": {},
   "source": [
    "The first classification model that I'll be using is a Random Forest Classifier with two different methods of hyperparameter optimization: RandomSearch and Bayesian Optimization."
   ]
  },
  {
   "cell_type": "code",
   "execution_count": 7,
   "metadata": {},
   "outputs": [],
   "source": [
    "# import from sklearn\n",
    "from sklearn.metrics import precision_recall_curve\n",
    "from sklearn.metrics import f1_score\n",
    "from sklearn.metrics import auc\n",
    "from sklearn.metrics import classification_report,confusion_matrix,roc_curve,roc_auc_score\n",
    "from sklearn.metrics import accuracy_score,log_loss"
   ]
  },
  {
   "cell_type": "markdown",
   "metadata": {},
   "source": [
    "### Create Train/Test Split"
   ]
  },
  {
   "cell_type": "code",
   "execution_count": 8,
   "metadata": {},
   "outputs": [],
   "source": [
    "from sklearn.model_selection import train_test_split\n",
    "\n",
    "# dont forget to define your X and y\n",
    "X = df.iloc[:, 0:341] # features\n",
    "y = df.activity # target variable\n",
    "\n",
    "feature_list = list(X.columns) # save feature names for later\n",
    "\n",
    "X_train, X_test, y_train, y_test = train_test_split(X, y, test_size=.2, random_state=420)"
   ]
  },
  {
   "cell_type": "markdown",
   "metadata": {},
   "source": [
    "### Scale Data to Prepare for Model Creation"
   ]
  },
  {
   "cell_type": "code",
   "execution_count": 9,
   "metadata": {},
   "outputs": [],
   "source": [
    "from sklearn.preprocessing import MaxAbsScaler\n",
    "\n",
    "# build scaler based on training data and apply it to test data to then also scale the test data\n",
    "scaler = MaxAbsScaler().fit(X_train)\n",
    "X_train_scaled=scaler.transform(X_train)\n",
    "X_test_scaled=scaler.transform(X_test)"
   ]
  },
  {
   "cell_type": "markdown",
   "metadata": {},
   "source": [
    "### Train and Fit the RandomForestClassifier Model"
   ]
  },
  {
   "cell_type": "code",
   "execution_count": 10,
   "metadata": {},
   "outputs": [
    {
     "name": "stdout",
     "output_type": "stream",
     "text": [
      "Random Forest: Accuracy=0.994\n",
      "Random Forest: f1-score=0.991\n"
     ]
    }
   ],
   "source": [
    "from sklearn.ensemble import RandomForestClassifier\n",
    "clf = RandomForestClassifier(n_estimators = 500, random_state=420, n_jobs=-1)\n",
    "\n",
    "model1 = clf.fit(X_train_scaled, y_train)\n",
    "y_pred = model1.predict(X_test_scaled)\n",
    "y_pred_prob = model1.predict_proba(X_test_scaled)\n",
    "lr_probs = y_pred_prob[:,1]\n",
    "ac = accuracy_score(y_test, y_pred)\n",
    "\n",
    "f1 = f1_score(y_test, y_pred, average='weighted')\n",
    "\n",
    "print('Random Forest: Accuracy=%.3f' % (ac))\n",
    "\n",
    "print('Random Forest: f1-score=%.3f' % (f1))"
   ]
  },
  {
   "cell_type": "markdown",
   "metadata": {},
   "source": [
    "The Random Forest classifier model shows an overall accuracy of 99.4% and an F1-score of 0.991 - both of which look very good, but are misleading! \n",
    "\n",
    "My guess is that this model has a high accuracy score due to overfitting. Random Forest Classifiers have a tendency to overfit, especially when there is a large number of trees (n_estimators). For this reason, I will use two different methods for hyperparameter optimization - RandomizedSearchCV and Bayesian Optimization - to train Random Forest Classifiers and then compare the results with this baseline model. In the next section, I will take a closer look at the model's performance."
   ]
  },
  {
   "cell_type": "markdown",
   "metadata": {},
   "source": [
    "### Evaluate Model Performance"
   ]
  },
  {
   "cell_type": "markdown",
   "metadata": {},
   "source": [
    "To evaluate my Random Forest Classifier, I will be visualizing the model's performance using a confusion matrix, and then use the classification report to view the precision, recall, and f1-scores for each category. The confusion matrix will give me an overall idea of the model's performance, while the classification report will help me understand my model's performance in a more nuanced way."
   ]
  },
  {
   "cell_type": "code",
   "execution_count": 11,
   "metadata": {},
   "outputs": [],
   "source": [
    "conf = confusion_matrix(y_test, y_pred).astype('float')"
   ]
  },
  {
   "cell_type": "code",
   "execution_count": 12,
   "metadata": {},
   "outputs": [],
   "source": [
    "conf = conf / conf.sum(axis=1)[:, np.newaxis]"
   ]
  },
  {
   "cell_type": "code",
   "execution_count": 13,
   "metadata": {},
   "outputs": [
    {
     "data": {
      "image/png": "[encoded data removed]",
      "text/plain": [
       "<Figure size 1152x720 with 2 Axes>"
      ]
     },
     "metadata": {
      "needs_background": "light"
     },
     "output_type": "display_data"
    }
   ],
   "source": [
    "#plot confusion matrix\n",
    "plt.figure(figsize=(16, 10))\n",
    "sns.heatmap(conf, annot=True, annot_kws={'size':10}, cmap=plt.cm.Greens, linewidths=0.2)\n",
    "sns.set(font_scale=1.5)\n",
    "\n",
    "_ = plt.xlabel('Predicted Activity')\n",
    "_ = plt.ylabel('True Activity')\n",
    "_ = plt.title('Confusion Matrix for Random Forest Model')\n",
    "plt.show()"
   ]
  },
  {
   "cell_type": "markdown",
   "metadata": {},
   "source": [
    "The 0's correspond to **inactive p53 proteins**, and the 1's correspond to **active p53 proteins**.\n",
    "\n",
    "This confusion matrix shows that my classifier had trouble classifying the active p53 proteins as active. On the other hand, my classifier did very well at correctly labeling *inactive* p53 proteins. This makes sense, as the data is very imbalanced with regards to inactive vs active protein data. There is much more data for inactive proteins in the dataset than for active proteins. I saw this imbalance in the data during the exploratory data analysis that was performed earlier. "
   ]
  },
  {
   "cell_type": "code",
   "execution_count": 14,
   "metadata": {},
   "outputs": [
    {
     "name": "stdout",
     "output_type": "stream",
     "text": [
      "              precision    recall  f1-score   support\n",
      "\n",
      "       False       0.99      1.00      1.00      3297\n",
      "        True       1.00      0.09      0.17        22\n",
      "\n",
      "    accuracy                           0.99      3319\n",
      "   macro avg       1.00      0.55      0.58      3319\n",
      "weighted avg       0.99      0.99      0.99      3319\n",
      "\n"
     ]
    }
   ],
   "source": [
    "print(classification_report(y_test, y_pred))"
   ]
  },
  {
   "cell_type": "markdown",
   "metadata": {},
   "source": [
    "The imbalance in the data is further confirmed by the low recall and low f1-scores for the \"True\" (aka \"Active\" p53) category. This is due to the low amount of \"True\" observations within the dataset, which does not allow the classifier enough data to learn how to predict the \"True\" class. This is a common problem with classifiers made with imbalanced data. \n",
    "\n",
    "To address this problem, I will oversample my minority class by generating synthetic data (SMOTE), which will create a more balanced dataset for my classifier model to learn from. I will also be combining this method with the Tomek Links undersampling method, which will create a clearer decision boundary for my binary classifier."
   ]
  },
  {
   "cell_type": "markdown",
   "metadata": {},
   "source": [
    "Before I move on, however, I am going to visualize the top 10 feature importances from this Random Forest classifier, so that I can compare these results with those of following models:"
   ]
  },
  {
   "cell_type": "code",
   "execution_count": 15,
   "metadata": {},
   "outputs": [
    {
     "data": {
      "image/png": "[encoded data removed]",
      "text/plain": [
       "<Figure size 432x288 with 1 Axes>"
      ]
     },
     "metadata": {},
     "output_type": "display_data"
    }
   ],
   "source": [
    "feature_importances = pd.Series(model1.feature_importances_, index=feature_list)\n",
    "_ = feature_importances.nlargest(10).plot(kind='barh', color=['royalblue', 'orange', 'green', 'tab:red', 'blueviolet', 'tab:brown', 'tab:pink', 'tab:gray', 'tab:olive', 'tab:cyan']).invert_yaxis()\n",
    "\n",
    "_ = plt.ylabel('Feature Numbers')\n",
    "_ = plt.xlabel('Importances')\n",
    "_ = plt.title('Top 10 Feature Importances for Random Forest Classifier Model')\n",
    "plt.show()"
   ]
  },
  {
   "cell_type": "markdown",
   "metadata": {},
   "source": [
    "Looks like the **most importance features** for this Random Forest Classifier model are: **236, 122, 121, 74, 238, 256, 257, 117, 123, and 10**. \n",
    "\n",
    "Interestingly enough, these are all 2D features!"
   ]
  },
  {
   "cell_type": "markdown",
   "metadata": {},
   "source": [
    "# Model 2: Random Forest with Oversampling/Undersampling and Randomized Search"
   ]
  },
  {
   "cell_type": "markdown",
   "metadata": {},
   "source": [
    "## Balance the Imbalanced Classes with SMOTETomek"
   ]
  },
  {
   "cell_type": "markdown",
   "metadata": {},
   "source": [
    "SMOTE is an oversampling method that interpolates synthetic observations between the existing ones in the dataset. Tomek Links are pairs of nearest neighbors that have different classes, which in this case, are instances of the majority and minority class that are next to each other. Tomek Links are used for undersampling the majority class by getting rid of those observations which are next to the minority class examples, thus creating a more distinct decision boundary for the classifier.\n",
    "\n",
    "SMOTETomek is a combined method that oversamples the minority class and undersamples the majority class. This method is preferable to using SMOTE by itself since it cleans up the noise that SMOTE tends to create in the sample space."
   ]
  },
  {
   "cell_type": "code",
   "execution_count": 16,
   "metadata": {},
   "outputs": [],
   "source": [
    "# import imblearn libraries for SMOTETomek\n",
    "from imblearn.over_sampling import SMOTE\n",
    "from imblearn.under_sampling import TomekLinks\n",
    "from imblearn.combine import SMOTETomek"
   ]
  },
  {
   "cell_type": "code",
   "execution_count": 17,
   "metadata": {},
   "outputs": [],
   "source": [
    "# define the resampler, smt\n",
    "# oversample minority class, undersample majority class\n",
    "smt = SMOTETomek(random_state=420, smote=SMOTE(sampling_strategy='minority'), tomek=TomekLinks(sampling_strategy='majority'), n_jobs=-1)\n",
    "\n",
    "# resample the training dataset\n",
    "X_res, y_res = smt.fit_resample(X_train_scaled, y_train) # only for training data!!"
   ]
  },
  {
   "cell_type": "code",
   "execution_count": 18,
   "metadata": {},
   "outputs": [
    {
     "data": {
      "image/png": "[encoded data removed]",
      "text/plain": [
       "<Figure size 1152x576 with 1 Axes>"
      ]
     },
     "metadata": {},
     "output_type": "display_data"
    }
   ],
   "source": [
    "# visualize the two classes with a barchart to confirm balance\n",
    "plt.figure(figsize=(16, 8))\n",
    "\n",
    "_ = y_res.value_counts().plot(kind='barh', color=['lightcoral', 'cornflowerblue'])\n",
    "_ = plt.xlabel('Classes')\n",
    "_ = plt.ylabel('Counts')\n",
    "_ = plt.title('Balance of Resampled Training Data')\n",
    "\n",
    "plt.show()"
   ]
  },
  {
   "cell_type": "markdown",
   "metadata": {},
   "source": [
    "<div class=\"alert-warning\">\n",
    "Question: Should I perform the resampling on the whole dataset and train models on that or should I only resample the training set?\n",
    "</div>"
   ]
  },
  {
   "cell_type": "markdown",
   "metadata": {},
   "source": [
    "<div class=\"alert-warning\">\n",
    "The results of the resampling are ______\n",
    "</div>"
   ]
  },
  {
   "cell_type": "code",
   "execution_count": 19,
   "metadata": {},
   "outputs": [
    {
     "name": "stdout",
     "output_type": "stream",
     "text": [
      "0.9928497033155376\n"
     ]
    }
   ],
   "source": [
    "# run a baseline Random Forest model with the resampled data and call it model2\n",
    "\n",
    "model2 = clf.fit(X_res, y_res) # use X_res and y_res instead of X_train_scaled and y_train\n",
    "y_pred = model2.predict(X_test_scaled)\n",
    "y_pred_prob = model2.predict_proba(X_test_scaled)\n",
    "lr_probs = y_pred_prob[:,1]\n",
    "ac = accuracy_score(y_test, y_pred)\n",
    "\n",
    "f1 = f1_score(y_test, y_pred, average='weighted')\n",
    "print(f1)"
   ]
  },
  {
   "cell_type": "code",
   "execution_count": 20,
   "metadata": {},
   "outputs": [
    {
     "name": "stdout",
     "output_type": "stream",
     "text": [
      "              precision    recall  f1-score   support\n",
      "\n",
      "       False       1.00      1.00      1.00      3297\n",
      "        True       0.60      0.27      0.37        22\n",
      "\n",
      "    accuracy                           0.99      3319\n",
      "   macro avg       0.80      0.64      0.69      3319\n",
      "weighted avg       0.99      0.99      0.99      3319\n",
      "\n"
     ]
    }
   ],
   "source": [
    "# classification report for model 2\n",
    "print(classification_report(y_test, y_pred))"
   ]
  },
  {
   "cell_type": "markdown",
   "metadata": {},
   "source": [
    "<div class=\"alert-warning\">\n",
    "[Interpret the classification report results for model2 here]\n",
    "</div>"
   ]
  },
  {
   "cell_type": "code",
   "execution_count": 27,
   "metadata": {},
   "outputs": [
    {
     "data": {
      "image/png": "[encoded data removed]",
      "text/plain": [
       "<Figure size 1152x720 with 2 Axes>"
      ]
     },
     "metadata": {},
     "output_type": "display_data"
    }
   ],
   "source": [
    "# plot confusion matrix for model 2\n",
    "conf2 = confusion_matrix(y_test, y_pred).astype('float')\n",
    "conf2 = conf2 / conf2.sum(axis=1)[:, np.newaxis]\n",
    "\n",
    "plt.figure(figsize=(16, 10))\n",
    "sns.heatmap(conf2, annot=True, annot_kws={'size':10}, cmap=plt.cm.Greens, linewidths=0.2)\n",
    "sns.set(font_scale=1.5)\n",
    "\n",
    "_ = plt.xlabel('Predicted Activity')\n",
    "_ = plt.ylabel('True Activity')\n",
    "_ = plt.title('Confusion Matrix for Random Forest Model 2')\n",
    "plt.show()"
   ]
  },
  {
   "cell_type": "markdown",
   "metadata": {},
   "source": [
    "### Increase Weights on the Minority Class"
   ]
  },
  {
   "cell_type": "code",
   "execution_count": 22,
   "metadata": {},
   "outputs": [],
   "source": [
    "# add class weights in favor of the minority (False/Inactive) class and run Random Forest model\n",
    "# model3, clf2\n",
    "\n",
    "clf2 = RandomForestClassifier(n_estimators = 500, class_weight={0:1, 1:10}, random_state=420, n_jobs=-1)\n",
    "\n",
    "\n",
    "model3 = clf2.fit(X_res, y_res) # use X_res and y_res instead of X_train_scaled and y_train\n",
    "y_pred = model3.predict(X_test_scaled)\n",
    "y_pred_prob = model3.predict_proba(X_test_scaled)\n",
    "lr_probs = y_pred_prob[:,1]\n",
    "ac = accuracy_score(y_test, y_pred)\n",
    "\n",
    "f1 = f1_score(y_test, y_pred, average='weighted')"
   ]
  },
  {
   "cell_type": "code",
   "execution_count": 23,
   "metadata": {},
   "outputs": [
    {
     "name": "stdout",
     "output_type": "stream",
     "text": [
      "              precision    recall  f1-score   support\n",
      "\n",
      "       False       1.00      0.99      0.99      3297\n",
      "        True       0.25      0.27      0.26        22\n",
      "\n",
      "    accuracy                           0.99      3319\n",
      "   macro avg       0.62      0.63      0.63      3319\n",
      "weighted avg       0.99      0.99      0.99      3319\n",
      "\n"
     ]
    }
   ],
   "source": [
    "# classification report for model 3\n",
    "print(classification_report(y_test, y_pred))"
   ]
  },
  {
   "cell_type": "markdown",
   "metadata": {},
   "source": [
    "<div class=\"alert-warning\">\n",
    "[Interpret the classification report results for model 3 here]\n",
    "</div>"
   ]
  },
  {
   "cell_type": "markdown",
   "metadata": {},
   "source": [
    "## Hyperparameter Tuning with Randomized Search"
   ]
  },
  {
   "cell_type": "markdown",
   "metadata": {},
   "source": [
    "Let's start by taking a look at the parameters used by the previous Random Forest model:"
   ]
  },
  {
   "cell_type": "code",
   "execution_count": 24,
   "metadata": {},
   "outputs": [
    {
     "name": "stdout",
     "output_type": "stream",
     "text": [
      "Current Random Forest Parameters:\n",
      "  {'bootstrap': True, 'ccp_alpha': 0.0, 'class_weight': None, 'criterion': 'gini', 'max_depth': None, 'max_features': 'auto', 'max_leaf_nodes': None, 'max_samples': None, 'min_impurity_decrease': 0.0, 'min_impurity_split': None, 'min_samples_leaf': 1, 'min_samples_split': 2, 'min_weight_fraction_leaf': 0.0, 'n_estimators': 500, 'n_jobs': -1, 'oob_score': False, 'random_state': 420, 'verbose': 0, 'warm_start': False}\n"
     ]
    }
   ],
   "source": [
    "print('Current Random Forest Parameters:\\n ', clf.get_params())"
   ]
  },
  {
   "cell_type": "markdown",
   "metadata": {},
   "source": [
    "<div class=\"alert-danger\">\n",
    "\n",
    "Out of these parameters, I will be focusing on the tuning the following:\n",
    "\n",
    "+ class_weight: class weights affect how the model is penalized for misclassifying examples of each class\n",
    "+ max_depth: max levels for each individual decision tree\n",
    "+ max_features: max number of features considered when splitting a node\n",
    "+ min_samples_split: minimum number of samples required to split a node\n",
    "+ min_samples_leaf: minimum number of samples required at each leaf\n",
    "    \n",
    "</div>"
   ]
  },
  {
   "cell_type": "markdown",
   "metadata": {},
   "source": [
    "<div class=\"alert-warning\">\n",
    "I will also be testing both 'gini' and 'entropy' for the node splitting criteria.\n",
    "</div>"
   ]
  },
  {
   "cell_type": "markdown",
   "metadata": {},
   "source": [
    "<div class=\"alert-warning\">\n",
    "I will not be tuning the n_estimators or max_depth parameters using Randomized Search.\n",
    "\n",
    "</div>"
   ]
  },
  {
   "cell_type": "code",
   "execution_count": 25,
   "metadata": {},
   "outputs": [],
   "source": [
    "from sklearn.model_selection import RandomizedSearchCV\n",
    "\n",
    "# class_weight\n",
    "class_weights = [{0:1, 1:2}, {0:1, 1:5}, {0:1, 1:10}]\n",
    "\n",
    "# max_features\n",
    "max_features=['auto', 'sqrt']\n",
    "max_features.append(None)\n",
    "\n",
    "# min_samples_split\n",
    "min_samples_split = [int(x) for x in np.linspace(2, 20, 10)]\n",
    "\n",
    "# min_samples_leaf\n",
    "min_samples_leaf = [int(x) for x in np.linspace(1, 20, 5)]"
   ]
  },
  {
   "cell_type": "code",
   "execution_count": 26,
   "metadata": {},
   "outputs": [],
   "source": [
    "# create the random parameter grid\n",
    "random_grid = {'class_weight': class_weights,\n",
    "               'max_features': max_features,\n",
    "               'min_samples_split': min_samples_split,\n",
    "               'min_samples_leaf': min_samples_leaf}"
   ]
  },
  {
   "cell_type": "code",
   "execution_count": null,
   "metadata": {},
   "outputs": [
    {
     "name": "stdout",
     "output_type": "stream",
     "text": [
      "Fitting 3 folds for each of 100 candidates, totalling 300 fits\n"
     ]
    }
   ],
   "source": [
    "# create a RandomForestClassifier to tune\n",
    "clf = RandomForestClassifier(n_estimators = 500, random_state=420, n_jobs=-1)\n",
    "\n",
    "# create random search model\n",
    "model4 = RandomizedSearchCV(estimator=clf, param_distributions=random_grid, n_iter=100, cv=3, verbose=2, random_state=420, n_jobs=-1)\n",
    "\n",
    "# fit random search model on resampled data\n",
    "model4.fit(X_res, y_res)"
   ]
  },
  {
   "cell_type": "code",
   "execution_count": null,
   "metadata": {},
   "outputs": [],
   "source": [
    "# view best hyperparameters from fitting the random search\n",
    "print(model4.best_params_)"
   ]
  },
  {
   "cell_type": "markdown",
   "metadata": {},
   "source": [
    "<div class=\"alert-danger\">\n",
    "The best parameters from the Randomized Search were:\n",
    "\n",
    "{'n_estimators': 673, 'min_samples_split': 2, 'min_samples_leaf': 1, 'max_features': 'sqrt', 'max_depth': None}\n",
    "\n",
    "To deal with the imbalance in the dataset, I will also be adding the class_weights parameter to the Random Forest Classifier and assigning more weights to the \"active\" class.\n",
    "</div>"
   ]
  },
  {
   "cell_type": "markdown",
   "metadata": {},
   "source": []
  },
  {
   "cell_type": "markdown",
   "metadata": {},
   "source": [
    "# Model 3: Random Forest with Bayesian Optimization"
   ]
  },
  {
   "cell_type": "code",
   "execution_count": null,
   "metadata": {},
   "outputs": [],
   "source": []
  }
 ],
 "metadata": {
  "kernelspec": {
   "display_name": "Python 3",
   "language": "python",
   "name": "python3"
  },
  "language_info": {
   "codemirror_mode": {
    "name": "ipython",
    "version": 3
   },
   "file_extension": ".py",
   "mimetype": "text/x-python",
   "name": "python",
   "nbconvert_exporter": "python",
   "pygments_lexer": "ipython3",
   "version": "3.8.3"
  }
 },
 "nbformat": 4,
 "nbformat_minor": 4
}
